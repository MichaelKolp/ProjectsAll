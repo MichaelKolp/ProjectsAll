{
 "cells": [
  {
   "cell_type": "markdown",
   "metadata": {},
   "source": [
    "**Сборный проект** \n",
    "\n",
    "**Анализ продаж игр, оценок пользователей и экспертов, жанров и платформ**\n",
    "\n",
    "Мы работаем в интернет-магазине «Стримчик», который продаёт по всему миру компьютерные игры. Из открытых источников доступны исторические данные о продажах игр, оценки пользователей и экспертов, жанры и платформы. Нам необходимо выявить определяющие успешность игры закономерности. Это позволит сделать ставку на потенциально популярный продукт и спланировать рекламные кампании."
   ]
  },
  {
   "cell_type": "markdown",
   "metadata": {},
   "source": [
    "**Шаг 1. Откройте файл с данными и изучите общую информацию**"
   ]
  },
  {
   "cell_type": "code",
   "execution_count": 1,
   "metadata": {},
   "outputs": [],
   "source": [
    "#импортируем необходимые библиотеки\n",
    "import pandas as pd\n",
    "import matplotlib.pyplot as plt\n",
    "import seaborn as sns\n",
    "import numpy as np\n",
    "from scipy import stats as st\n",
    "import warnings\n",
    "warnings.filterwarnings('ignore')"
   ]
  },
  {
   "cell_type": "code",
   "execution_count": 2,
   "metadata": {},
   "outputs": [
    {
     "data": {
      "text/html": [
       "<div>\n",
       "<style scoped>\n",
       "    .dataframe tbody tr th:only-of-type {\n",
       "        vertical-align: middle;\n",
       "    }\n",
       "\n",
       "    .dataframe tbody tr th {\n",
       "        vertical-align: top;\n",
       "    }\n",
       "\n",
       "    .dataframe thead th {\n",
       "        text-align: right;\n",
       "    }\n",
       "</style>\n",
       "<table border=\"1\" class=\"dataframe\">\n",
       "  <thead>\n",
       "    <tr style=\"text-align: right;\">\n",
       "      <th></th>\n",
       "      <th>Name</th>\n",
       "      <th>Platform</th>\n",
       "      <th>Year_of_Release</th>\n",
       "      <th>Genre</th>\n",
       "      <th>NA_sales</th>\n",
       "      <th>EU_sales</th>\n",
       "      <th>JP_sales</th>\n",
       "      <th>Other_sales</th>\n",
       "      <th>Critic_Score</th>\n",
       "      <th>User_Score</th>\n",
       "      <th>Rating</th>\n",
       "    </tr>\n",
       "  </thead>\n",
       "  <tbody>\n",
       "    <tr>\n",
       "      <th>0</th>\n",
       "      <td>Wii Sports</td>\n",
       "      <td>Wii</td>\n",
       "      <td>2006.0</td>\n",
       "      <td>Sports</td>\n",
       "      <td>41.36</td>\n",
       "      <td>28.96</td>\n",
       "      <td>3.77</td>\n",
       "      <td>8.45</td>\n",
       "      <td>76.0</td>\n",
       "      <td>8</td>\n",
       "      <td>E</td>\n",
       "    </tr>\n",
       "    <tr>\n",
       "      <th>1</th>\n",
       "      <td>Super Mario Bros.</td>\n",
       "      <td>NES</td>\n",
       "      <td>1985.0</td>\n",
       "      <td>Platform</td>\n",
       "      <td>29.08</td>\n",
       "      <td>3.58</td>\n",
       "      <td>6.81</td>\n",
       "      <td>0.77</td>\n",
       "      <td>NaN</td>\n",
       "      <td>NaN</td>\n",
       "      <td>NaN</td>\n",
       "    </tr>\n",
       "    <tr>\n",
       "      <th>2</th>\n",
       "      <td>Mario Kart Wii</td>\n",
       "      <td>Wii</td>\n",
       "      <td>2008.0</td>\n",
       "      <td>Racing</td>\n",
       "      <td>15.68</td>\n",
       "      <td>12.76</td>\n",
       "      <td>3.79</td>\n",
       "      <td>3.29</td>\n",
       "      <td>82.0</td>\n",
       "      <td>8.3</td>\n",
       "      <td>E</td>\n",
       "    </tr>\n",
       "    <tr>\n",
       "      <th>3</th>\n",
       "      <td>Wii Sports Resort</td>\n",
       "      <td>Wii</td>\n",
       "      <td>2009.0</td>\n",
       "      <td>Sports</td>\n",
       "      <td>15.61</td>\n",
       "      <td>10.93</td>\n",
       "      <td>3.28</td>\n",
       "      <td>2.95</td>\n",
       "      <td>80.0</td>\n",
       "      <td>8</td>\n",
       "      <td>E</td>\n",
       "    </tr>\n",
       "    <tr>\n",
       "      <th>4</th>\n",
       "      <td>Pokemon Red/Pokemon Blue</td>\n",
       "      <td>GB</td>\n",
       "      <td>1996.0</td>\n",
       "      <td>Role-Playing</td>\n",
       "      <td>11.27</td>\n",
       "      <td>8.89</td>\n",
       "      <td>10.22</td>\n",
       "      <td>1.00</td>\n",
       "      <td>NaN</td>\n",
       "      <td>NaN</td>\n",
       "      <td>NaN</td>\n",
       "    </tr>\n",
       "    <tr>\n",
       "      <th>5</th>\n",
       "      <td>Tetris</td>\n",
       "      <td>GB</td>\n",
       "      <td>1989.0</td>\n",
       "      <td>Puzzle</td>\n",
       "      <td>23.20</td>\n",
       "      <td>2.26</td>\n",
       "      <td>4.22</td>\n",
       "      <td>0.58</td>\n",
       "      <td>NaN</td>\n",
       "      <td>NaN</td>\n",
       "      <td>NaN</td>\n",
       "    </tr>\n",
       "    <tr>\n",
       "      <th>6</th>\n",
       "      <td>New Super Mario Bros.</td>\n",
       "      <td>DS</td>\n",
       "      <td>2006.0</td>\n",
       "      <td>Platform</td>\n",
       "      <td>11.28</td>\n",
       "      <td>9.14</td>\n",
       "      <td>6.50</td>\n",
       "      <td>2.88</td>\n",
       "      <td>89.0</td>\n",
       "      <td>8.5</td>\n",
       "      <td>E</td>\n",
       "    </tr>\n",
       "    <tr>\n",
       "      <th>7</th>\n",
       "      <td>Wii Play</td>\n",
       "      <td>Wii</td>\n",
       "      <td>2006.0</td>\n",
       "      <td>Misc</td>\n",
       "      <td>13.96</td>\n",
       "      <td>9.18</td>\n",
       "      <td>2.93</td>\n",
       "      <td>2.84</td>\n",
       "      <td>58.0</td>\n",
       "      <td>6.6</td>\n",
       "      <td>E</td>\n",
       "    </tr>\n",
       "    <tr>\n",
       "      <th>8</th>\n",
       "      <td>New Super Mario Bros. Wii</td>\n",
       "      <td>Wii</td>\n",
       "      <td>2009.0</td>\n",
       "      <td>Platform</td>\n",
       "      <td>14.44</td>\n",
       "      <td>6.94</td>\n",
       "      <td>4.70</td>\n",
       "      <td>2.24</td>\n",
       "      <td>87.0</td>\n",
       "      <td>8.4</td>\n",
       "      <td>E</td>\n",
       "    </tr>\n",
       "    <tr>\n",
       "      <th>9</th>\n",
       "      <td>Duck Hunt</td>\n",
       "      <td>NES</td>\n",
       "      <td>1984.0</td>\n",
       "      <td>Shooter</td>\n",
       "      <td>26.93</td>\n",
       "      <td>0.63</td>\n",
       "      <td>0.28</td>\n",
       "      <td>0.47</td>\n",
       "      <td>NaN</td>\n",
       "      <td>NaN</td>\n",
       "      <td>NaN</td>\n",
       "    </tr>\n",
       "  </tbody>\n",
       "</table>\n",
       "</div>"
      ],
      "text/plain": [
       "                        Name Platform  Year_of_Release         Genre  \\\n",
       "0                 Wii Sports      Wii           2006.0        Sports   \n",
       "1          Super Mario Bros.      NES           1985.0      Platform   \n",
       "2             Mario Kart Wii      Wii           2008.0        Racing   \n",
       "3          Wii Sports Resort      Wii           2009.0        Sports   \n",
       "4   Pokemon Red/Pokemon Blue       GB           1996.0  Role-Playing   \n",
       "5                     Tetris       GB           1989.0        Puzzle   \n",
       "6      New Super Mario Bros.       DS           2006.0      Platform   \n",
       "7                   Wii Play      Wii           2006.0          Misc   \n",
       "8  New Super Mario Bros. Wii      Wii           2009.0      Platform   \n",
       "9                  Duck Hunt      NES           1984.0       Shooter   \n",
       "\n",
       "   NA_sales  EU_sales  JP_sales  Other_sales  Critic_Score User_Score Rating  \n",
       "0     41.36     28.96      3.77         8.45          76.0          8      E  \n",
       "1     29.08      3.58      6.81         0.77           NaN        NaN    NaN  \n",
       "2     15.68     12.76      3.79         3.29          82.0        8.3      E  \n",
       "3     15.61     10.93      3.28         2.95          80.0          8      E  \n",
       "4     11.27      8.89     10.22         1.00           NaN        NaN    NaN  \n",
       "5     23.20      2.26      4.22         0.58           NaN        NaN    NaN  \n",
       "6     11.28      9.14      6.50         2.88          89.0        8.5      E  \n",
       "7     13.96      9.18      2.93         2.84          58.0        6.6      E  \n",
       "8     14.44      6.94      4.70         2.24          87.0        8.4      E  \n",
       "9     26.93      0.63      0.28         0.47           NaN        NaN    NaN  "
      ]
     },
     "metadata": {},
     "output_type": "display_data"
    }
   ],
   "source": [
    "#сохраненяем данные в переменную data\n",
    "data = pd.read_csv('/datasets/games.csv')\n",
    "#смотрим первые 10 строк таблицы\n",
    "display(data.head(10))"
   ]
  },
  {
   "cell_type": "code",
   "execution_count": 3,
   "metadata": {
    "scrolled": true
   },
   "outputs": [
    {
     "name": "stdout",
     "output_type": "stream",
     "text": [
      "<class 'pandas.core.frame.DataFrame'>\n",
      "RangeIndex: 16715 entries, 0 to 16714\n",
      "Data columns (total 11 columns):\n",
      " #   Column           Non-Null Count  Dtype  \n",
      "---  ------           --------------  -----  \n",
      " 0   Name             16713 non-null  object \n",
      " 1   Platform         16715 non-null  object \n",
      " 2   Year_of_Release  16446 non-null  float64\n",
      " 3   Genre            16713 non-null  object \n",
      " 4   NA_sales         16715 non-null  float64\n",
      " 5   EU_sales         16715 non-null  float64\n",
      " 6   JP_sales         16715 non-null  float64\n",
      " 7   Other_sales      16715 non-null  float64\n",
      " 8   Critic_Score     8137 non-null   float64\n",
      " 9   User_Score       10014 non-null  object \n",
      " 10  Rating           9949 non-null   object \n",
      "dtypes: float64(6), object(5)\n",
      "memory usage: 1.4+ MB\n"
     ]
    }
   ],
   "source": [
    "#смотрим типы данных\n",
    "data.info()"
   ]
  },
  {
   "cell_type": "code",
   "execution_count": 4,
   "metadata": {},
   "outputs": [
    {
     "data": {
      "text/plain": [
       "Name                  2\n",
       "Platform              0\n",
       "Year_of_Release     269\n",
       "Genre                 2\n",
       "NA_sales              0\n",
       "EU_sales              0\n",
       "JP_sales              0\n",
       "Other_sales           0\n",
       "Critic_Score       8578\n",
       "User_Score         6701\n",
       "Rating             6766\n",
       "dtype: int64"
      ]
     },
     "execution_count": 4,
     "metadata": {},
     "output_type": "execute_result"
    }
   ],
   "source": [
    "data.isna().sum()"
   ]
  },
  {
   "cell_type": "code",
   "execution_count": 5,
   "metadata": {},
   "outputs": [
    {
     "data": {
      "text/plain": [
       "array(['8', nan, '8.3', '8.5', '6.6', '8.4', '8.6', '7.7', '6.3', '7.4',\n",
       "       '8.2', '9', '7.9', '8.1', '8.7', '7.1', '3.4', '5.3', '4.8', '3.2',\n",
       "       '8.9', '6.4', '7.8', '7.5', '2.6', '7.2', '9.2', '7', '7.3', '4.3',\n",
       "       '7.6', '5.7', '5', '9.1', '6.5', 'tbd', '8.8', '6.9', '9.4', '6.8',\n",
       "       '6.1', '6.7', '5.4', '4', '4.9', '4.5', '9.3', '6.2', '4.2', '6',\n",
       "       '3.7', '4.1', '5.8', '5.6', '5.5', '4.4', '4.6', '5.9', '3.9',\n",
       "       '3.1', '2.9', '5.2', '3.3', '4.7', '5.1', '3.5', '2.5', '1.9', '3',\n",
       "       '2.7', '2.2', '2', '9.5', '2.1', '3.6', '2.8', '1.8', '3.8', '0',\n",
       "       '1.6', '9.6', '2.4', '1.7', '1.1', '0.3', '1.5', '0.7', '1.2',\n",
       "       '2.3', '0.5', '1.3', '0.2', '0.6', '1.4', '0.9', '1', '9.7'],\n",
       "      dtype=object)"
      ]
     },
     "execution_count": 5,
     "metadata": {},
     "output_type": "execute_result"
    }
   ],
   "source": [
    "data['User_Score'].unique()"
   ]
  },
  {
   "cell_type": "code",
   "execution_count": 6,
   "metadata": {},
   "outputs": [
    {
     "data": {
      "text/plain": [
       "array(['E', nan, 'M', 'T', 'E10+', 'K-A', 'AO', 'EC', 'RP'], dtype=object)"
      ]
     },
     "execution_count": 6,
     "metadata": {},
     "output_type": "execute_result"
    }
   ],
   "source": [
    "data['Rating'].unique()"
   ]
  },
  {
   "cell_type": "markdown",
   "metadata": {},
   "source": [
    "В данных присутствуют пропуски в различных столбцах. Пропуски в year of release могли быть допущены из-за ошибки при вводе данных. Отсутствия значений в оценках критиков и пользователей и рейтинге могли произойти из-за недостатка данных либо ошибке при вводе имеющихся данных. Также есть аномальные значения в User_Score (tbd) и Rating (K-A). Нужно привести названия столбцов к нижнему регистру. Также необходимо изменить тип данных Year_of_Release с float64 на int64, потому что это год, а User_Score с object на float, потому что для оценки вещественный тип данных более корректен для анализа."
   ]
  },
  {
   "cell_type": "markdown",
   "metadata": {},
   "source": [
    "**Подготовка данных**"
   ]
  },
  {
   "cell_type": "code",
   "execution_count": 7,
   "metadata": {},
   "outputs": [],
   "source": [
    "# переводим названия столбцов в нижний регистр\n",
    "data.columns=data.columns.str.lower() "
   ]
  },
  {
   "cell_type": "markdown",
   "metadata": {},
   "source": [
    "**Отработка пропусков**"
   ]
  },
  {
   "cell_type": "code",
   "execution_count": 8,
   "metadata": {},
   "outputs": [
    {
     "data": {
      "text/html": [
       "<div>\n",
       "<style scoped>\n",
       "    .dataframe tbody tr th:only-of-type {\n",
       "        vertical-align: middle;\n",
       "    }\n",
       "\n",
       "    .dataframe tbody tr th {\n",
       "        vertical-align: top;\n",
       "    }\n",
       "\n",
       "    .dataframe thead th {\n",
       "        text-align: right;\n",
       "    }\n",
       "</style>\n",
       "<table border=\"1\" class=\"dataframe\">\n",
       "  <thead>\n",
       "    <tr style=\"text-align: right;\">\n",
       "      <th></th>\n",
       "      <th>name</th>\n",
       "      <th>platform</th>\n",
       "      <th>year_of_release</th>\n",
       "      <th>genre</th>\n",
       "      <th>na_sales</th>\n",
       "      <th>eu_sales</th>\n",
       "      <th>jp_sales</th>\n",
       "      <th>other_sales</th>\n",
       "      <th>critic_score</th>\n",
       "      <th>user_score</th>\n",
       "      <th>rating</th>\n",
       "    </tr>\n",
       "  </thead>\n",
       "  <tbody>\n",
       "    <tr>\n",
       "      <th>659</th>\n",
       "      <td>NaN</td>\n",
       "      <td>GEN</td>\n",
       "      <td>1993.0</td>\n",
       "      <td>NaN</td>\n",
       "      <td>1.78</td>\n",
       "      <td>0.53</td>\n",
       "      <td>0.00</td>\n",
       "      <td>0.08</td>\n",
       "      <td>NaN</td>\n",
       "      <td>NaN</td>\n",
       "      <td>NaN</td>\n",
       "    </tr>\n",
       "    <tr>\n",
       "      <th>14244</th>\n",
       "      <td>NaN</td>\n",
       "      <td>GEN</td>\n",
       "      <td>1993.0</td>\n",
       "      <td>NaN</td>\n",
       "      <td>0.00</td>\n",
       "      <td>0.00</td>\n",
       "      <td>0.03</td>\n",
       "      <td>0.00</td>\n",
       "      <td>NaN</td>\n",
       "      <td>NaN</td>\n",
       "      <td>NaN</td>\n",
       "    </tr>\n",
       "  </tbody>\n",
       "</table>\n",
       "</div>"
      ],
      "text/plain": [
       "      name platform  year_of_release genre  na_sales  eu_sales  jp_sales  \\\n",
       "659    NaN      GEN           1993.0   NaN      1.78      0.53      0.00   \n",
       "14244  NaN      GEN           1993.0   NaN      0.00      0.00      0.03   \n",
       "\n",
       "       other_sales  critic_score user_score rating  \n",
       "659           0.08           NaN        NaN    NaN  \n",
       "14244         0.00           NaN        NaN    NaN  "
      ]
     },
     "execution_count": 8,
     "metadata": {},
     "output_type": "execute_result"
    }
   ],
   "source": [
    "data.loc[data['name'].isnull()]"
   ]
  },
  {
   "cell_type": "markdown",
   "metadata": {},
   "source": [
    "Пропуски наблюдаются у платформы Gen в 1993 году. Во многих колонках пропуск, и нет возможности эти пропуски заполнить.Удалим эти строки, чтобы они не искажали данные."
   ]
  },
  {
   "cell_type": "code",
   "execution_count": 9,
   "metadata": {},
   "outputs": [],
   "source": [
    "data=data.dropna(subset=['name'])"
   ]
  },
  {
   "cell_type": "code",
   "execution_count": 10,
   "metadata": {
    "scrolled": true
   },
   "outputs": [],
   "source": [
    "#year_nan=data.loc[data['year_of_release'].isnull()]\n",
    "#year_nan.head()"
   ]
  },
  {
   "cell_type": "markdown",
   "metadata": {},
   "source": [
    "Решил заполнить пропущенные значения средним для каждой платформы."
   ]
  },
  {
   "cell_type": "code",
   "execution_count": 11,
   "metadata": {},
   "outputs": [],
   "source": [
    "#mean_year=data.groupby('platform')['year_of_release'].transform('mean')\n",
    "#data['year_of_release'].fillna(mean_year,inplace=True)"
   ]
  },
  {
   "cell_type": "code",
   "execution_count": 12,
   "metadata": {},
   "outputs": [
    {
     "data": {
      "text/plain": [
       "0"
      ]
     },
     "execution_count": 12,
     "metadata": {},
     "output_type": "execute_result"
    }
   ],
   "source": [
    "data['genre'].isna().sum()"
   ]
  },
  {
   "cell_type": "code",
   "execution_count": 13,
   "metadata": {},
   "outputs": [],
   "source": [
    "for i in data[data['year_of_release'].isnull() == True].index:  \n",
    "    data['year_of_release'][i] = data.loc[data['name'] == data['name'][i], 'year_of_release'].max()"
   ]
  },
  {
   "cell_type": "code",
   "execution_count": 14,
   "metadata": {},
   "outputs": [
    {
     "data": {
      "text/plain": [
       "146"
      ]
     },
     "execution_count": 14,
     "metadata": {},
     "output_type": "execute_result"
    }
   ],
   "source": [
    "data['year_of_release'].isna().sum()"
   ]
  },
  {
   "cell_type": "markdown",
   "metadata": {},
   "source": [
    "Пропуски в столбце genre исчезли, что говорит о том, что мы их удалили в результате предыдущей обработки других столбцов."
   ]
  },
  {
   "cell_type": "markdown",
   "metadata": {},
   "source": [
    "В столбце user_score определим значение tbd - to be decided. Само значение находится во всех жанрах, а по описанию столбца у всех данных должен быть тип float. Поэтому будем счиать tbd отсутсвием значения и поменяем tbd на none."
   ]
  },
  {
   "cell_type": "code",
   "execution_count": 15,
   "metadata": {},
   "outputs": [
    {
     "data": {
      "text/plain": [
       "array(['8', nan, '8.3', '8.5', '6.6', '8.4', '8.6', '7.7', '6.3', '7.4',\n",
       "       '8.2', '9', '7.9', '8.1', '8.7', '7.1', '3.4', '5.3', '4.8', '3.2',\n",
       "       '8.9', '6.4', '7.8', '7.5', '2.6', '7.2', '9.2', '7', '7.3', '4.3',\n",
       "       '7.6', '5.7', '5', '9.1', '6.5', '8.8', '6.9', '9.4', '6.8', '6.1',\n",
       "       '6.7', '5.4', '4', '4.9', '4.5', '9.3', '6.2', '4.2', '6', '3.7',\n",
       "       '4.1', '5.8', '5.6', '5.5', '4.4', '4.6', '5.9', '3.9', '3.1',\n",
       "       '2.9', '5.2', '3.3', '4.7', '5.1', '3.5', '2.5', '1.9', '3', '2.7',\n",
       "       '2.2', '2', '9.5', '2.1', '3.6', '2.8', '1.8', '3.8', '0', '1.6',\n",
       "       '9.6', '2.4', '1.7', '1.1', '0.3', '1.5', '0.7', '1.2', '2.3',\n",
       "       '0.5', '1.3', '0.2', '0.6', '1.4', '0.9', '1', '9.7'], dtype=object)"
      ]
     },
     "execution_count": 15,
     "metadata": {},
     "output_type": "execute_result"
    }
   ],
   "source": [
    "# Функция для замены значения 'tbd' на none\n",
    "#data['user_score']=data['user_score'].replace('tbd','Nan') \n",
    "data['user_score'] = data['user_score'].replace('tbd', np.nan, regex=True)\n",
    "#проверяем уникальные значения\n",
    "data['user_score'].unique()"
   ]
  },
  {
   "cell_type": "code",
   "execution_count": 16,
   "metadata": {
    "scrolled": false
   },
   "outputs": [
    {
     "data": {
      "text/html": [
       "<div>\n",
       "<style scoped>\n",
       "    .dataframe tbody tr th:only-of-type {\n",
       "        vertical-align: middle;\n",
       "    }\n",
       "\n",
       "    .dataframe tbody tr th {\n",
       "        vertical-align: top;\n",
       "    }\n",
       "\n",
       "    .dataframe thead th {\n",
       "        text-align: right;\n",
       "    }\n",
       "</style>\n",
       "<table border=\"1\" class=\"dataframe\">\n",
       "  <thead>\n",
       "    <tr style=\"text-align: right;\">\n",
       "      <th></th>\n",
       "      <th>name</th>\n",
       "      <th>platform</th>\n",
       "      <th>year_of_release</th>\n",
       "      <th>genre</th>\n",
       "      <th>na_sales</th>\n",
       "      <th>eu_sales</th>\n",
       "      <th>jp_sales</th>\n",
       "      <th>other_sales</th>\n",
       "      <th>critic_score</th>\n",
       "      <th>user_score</th>\n",
       "      <th>rating</th>\n",
       "    </tr>\n",
       "  </thead>\n",
       "  <tbody>\n",
       "    <tr>\n",
       "      <th>1</th>\n",
       "      <td>Super Mario Bros.</td>\n",
       "      <td>NES</td>\n",
       "      <td>1985.0</td>\n",
       "      <td>Platform</td>\n",
       "      <td>29.08</td>\n",
       "      <td>3.58</td>\n",
       "      <td>6.81</td>\n",
       "      <td>0.77</td>\n",
       "      <td>NaN</td>\n",
       "      <td>NaN</td>\n",
       "      <td>NaN</td>\n",
       "    </tr>\n",
       "    <tr>\n",
       "      <th>4</th>\n",
       "      <td>Pokemon Red/Pokemon Blue</td>\n",
       "      <td>GB</td>\n",
       "      <td>1996.0</td>\n",
       "      <td>Role-Playing</td>\n",
       "      <td>11.27</td>\n",
       "      <td>8.89</td>\n",
       "      <td>10.22</td>\n",
       "      <td>1.00</td>\n",
       "      <td>NaN</td>\n",
       "      <td>NaN</td>\n",
       "      <td>NaN</td>\n",
       "    </tr>\n",
       "    <tr>\n",
       "      <th>5</th>\n",
       "      <td>Tetris</td>\n",
       "      <td>GB</td>\n",
       "      <td>1989.0</td>\n",
       "      <td>Puzzle</td>\n",
       "      <td>23.20</td>\n",
       "      <td>2.26</td>\n",
       "      <td>4.22</td>\n",
       "      <td>0.58</td>\n",
       "      <td>NaN</td>\n",
       "      <td>NaN</td>\n",
       "      <td>NaN</td>\n",
       "    </tr>\n",
       "    <tr>\n",
       "      <th>9</th>\n",
       "      <td>Duck Hunt</td>\n",
       "      <td>NES</td>\n",
       "      <td>1984.0</td>\n",
       "      <td>Shooter</td>\n",
       "      <td>26.93</td>\n",
       "      <td>0.63</td>\n",
       "      <td>0.28</td>\n",
       "      <td>0.47</td>\n",
       "      <td>NaN</td>\n",
       "      <td>NaN</td>\n",
       "      <td>NaN</td>\n",
       "    </tr>\n",
       "    <tr>\n",
       "      <th>10</th>\n",
       "      <td>Nintendogs</td>\n",
       "      <td>DS</td>\n",
       "      <td>2005.0</td>\n",
       "      <td>Simulation</td>\n",
       "      <td>9.05</td>\n",
       "      <td>10.95</td>\n",
       "      <td>1.93</td>\n",
       "      <td>2.74</td>\n",
       "      <td>NaN</td>\n",
       "      <td>NaN</td>\n",
       "      <td>NaN</td>\n",
       "    </tr>\n",
       "  </tbody>\n",
       "</table>\n",
       "</div>"
      ],
      "text/plain": [
       "                        name platform  year_of_release         genre  \\\n",
       "1          Super Mario Bros.      NES           1985.0      Platform   \n",
       "4   Pokemon Red/Pokemon Blue       GB           1996.0  Role-Playing   \n",
       "5                     Tetris       GB           1989.0        Puzzle   \n",
       "9                  Duck Hunt      NES           1984.0       Shooter   \n",
       "10                Nintendogs       DS           2005.0    Simulation   \n",
       "\n",
       "    na_sales  eu_sales  jp_sales  other_sales  critic_score user_score rating  \n",
       "1      29.08      3.58      6.81         0.77           NaN        NaN    NaN  \n",
       "4      11.27      8.89     10.22         1.00           NaN        NaN    NaN  \n",
       "5      23.20      2.26      4.22         0.58           NaN        NaN    NaN  \n",
       "9      26.93      0.63      0.28         0.47           NaN        NaN    NaN  \n",
       "10      9.05     10.95      1.93         2.74           NaN        NaN    NaN  "
      ]
     },
     "execution_count": 16,
     "metadata": {},
     "output_type": "execute_result"
    }
   ],
   "source": [
    "nan_critic=data[data['critic_score'].isnull()]\n",
    "nan_critic.head()"
   ]
  },
  {
   "cell_type": "markdown",
   "metadata": {},
   "source": [
    "Заполним пропущенные значения в critic_score средним значением по жанру."
   ]
  },
  {
   "cell_type": "code",
   "execution_count": 17,
   "metadata": {},
   "outputs": [
    {
     "data": {
      "text/plain": [
       "8576"
      ]
     },
     "execution_count": 17,
     "metadata": {},
     "output_type": "execute_result"
    }
   ],
   "source": [
    "#mean_critic_genre=data.groupby('platform')['critic_score'].transform('mean')\n",
    "#data['critic_score'].fillna(mean_critic_genre,inplace=True)\n",
    "data['critic_score'].isnull().sum()"
   ]
  },
  {
   "cell_type": "markdown",
   "metadata": {},
   "source": [
    "Удалим оставшиеся пропуски в данных"
   ]
  },
  {
   "cell_type": "code",
   "execution_count": 18,
   "metadata": {},
   "outputs": [
    {
     "data": {
      "text/plain": [
       "8576"
      ]
     },
     "execution_count": 18,
     "metadata": {},
     "output_type": "execute_result"
    }
   ],
   "source": [
    "#data.dropna(subset=['critic_score'],inplace=True)\n",
    "# меняем тип данных на вещественны\n",
    "data['user_score']=data['user_score'].astype('float64') \n",
    "data['critic_score'].isnull().sum()"
   ]
  },
  {
   "cell_type": "code",
   "execution_count": 19,
   "metadata": {},
   "outputs": [
    {
     "data": {
      "text/html": [
       "<div>\n",
       "<style scoped>\n",
       "    .dataframe tbody tr th:only-of-type {\n",
       "        vertical-align: middle;\n",
       "    }\n",
       "\n",
       "    .dataframe tbody tr th {\n",
       "        vertical-align: top;\n",
       "    }\n",
       "\n",
       "    .dataframe thead th {\n",
       "        text-align: right;\n",
       "    }\n",
       "</style>\n",
       "<table border=\"1\" class=\"dataframe\">\n",
       "  <thead>\n",
       "    <tr style=\"text-align: right;\">\n",
       "      <th></th>\n",
       "      <th>name</th>\n",
       "      <th>platform</th>\n",
       "      <th>year_of_release</th>\n",
       "      <th>genre</th>\n",
       "      <th>na_sales</th>\n",
       "      <th>eu_sales</th>\n",
       "      <th>jp_sales</th>\n",
       "      <th>other_sales</th>\n",
       "      <th>critic_score</th>\n",
       "      <th>user_score</th>\n",
       "      <th>rating</th>\n",
       "    </tr>\n",
       "  </thead>\n",
       "  <tbody>\n",
       "    <tr>\n",
       "      <th>1</th>\n",
       "      <td>Super Mario Bros.</td>\n",
       "      <td>NES</td>\n",
       "      <td>1985.0</td>\n",
       "      <td>Platform</td>\n",
       "      <td>29.08</td>\n",
       "      <td>3.58</td>\n",
       "      <td>6.81</td>\n",
       "      <td>0.77</td>\n",
       "      <td>NaN</td>\n",
       "      <td>NaN</td>\n",
       "      <td>NaN</td>\n",
       "    </tr>\n",
       "    <tr>\n",
       "      <th>4</th>\n",
       "      <td>Pokemon Red/Pokemon Blue</td>\n",
       "      <td>GB</td>\n",
       "      <td>1996.0</td>\n",
       "      <td>Role-Playing</td>\n",
       "      <td>11.27</td>\n",
       "      <td>8.89</td>\n",
       "      <td>10.22</td>\n",
       "      <td>1.00</td>\n",
       "      <td>NaN</td>\n",
       "      <td>NaN</td>\n",
       "      <td>NaN</td>\n",
       "    </tr>\n",
       "    <tr>\n",
       "      <th>5</th>\n",
       "      <td>Tetris</td>\n",
       "      <td>GB</td>\n",
       "      <td>1989.0</td>\n",
       "      <td>Puzzle</td>\n",
       "      <td>23.20</td>\n",
       "      <td>2.26</td>\n",
       "      <td>4.22</td>\n",
       "      <td>0.58</td>\n",
       "      <td>NaN</td>\n",
       "      <td>NaN</td>\n",
       "      <td>NaN</td>\n",
       "    </tr>\n",
       "    <tr>\n",
       "      <th>9</th>\n",
       "      <td>Duck Hunt</td>\n",
       "      <td>NES</td>\n",
       "      <td>1984.0</td>\n",
       "      <td>Shooter</td>\n",
       "      <td>26.93</td>\n",
       "      <td>0.63</td>\n",
       "      <td>0.28</td>\n",
       "      <td>0.47</td>\n",
       "      <td>NaN</td>\n",
       "      <td>NaN</td>\n",
       "      <td>NaN</td>\n",
       "    </tr>\n",
       "    <tr>\n",
       "      <th>10</th>\n",
       "      <td>Nintendogs</td>\n",
       "      <td>DS</td>\n",
       "      <td>2005.0</td>\n",
       "      <td>Simulation</td>\n",
       "      <td>9.05</td>\n",
       "      <td>10.95</td>\n",
       "      <td>1.93</td>\n",
       "      <td>2.74</td>\n",
       "      <td>NaN</td>\n",
       "      <td>NaN</td>\n",
       "      <td>NaN</td>\n",
       "    </tr>\n",
       "  </tbody>\n",
       "</table>\n",
       "</div>"
      ],
      "text/plain": [
       "                        name platform  year_of_release         genre  \\\n",
       "1          Super Mario Bros.      NES           1985.0      Platform   \n",
       "4   Pokemon Red/Pokemon Blue       GB           1996.0  Role-Playing   \n",
       "5                     Tetris       GB           1989.0        Puzzle   \n",
       "9                  Duck Hunt      NES           1984.0       Shooter   \n",
       "10                Nintendogs       DS           2005.0    Simulation   \n",
       "\n",
       "    na_sales  eu_sales  jp_sales  other_sales  critic_score  user_score rating  \n",
       "1      29.08      3.58      6.81         0.77           NaN         NaN    NaN  \n",
       "4      11.27      8.89     10.22         1.00           NaN         NaN    NaN  \n",
       "5      23.20      2.26      4.22         0.58           NaN         NaN    NaN  \n",
       "9      26.93      0.63      0.28         0.47           NaN         NaN    NaN  \n",
       "10      9.05     10.95      1.93         2.74           NaN         NaN    NaN  "
      ]
     },
     "execution_count": 19,
     "metadata": {},
     "output_type": "execute_result"
    }
   ],
   "source": [
    "null_user_score=data[data['user_score'].isnull()]\n",
    "null_user_score.head()"
   ]
  },
  {
   "cell_type": "markdown",
   "metadata": {},
   "source": [
    "Мы уже заполнили значения tbd на nan. Теперь заменим оставшиеся пропущенные значения средними значениями по платформе. Перед этим поменяем тип данных в user_score на вещественный."
   ]
  },
  {
   "cell_type": "code",
   "execution_count": 20,
   "metadata": {},
   "outputs": [
    {
     "data": {
      "text/plain": [
       "9123"
      ]
     },
     "execution_count": 20,
     "metadata": {},
     "output_type": "execute_result"
    }
   ],
   "source": [
    "# Делаю замену nan на значения соответствующих конкретной платформе средним значением\n",
    "#data['user_score'].fillna('none',inplace=True)\n",
    "data['user_score'].isnull().sum()"
   ]
  },
  {
   "cell_type": "code",
   "execution_count": 21,
   "metadata": {
    "scrolled": true
   },
   "outputs": [
    {
     "data": {
      "text/plain": [
       "6764"
      ]
     },
     "metadata": {},
     "output_type": "display_data"
    },
    {
     "data": {
      "text/plain": [
       "E       3990\n",
       "T       2961\n",
       "M       1563\n",
       "E10+    1420\n",
       "EC         8\n",
       "K-A        3\n",
       "RP         3\n",
       "AO         1\n",
       "Name: rating, dtype: int64"
      ]
     },
     "execution_count": 21,
     "metadata": {},
     "output_type": "execute_result"
    }
   ],
   "source": [
    "display(data['rating'].isna().sum())\n",
    "data['rating'].value_counts()"
   ]
  },
  {
   "cell_type": "markdown",
   "metadata": {},
   "source": [
    "Удалим строки со значением K-A, так как их немного и такого рейтинга в ESRB не существует."
   ]
  },
  {
   "cell_type": "code",
   "execution_count": 22,
   "metadata": {},
   "outputs": [],
   "source": [
    "data=data.query('rating!=\"K-A\"')"
   ]
  },
  {
   "cell_type": "markdown",
   "metadata": {},
   "source": [
    "Оставшиеся пропуски заполним самым популярным значением по жанру для данной платформы"
   ]
  },
  {
   "cell_type": "code",
   "execution_count": 23,
   "metadata": {},
   "outputs": [],
   "source": [
    "#without_nan=data.dropna() # данные без nan в rating\n",
    "# создадим функицю для определения самого популярного возрастного ограничения в зависимости от жанра в данной платформе \n",
    "#def best_rating(row):\n",
    "    #platform_for_group=row['platform']\n",
    "    #data_rating=without_nan.loc[without_nan['platform']==platform_for_group]\n",
    "    #grouped=data_rating.groupby('rating')['genre'].count().sort_values(ascending=False)\n",
    "    #return grouped.index[0]\n",
    "#data['rating_fixed']=data.apply(best_rating,axis=1) #записываю новые данные в столбец data['rating_new']\n",
    "#data['rating']=data['rating'].fillna(data['rating_fixed'])# Заменяю nan на данные из data['rating_new']\n",
    "#del data['rating_fixed'] # Удаляю этот столбец"
   ]
  },
  {
   "cell_type": "code",
   "execution_count": 24,
   "metadata": {},
   "outputs": [
    {
     "data": {
      "text/plain": [
       "6764"
      ]
     },
     "execution_count": 24,
     "metadata": {},
     "output_type": "execute_result"
    }
   ],
   "source": [
    "#data['rating'].fillna('none')\n",
    "data['rating'].isna().sum()"
   ]
  },
  {
   "cell_type": "code",
   "execution_count": 25,
   "metadata": {},
   "outputs": [],
   "source": [
    "data['rating'].fillna('none',inplace=True)"
   ]
  },
  {
   "cell_type": "code",
   "execution_count": 26,
   "metadata": {},
   "outputs": [],
   "source": [
    "data['na_sales_sum']=data['na_sales'].sum()# Столбец с суммарной продажей в Америке\n",
    "data['eu_sales_sum']=data['eu_sales'].sum()# Столбец с суммарной продажей в Европе\n",
    "data['jp_sales_sum']=data['jp_sales'].sum()# Столбец с суммарной продажей в Японии\n",
    "data['all_sales']=data['na_sales']+data['eu_sales']+data['jp_sales']+data['other_sales']# Столбец с суммарной продажей всех\n",
    "#удаляю ненужные столбцы\n",
    "del data['na_sales_sum']\n",
    "del data['eu_sales_sum']\n",
    "del data['jp_sales_sum']"
   ]
  },
  {
   "cell_type": "code",
   "execution_count": 27,
   "metadata": {},
   "outputs": [
    {
     "data": {
      "text/plain": [
       "name                  0\n",
       "platform              0\n",
       "year_of_release     146\n",
       "genre                 0\n",
       "na_sales              0\n",
       "eu_sales              0\n",
       "jp_sales              0\n",
       "other_sales           0\n",
       "critic_score       8574\n",
       "user_score         9123\n",
       "rating                0\n",
       "all_sales             0\n",
       "dtype: int64"
      ]
     },
     "metadata": {},
     "output_type": "display_data"
    },
    {
     "data": {
      "text/html": [
       "<div>\n",
       "<style scoped>\n",
       "    .dataframe tbody tr th:only-of-type {\n",
       "        vertical-align: middle;\n",
       "    }\n",
       "\n",
       "    .dataframe tbody tr th {\n",
       "        vertical-align: top;\n",
       "    }\n",
       "\n",
       "    .dataframe thead th {\n",
       "        text-align: right;\n",
       "    }\n",
       "</style>\n",
       "<table border=\"1\" class=\"dataframe\">\n",
       "  <thead>\n",
       "    <tr style=\"text-align: right;\">\n",
       "      <th></th>\n",
       "      <th>name</th>\n",
       "      <th>platform</th>\n",
       "      <th>year_of_release</th>\n",
       "      <th>genre</th>\n",
       "      <th>na_sales</th>\n",
       "      <th>eu_sales</th>\n",
       "      <th>jp_sales</th>\n",
       "      <th>other_sales</th>\n",
       "      <th>critic_score</th>\n",
       "      <th>user_score</th>\n",
       "      <th>rating</th>\n",
       "      <th>all_sales</th>\n",
       "    </tr>\n",
       "  </thead>\n",
       "  <tbody>\n",
       "    <tr>\n",
       "      <th>0</th>\n",
       "      <td>Wii Sports</td>\n",
       "      <td>Wii</td>\n",
       "      <td>2006.0</td>\n",
       "      <td>Sports</td>\n",
       "      <td>41.36</td>\n",
       "      <td>28.96</td>\n",
       "      <td>3.77</td>\n",
       "      <td>8.45</td>\n",
       "      <td>76.0</td>\n",
       "      <td>8.0</td>\n",
       "      <td>E</td>\n",
       "      <td>82.54</td>\n",
       "    </tr>\n",
       "    <tr>\n",
       "      <th>1</th>\n",
       "      <td>Super Mario Bros.</td>\n",
       "      <td>NES</td>\n",
       "      <td>1985.0</td>\n",
       "      <td>Platform</td>\n",
       "      <td>29.08</td>\n",
       "      <td>3.58</td>\n",
       "      <td>6.81</td>\n",
       "      <td>0.77</td>\n",
       "      <td>NaN</td>\n",
       "      <td>NaN</td>\n",
       "      <td>none</td>\n",
       "      <td>40.24</td>\n",
       "    </tr>\n",
       "    <tr>\n",
       "      <th>2</th>\n",
       "      <td>Mario Kart Wii</td>\n",
       "      <td>Wii</td>\n",
       "      <td>2008.0</td>\n",
       "      <td>Racing</td>\n",
       "      <td>15.68</td>\n",
       "      <td>12.76</td>\n",
       "      <td>3.79</td>\n",
       "      <td>3.29</td>\n",
       "      <td>82.0</td>\n",
       "      <td>8.3</td>\n",
       "      <td>E</td>\n",
       "      <td>35.52</td>\n",
       "    </tr>\n",
       "    <tr>\n",
       "      <th>3</th>\n",
       "      <td>Wii Sports Resort</td>\n",
       "      <td>Wii</td>\n",
       "      <td>2009.0</td>\n",
       "      <td>Sports</td>\n",
       "      <td>15.61</td>\n",
       "      <td>10.93</td>\n",
       "      <td>3.28</td>\n",
       "      <td>2.95</td>\n",
       "      <td>80.0</td>\n",
       "      <td>8.0</td>\n",
       "      <td>E</td>\n",
       "      <td>32.77</td>\n",
       "    </tr>\n",
       "    <tr>\n",
       "      <th>4</th>\n",
       "      <td>Pokemon Red/Pokemon Blue</td>\n",
       "      <td>GB</td>\n",
       "      <td>1996.0</td>\n",
       "      <td>Role-Playing</td>\n",
       "      <td>11.27</td>\n",
       "      <td>8.89</td>\n",
       "      <td>10.22</td>\n",
       "      <td>1.00</td>\n",
       "      <td>NaN</td>\n",
       "      <td>NaN</td>\n",
       "      <td>none</td>\n",
       "      <td>31.38</td>\n",
       "    </tr>\n",
       "    <tr>\n",
       "      <th>5</th>\n",
       "      <td>Tetris</td>\n",
       "      <td>GB</td>\n",
       "      <td>1989.0</td>\n",
       "      <td>Puzzle</td>\n",
       "      <td>23.20</td>\n",
       "      <td>2.26</td>\n",
       "      <td>4.22</td>\n",
       "      <td>0.58</td>\n",
       "      <td>NaN</td>\n",
       "      <td>NaN</td>\n",
       "      <td>none</td>\n",
       "      <td>30.26</td>\n",
       "    </tr>\n",
       "    <tr>\n",
       "      <th>6</th>\n",
       "      <td>New Super Mario Bros.</td>\n",
       "      <td>DS</td>\n",
       "      <td>2006.0</td>\n",
       "      <td>Platform</td>\n",
       "      <td>11.28</td>\n",
       "      <td>9.14</td>\n",
       "      <td>6.50</td>\n",
       "      <td>2.88</td>\n",
       "      <td>89.0</td>\n",
       "      <td>8.5</td>\n",
       "      <td>E</td>\n",
       "      <td>29.80</td>\n",
       "    </tr>\n",
       "    <tr>\n",
       "      <th>7</th>\n",
       "      <td>Wii Play</td>\n",
       "      <td>Wii</td>\n",
       "      <td>2006.0</td>\n",
       "      <td>Misc</td>\n",
       "      <td>13.96</td>\n",
       "      <td>9.18</td>\n",
       "      <td>2.93</td>\n",
       "      <td>2.84</td>\n",
       "      <td>58.0</td>\n",
       "      <td>6.6</td>\n",
       "      <td>E</td>\n",
       "      <td>28.91</td>\n",
       "    </tr>\n",
       "    <tr>\n",
       "      <th>8</th>\n",
       "      <td>New Super Mario Bros. Wii</td>\n",
       "      <td>Wii</td>\n",
       "      <td>2009.0</td>\n",
       "      <td>Platform</td>\n",
       "      <td>14.44</td>\n",
       "      <td>6.94</td>\n",
       "      <td>4.70</td>\n",
       "      <td>2.24</td>\n",
       "      <td>87.0</td>\n",
       "      <td>8.4</td>\n",
       "      <td>E</td>\n",
       "      <td>28.32</td>\n",
       "    </tr>\n",
       "    <tr>\n",
       "      <th>9</th>\n",
       "      <td>Duck Hunt</td>\n",
       "      <td>NES</td>\n",
       "      <td>1984.0</td>\n",
       "      <td>Shooter</td>\n",
       "      <td>26.93</td>\n",
       "      <td>0.63</td>\n",
       "      <td>0.28</td>\n",
       "      <td>0.47</td>\n",
       "      <td>NaN</td>\n",
       "      <td>NaN</td>\n",
       "      <td>none</td>\n",
       "      <td>28.31</td>\n",
       "    </tr>\n",
       "  </tbody>\n",
       "</table>\n",
       "</div>"
      ],
      "text/plain": [
       "                        name platform  year_of_release         genre  \\\n",
       "0                 Wii Sports      Wii           2006.0        Sports   \n",
       "1          Super Mario Bros.      NES           1985.0      Platform   \n",
       "2             Mario Kart Wii      Wii           2008.0        Racing   \n",
       "3          Wii Sports Resort      Wii           2009.0        Sports   \n",
       "4   Pokemon Red/Pokemon Blue       GB           1996.0  Role-Playing   \n",
       "5                     Tetris       GB           1989.0        Puzzle   \n",
       "6      New Super Mario Bros.       DS           2006.0      Platform   \n",
       "7                   Wii Play      Wii           2006.0          Misc   \n",
       "8  New Super Mario Bros. Wii      Wii           2009.0      Platform   \n",
       "9                  Duck Hunt      NES           1984.0       Shooter   \n",
       "\n",
       "   na_sales  eu_sales  jp_sales  other_sales  critic_score  user_score rating  \\\n",
       "0     41.36     28.96      3.77         8.45          76.0         8.0      E   \n",
       "1     29.08      3.58      6.81         0.77           NaN         NaN   none   \n",
       "2     15.68     12.76      3.79         3.29          82.0         8.3      E   \n",
       "3     15.61     10.93      3.28         2.95          80.0         8.0      E   \n",
       "4     11.27      8.89     10.22         1.00           NaN         NaN   none   \n",
       "5     23.20      2.26      4.22         0.58           NaN         NaN   none   \n",
       "6     11.28      9.14      6.50         2.88          89.0         8.5      E   \n",
       "7     13.96      9.18      2.93         2.84          58.0         6.6      E   \n",
       "8     14.44      6.94      4.70         2.24          87.0         8.4      E   \n",
       "9     26.93      0.63      0.28         0.47           NaN         NaN   none   \n",
       "\n",
       "   all_sales  \n",
       "0      82.54  \n",
       "1      40.24  \n",
       "2      35.52  \n",
       "3      32.77  \n",
       "4      31.38  \n",
       "5      30.26  \n",
       "6      29.80  \n",
       "7      28.91  \n",
       "8      28.32  \n",
       "9      28.31  "
      ]
     },
     "execution_count": 27,
     "metadata": {},
     "output_type": "execute_result"
    }
   ],
   "source": [
    "display(data.isnull().sum())\n",
    "data.head(10)"
   ]
  },
  {
   "cell_type": "markdown",
   "metadata": {},
   "source": [
    "**Вывод:** В результате предобработки данных были удалены пропуски в различных столбцах. Также были удалены аномальные значения в User_Score (tbd) и Rating (K-A). Были приведены названия столбцов к нижнему регистру. Также изменены типы данных Year_of_Release с float64 на int64 и User_Score с object на float."
   ]
  },
  {
   "cell_type": "markdown",
   "metadata": {},
   "source": [
    "**Исследовательский анализ данных**"
   ]
  },
  {
   "cell_type": "markdown",
   "metadata": {},
   "source": [
    "Посмотрим, сколько игр выпускалось в разные годы."
   ]
  },
  {
   "cell_type": "code",
   "execution_count": 28,
   "metadata": {},
   "outputs": [
    {
     "data": {
      "text/plain": [
       "<AxesSubplot:xlabel='year_of_release'>"
      ]
     },
     "execution_count": 28,
     "metadata": {},
     "output_type": "execute_result"
    },
    {
     "data": {
      "image/png": "[encoded data removed]",
      "text/plain": [
       "<Figure size 720x432 with 1 Axes>"
      ]
     },
     "metadata": {
      "needs_background": "light"
     },
     "output_type": "display_data"
    }
   ],
   "source": [
    "data.groupby('year_of_release')['name'].count().plot(x=\"year_of_release\",style=\"-o\",figsize=(10,6))"
   ]
  },
  {
   "cell_type": "markdown",
   "metadata": {},
   "source": [
    "Анализируя график, можно увидеть, что до 1995 года игры почти не выходили. Отсюда делаем вывод, что данные с 1985-1995 г не важны. Затем наблюдаем резкий рост до 2009 года. После же идет спад."
   ]
  },
  {
   "cell_type": "markdown",
   "metadata": {},
   "source": [
    "Теперь посмотрим, как менялись продажи по платформам."
   ]
  },
  {
   "cell_type": "code",
   "execution_count": 29,
   "metadata": {},
   "outputs": [
    {
     "data": {
      "text/plain": [
       "<AxesSubplot:xlabel='platform'>"
      ]
     },
     "execution_count": 29,
     "metadata": {},
     "output_type": "execute_result"
    },
    {
     "data": {
      "image/png": "[encoded data removed]",
      "text/plain": [
       "<Figure size 720x504 with 1 Axes>"
      ]
     },
     "metadata": {
      "needs_background": "light"
     },
     "output_type": "display_data"
    }
   ],
   "source": [
    "# Создадим датасет по платформам с продажами по регионам\n",
    "best_platform=data.pivot_table(index='platform',values=['na_sales','eu_sales','jp_sales','other_sales'],aggfunc=('sum'))\n",
    "# Создадим столбец, в котором будет сумма по всем регионам.\n",
    "best_platform['all_sales']=best_platform['na_sales']+best_platform['eu_sales']+best_platform['jp_sales']+best_platform['other_sales']\n",
    "best_platform.sort_values(by='all_sales',ascending=False).plot(kind='bar',figsize=(10,7))"
   ]
  },
  {
   "cell_type": "markdown",
   "metadata": {},
   "source": [
    "График показывает, что в топ 5 платформ по выручке входят PS2,Xbox 360,PS3,Wii,DS."
   ]
  },
  {
   "cell_type": "code",
   "execution_count": 30,
   "metadata": {},
   "outputs": [
    {
     "data": {
      "text/plain": [
       "<AxesSubplot:xlabel='year_of_release', ylabel='platform'>"
      ]
     },
     "execution_count": 30,
     "metadata": {},
     "output_type": "execute_result"
    },
    {
     "data": {
      "image/png": "[encoded data removed]",
      "text/plain": [
       "<Figure size 576x504 with 2 Axes>"
      ]
     },
     "metadata": {
      "needs_background": "light"
     },
     "output_type": "display_data"
    }
   ],
   "source": [
    "#создадим сводную таблицу платформ по годам\n",
    "data_heat=data.pivot_table(index=\"platform\",columns='year_of_release',values='all_sales',aggfunc=('sum'))\n",
    "#сводная таблица платформ по годам. \n",
    "plt.figure(figsize=(8,7))\n",
    "sns.heatmap(data_heat)"
   ]
  },
  {
   "cell_type": "markdown",
   "metadata": {},
   "source": [
    "По тепловой карте можно увидеть платформы, у которых один производитель, и какие платформы приходят на замену. Например можно увидеть \"лестницу\" производителей Sony(PS,PS2,PS3,PS4,PSV) и Nintendo(DS,3DS)."
   ]
  },
  {
   "cell_type": "code",
   "execution_count": 31,
   "metadata": {
    "scrolled": true
   },
   "outputs": [
    {
     "data": {
      "text/plain": [
       "<AxesSubplot:xlabel='year_of_release', ylabel='platform'>"
      ]
     },
     "execution_count": 31,
     "metadata": {},
     "output_type": "execute_result"
    },
    {
     "data": {
      "image/png": "[encoded data removed]",
      "text/plain": [
       "<Figure size 576x360 with 2 Axes>"
      ]
     },
     "metadata": {
      "needs_background": "light"
     },
     "output_type": "display_data"
    }
   ],
   "source": [
    "list_platform=['PS2','X360','PS3','Wii','DS','PC'] # топ 5 платформ \n",
    "top_platform=data_heat.query('platform in @list_platform') # срез по топ платформам\n",
    "plt.figure(figsize=(8,5))\n",
    "sns.heatmap(top_platform)"
   ]
  },
  {
   "cell_type": "markdown",
   "metadata": {},
   "source": [
    "Анализирую тепловую карту, видим, что платформа в среднем живет 10-11 лет. Пик продаж приходит в среднем через 4-5 лет. В 2006 появились новые платформы, которые завоевали популярность. Например, когда продажи PS2 стали падать, на рынке появилась новая PS3. Платформа Wii с первого года имела высокие продажи, но с годами продажи падают."
   ]
  },
  {
   "cell_type": "code",
   "execution_count": 32,
   "metadata": {},
   "outputs": [
    {
     "data": {
      "text/plain": [
       "<AxesSubplot:xlabel='platform'>"
      ]
     },
     "execution_count": 32,
     "metadata": {},
     "output_type": "execute_result"
    },
    {
     "data": {
      "image/png": "[encoded data removed]",
      "text/plain": [
       "<Figure size 720x288 with 1 Axes>"
      ]
     },
     "metadata": {
      "needs_background": "light"
     },
     "output_type": "display_data"
    }
   ],
   "source": [
    "#  Для последующего анализа возьмем данные с 2007 года для актуального прогноза на 2017 год\n",
    "actual_data=data.query('year_of_release>=2014')\n",
    "actual_data.groupby('platform')['all_sales'].sum().sort_values(ascending=False).plot(figsize=(10,4),kind=\"bar\")"
   ]
  },
  {
   "cell_type": "code",
   "execution_count": 33,
   "metadata": {},
   "outputs": [
    {
     "data": {
      "text/plain": [
       "<AxesSubplot:xlabel='year_of_release', ylabel='platform'>"
      ]
     },
     "execution_count": 33,
     "metadata": {},
     "output_type": "execute_result"
    },
    {
     "data": {
      "image/png": "[encoded data removed]",
      "text/plain": [
       "<Figure size 576x360 with 2 Axes>"
      ]
     },
     "metadata": {
      "needs_background": "light"
     },
     "output_type": "display_data"
    }
   ],
   "source": [
    "# Выберем активные на данный период и самые популярные и известные платформы\n",
    "list_platform=['3DS','PS3','PS4','X360','XOne','PC']\n",
    "top_platform=data_heat.query('platform in @list_platform')\n",
    "plt.figure(figsize=(8,5))\n",
    "sns.heatmap(top_platform)"
   ]
  },
  {
   "cell_type": "markdown",
   "metadata": {},
   "source": [
    "Как можно увидеть, самой актуальной платформой можно назвать PS4, чьи продажи только начали падать. Основываясь на предыдущем графике, то можем сказать, что примерно через год или два появится новая платформа. Стоит отметить XOne, которая соренвуется с PS4, но имеет низкие продажи. Также можем увидеть, что почти у всех платформ продажи начинают падать примерно через 4-5 лет."
   ]
  },
  {
   "cell_type": "markdown",
   "metadata": {},
   "source": [
    "Теперь построим диаграмму \"ящик с усами\" для разбивки по платформам."
   ]
  },
  {
   "cell_type": "code",
   "execution_count": 34,
   "metadata": {},
   "outputs": [
    {
     "data": {
      "text/plain": [
       "<AxesSubplot:xlabel='platform', ylabel='all_sales'>"
      ]
     },
     "execution_count": 34,
     "metadata": {},
     "output_type": "execute_result"
    },
    {
     "data": {
      "image/png": "[encoded data removed]",
      "text/plain": [
       "<Figure size 1080x720 with 1 Axes>"
      ]
     },
     "metadata": {
      "needs_background": "light"
     },
     "output_type": "display_data"
    }
   ],
   "source": [
    "actual_data=data.query('platform in @list_platform and year_of_release>=2014')\n",
    "plt.figure(figsize=(15,10))\n",
    "plt.ylim(0,3)\n",
    "sns.boxplot(x='platform',y='all_sales',data=data)"
   ]
  },
  {
   "cell_type": "markdown",
   "metadata": {},
   "source": [
    "Анализируя график, можно отметить, что медиана и межквартальный размах очень похож у таких платформ, как PS,PS3,PS4, X360,XOne. Медиана равна примерно 0.28-0.29, все распределения скошены вправо. Медина лежит левее среднего значения у всех \"ящиков\". У других компаний и платформ медиана ниже, в районе 0.1-0.2"
   ]
  },
  {
   "cell_type": "code",
   "execution_count": 35,
   "metadata": {},
   "outputs": [
    {
     "data": {
      "text/plain": [
       "<AxesSubplot:xlabel='platform', ylabel='all_sales'>"
      ]
     },
     "execution_count": 35,
     "metadata": {},
     "output_type": "execute_result"
    },
    {
     "data": {
      "image/png": "[encoded data removed]",
      "text/plain": [
       "<Figure size 1080x720 with 1 Axes>"
      ]
     },
     "metadata": {
      "needs_background": "light"
     },
     "output_type": "display_data"
    }
   ],
   "source": [
    "# рассмотрим самые популярные платформы\n",
    "plt.figure(figsize=(15,10))\n",
    "plt.ylim(0,3)\n",
    "sns.boxplot(x='platform',y='all_sales',data=actual_data)"
   ]
  },
  {
   "cell_type": "markdown",
   "metadata": {},
   "source": [
    "Анализируя эти платформы, можно увидеть, что они похожи, за исключением платформ 3DS, у которой третий квартиль меньше, чем у остальных. Медиана продаж у платформ почти одинакова и все скошены вправо. Для PC характерно те же признаки, однако медиана и третий квртиль ниже, чем у остальных."
   ]
  },
  {
   "cell_type": "markdown",
   "metadata": {},
   "source": [
    "Теперь посмотрим, как влияют на продажи внутри одной популярной платформы отзывы пользователей и критиков. Возьмем платформу XOne."
   ]
  },
  {
   "cell_type": "code",
   "execution_count": 36,
   "metadata": {},
   "outputs": [
    {
     "data": {
      "text/plain": [
       "<AxesSubplot:title={'center':'Диаграмма рассеяния зависимости продаж платформы критики'}, xlabel='critic_score', ylabel='all_sales'>"
      ]
     },
     "execution_count": 36,
     "metadata": {},
     "output_type": "execute_result"
    },
    {
     "data": {
      "image/png": "[encoded data removed]",
      "text/plain": [
       "<Figure size 720x288 with 1 Axes>"
      ]
     },
     "metadata": {
      "needs_background": "light"
     },
     "output_type": "display_data"
    }
   ],
   "source": [
    "actual_data.query('platform==\"XOne\" and all_sales<=1.7').sort_values(by='critic_score',ascending=True).plot(kind='scatter',x='critic_score',y='all_sales',figsize=(10,4),title='Диаграмма рассеяния зависимости продаж платформы критики')"
   ]
  },
  {
   "cell_type": "code",
   "execution_count": 37,
   "metadata": {},
   "outputs": [
    {
     "data": {
      "text/plain": [
       "<AxesSubplot:title={'center':'Диаграмма рассеяния зависимости продаж платформы пользователи'}, xlabel='user_score', ylabel='all_sales'>"
      ]
     },
     "execution_count": 37,
     "metadata": {},
     "output_type": "execute_result"
    },
    {
     "data": {
      "image/png": "[encoded data removed]",
      "text/plain": [
       "<Figure size 720x288 with 1 Axes>"
      ]
     },
     "metadata": {
      "needs_background": "light"
     },
     "output_type": "display_data"
    }
   ],
   "source": [
    "actual_data.query('platform==\"XOne\" and all_sales<=1.7').sort_values(by='user_score',ascending=True).plot(kind='scatter',x='user_score',y='all_sales',figsize=(10,4),title='Диаграмма рассеяния зависимости продаж платформы пользователи')"
   ]
  },
  {
   "cell_type": "markdown",
   "metadata": {},
   "source": [
    "Оценивая графики, видим, что есть небольшая прямая зависимость между оценкой критиков и пользователей. Так, чем больше оценка, тем больше продажи. Плотнее всего с оценками пользователей в районе от 6-8 баллов с продажами до 0.5 млн. Что касается оценки критиков, то у них плотнее всего в районе от 60-80 баллов и до примерно 0.50 млн. "
   ]
  },
  {
   "cell_type": "code",
   "execution_count": 38,
   "metadata": {},
   "outputs": [
    {
     "data": {
      "text/plain": [
       "0.08112636904654254"
      ]
     },
     "execution_count": 38,
     "metadata": {},
     "output_type": "execute_result"
    }
   ],
   "source": [
    "XOne_actual=actual_data.query('platform==\"XOne\" and all_sales<=1.7')\n",
    "XOne_actual['all_sales'].corr(XOne_actual['user_score'])\n",
    "# Корреляция Пирсона между продажами и отзывами пользователей "
   ]
  },
  {
   "cell_type": "code",
   "execution_count": 39,
   "metadata": {},
   "outputs": [
    {
     "data": {
      "text/plain": [
       "0.44656746994913427"
      ]
     },
     "execution_count": 39,
     "metadata": {},
     "output_type": "execute_result"
    }
   ],
   "source": [
    "XOne_actual['all_sales'].corr(XOne_actual['critic_score'])\n",
    "# Корреляция Пирсона между продажами и отзывами критиков "
   ]
  },
  {
   "cell_type": "markdown",
   "metadata": {},
   "source": [
    "По данным корреляции делаем вывод, что для платформы X360 есть небольшая прямая зависимость между продажами и отзывами критиков. Соответственно, чем лучше отзыв критика, тем выше продажи. Отзывы пользователей не сильно влияют на продажи, их коэффицент низкий, значит, корреляция слабая."
   ]
  },
  {
   "cell_type": "code",
   "execution_count": 40,
   "metadata": {},
   "outputs": [
    {
     "data": {
      "image/png": "[encoded data removed]",
      "text/plain": [
       "<Figure size 1080x360 with 2 Axes>"
      ]
     },
     "metadata": {
      "needs_background": "light"
     },
     "output_type": "display_data"
    },
    {
     "name": "stdout",
     "output_type": "stream",
     "text": [
      "Корреляция между отзывами критиков и игровой платформой 3DS : Умеренная 0.3494009303924131\n",
      "Корреляция между отзывами пользователей и продажами  3DS : Слабая 0.22480798039571082\n",
      "\n",
      "\n"
     ]
    },
    {
     "data": {
      "image/png": "[encoded data removed]",
      "text/plain": [
       "<Figure size 1080x360 with 2 Axes>"
      ]
     },
     "metadata": {
      "needs_background": "light"
     },
     "output_type": "display_data"
    },
    {
     "name": "stdout",
     "output_type": "stream",
     "text": [
      "Корреляция между отзывами критиков и игровой платформой PS3 : Умеренная 0.43243156856420634\n",
      "Корреляция между отзывами пользователей и продажами  PS3 : Слабая 0.12669133936341692\n",
      "\n",
      "\n"
     ]
    },
    {
     "data": {
      "image/png": "[encoded data removed]",
      "text/plain": [
       "<Figure size 1080x360 with 2 Axes>"
      ]
     },
     "metadata": {
      "needs_background": "light"
     },
     "output_type": "display_data"
    },
    {
     "name": "stdout",
     "output_type": "stream",
     "text": [
      "Корреляция между отзывами критиков и игровой платформой PS4 : Умеренная 0.40656790206178095\n",
      "Корреляция между отзывами пользователей и продажами  PS4 : Обратная слабая -0.031957110204556376\n",
      "\n",
      "\n"
     ]
    },
    {
     "data": {
      "image/png": "[encoded data removed]",
      "text/plain": [
       "<Figure size 1080x360 with 2 Axes>"
      ]
     },
     "metadata": {
      "needs_background": "light"
     },
     "output_type": "display_data"
    },
    {
     "name": "stdout",
     "output_type": "stream",
     "text": [
      "Корреляция между отзывами критиков и игровой платформой X360 : Умеренная 0.3937358653072584\n",
      "Корреляция между отзывами пользователей и продажами  X360 : Слабая 0.11445882978454186\n",
      "\n",
      "\n"
     ]
    },
    {
     "data": {
      "image/png": "[encoded data removed]",
      "text/plain": [
       "<Figure size 1080x360 with 2 Axes>"
      ]
     },
     "metadata": {
      "needs_background": "light"
     },
     "output_type": "display_data"
    },
    {
     "name": "stdout",
     "output_type": "stream",
     "text": [
      "Корреляция между отзывами критиков и игровой платформой XONE : Умеренная 0.4169983280084017\n",
      "Корреляция между отзывами пользователей и продажами  XONE : Обратная слабая -0.06892505328279414\n",
      "\n",
      "\n"
     ]
    },
    {
     "data": {
      "image/png": "[encoded data removed]",
      "text/plain": [
       "<Figure size 1080x360 with 2 Axes>"
      ]
     },
     "metadata": {
      "needs_background": "light"
     },
     "output_type": "display_data"
    },
    {
     "name": "stdout",
     "output_type": "stream",
     "text": [
      "Корреляция между отзывами критиков и игровой платформой PC : Слабая 0.25688673789482114\n",
      "Корреляция между отзывами пользователей и продажами  PC : Слабая 0.0055808194690084075\n",
      "\n",
      "\n"
     ]
    }
   ],
   "source": [
    "#Напишем функцию, которая будет отрисовывать графики рассеивания и считать корреляции\n",
    "def other_platform(name_of_platform):\n",
    "    platform = data[data['platform']==name_of_platform]\n",
    "    fig, ax = plt.subplots(1 ,2, figsize=(15,5))\n",
    "    sns.scatterplot(x='user_score', y='all_sales', data=platform, ax=ax[0])\n",
    "    sns.scatterplot(x='critic_score', y='all_sales', data=platform, ax=ax[1])\n",
    "    fig.suptitle(name_of_platform, fontsize=15)\n",
    "    ax[0].set(xlabel='Оценка пользователей')\n",
    "    ax[1].set(xlabel='Оценка критиков')\n",
    "    ax[0].set(ylabel='Количество продаж')\n",
    "    ax[1].set(ylabel='Количество продаж')\n",
    "    plt.show()\n",
    "    \n",
    "    user_correl = platform['user_score'].corr(platform['all_sales'])\n",
    "    critic_correl = platform['critic_score'].corr(platform['all_sales'])\n",
    "    \n",
    "    \n",
    "    if 0.3 >= critic_correl >= 0:\n",
    "        print('Корреляция между отзывами критиков и игровой платформой', name_of_platform.upper(), ': Слабая', critic_correl)\n",
    "    if 0.5 >= critic_correl >= 0.3:\n",
    "        print('Корреляция между отзывами критиков и игровой платформой', name_of_platform.upper(), ': Умеренная', critic_correl)\n",
    "    if 1 >= critic_correl >= 0.5:\n",
    "        print('Корреляция между отзывами критиков и игровой платформой', name_of_platform.upper(), ': Высокая', critic_correl)\n",
    "    if 0 >= critic_correl >= -0.3:\n",
    "        print('Корреляция между отзывами критиков и игровой платформой', name_of_platform.upper(), ': Обратная слабая', critic_correl)\n",
    "    if -0.3 >= critic_correl >= -0.5:\n",
    "        print('Корреляция между отзывами критиков и игровой платформой', name_of_platform.upper(), ': Обратная Умеренная', critic_correl)\n",
    "    if -0.5 >= critic_correl >= -1:\n",
    "        print('Корреляция между отзывами критиков и игровой платформой', name_of_platform.upper(), ': Обратная Высокая', critic_correl) \n",
    "\n",
    "    if 0.3 >= user_correl >= 0:\n",
    "        print('Корреляция между отзывами пользователей и продажами ', name_of_platform.upper(), ': Слабая', user_correl)\n",
    "    if 0.5 >= user_correl >= 0.3:\n",
    "        print('Корреляция между отзывами пользователей и продажами ', name_of_platform.upper(), ': Умеренная', user_correl)\n",
    "    if 1 >= user_correl >= 0.5:\n",
    "        print('Корреляция между отзывами пользователей и продажами ', name_of_platform.upper(), ': Высокая', user_correl)\n",
    "    if 0 >= user_correl >= -0.3:\n",
    "        print('Корреляция между отзывами пользователей и продажами ', name_of_platform.upper(), ': Обратная слабая', user_correl)\n",
    "    if -0.3 >= user_correl >= -0.5:\n",
    "        print('Корреляция между отзывами пользователей и продажами ', name_of_platform.upper(), ': Обратная Умеренная', user_correl)\n",
    "    if -0.5 >= user_correl >= -1:\n",
    "        print('Корреляция между отзывами пользователей и продажами ', name_of_platform.upper(), ': Обратная Высокая', user_correl)    \n",
    "    print('\\n')\n",
    "#С помощью цикла выведем все 5 графиков\n",
    "for platform in list_platform:\n",
    "    other_platform(platform)"
   ]
  },
  {
   "cell_type": "markdown",
   "metadata": {},
   "source": [
    "По результатам анализа можем сказать, что в целом для остальных платформ ситуация та же самая, за исключением PC, у которого свзяь с отзывами крайне мала. Также стоит выдлеить слабую, но обратную связь между отзывами пользователей и продажами PS4 и XOne. В целом, к критикам прислушиваются больше, чем к отзывам пользователей."
   ]
  },
  {
   "cell_type": "markdown",
   "metadata": {},
   "source": [
    "Теперь рассмотрим общее распределение игр по жанрам"
   ]
  },
  {
   "cell_type": "code",
   "execution_count": 41,
   "metadata": {},
   "outputs": [
    {
     "data": {
      "text/plain": [
       "<AxesSubplot:xlabel='genre'>"
      ]
     },
     "execution_count": 41,
     "metadata": {},
     "output_type": "execute_result"
    },
    {
     "data": {
      "image/png": "[encoded data removed]",
      "text/plain": [
       "<Figure size 720x432 with 1 Axes>"
      ]
     },
     "metadata": {
      "needs_background": "light"
     },
     "output_type": "display_data"
    }
   ],
   "source": [
    "median_genre=actual_data.groupby('genre')['all_sales'].median().sort_values(ascending=False)\n",
    "count_genre=actual_data.groupby('genre')['all_sales'].count().sort_values(ascending=False)\n",
    "count_genre.plot(y='genre',grid=True,figsize=(10,6),kind='bar')"
   ]
  },
  {
   "cell_type": "markdown",
   "metadata": {},
   "source": [
    "Больше всего продаются игры в жанре Action и Sports, а меньше всего игры в жанре puzzle и strategy. Разница в количестве продаж почти в 6 раз."
   ]
  },
  {
   "cell_type": "code",
   "execution_count": 42,
   "metadata": {},
   "outputs": [
    {
     "data": {
      "text/plain": [
       "<AxesSubplot:title={'center':'Распределение по жанрам и глобальных медианных продаж'}, xlabel='genre'>"
      ]
     },
     "execution_count": 42,
     "metadata": {},
     "output_type": "execute_result"
    },
    {
     "data": {
      "image/png": "[encoded data removed]",
      "text/plain": [
       "<Figure size 720x432 with 1 Axes>"
      ]
     },
     "metadata": {
      "needs_background": "light"
     },
     "output_type": "display_data"
    }
   ],
   "source": [
    "median_genre.plot(y='genre',grid=True,figsize=(10,6),kind='bar',alpha=0.5,title='Распределение по жанрам и глобальных медианных продаж')"
   ]
  },
  {
   "cell_type": "markdown",
   "metadata": {},
   "source": [
    "Касательно выручки от продаж, самые высокие значения имеют игры в жанре shooter, fighting, sports. В это же время самый покупаемый жанр Action немного ниже. Меньше всего выручки у игр в жанре Adventure."
   ]
  },
  {
   "cell_type": "markdown",
   "metadata": {},
   "source": [
    "**Теперь составим портрет каждого региона** Для этого мы определим для пользователя каждого региона cамые популярные платформы (топ 5)."
   ]
  },
  {
   "cell_type": "code",
   "execution_count": 43,
   "metadata": {},
   "outputs": [
    {
     "data": {
      "text/html": [
       "<div>\n",
       "<style scoped>\n",
       "    .dataframe tbody tr th:only-of-type {\n",
       "        vertical-align: middle;\n",
       "    }\n",
       "\n",
       "    .dataframe tbody tr th {\n",
       "        vertical-align: top;\n",
       "    }\n",
       "\n",
       "    .dataframe thead th {\n",
       "        text-align: right;\n",
       "    }\n",
       "</style>\n",
       "<table border=\"1\" class=\"dataframe\">\n",
       "  <thead>\n",
       "    <tr style=\"text-align: right;\">\n",
       "      <th></th>\n",
       "      <th>all_sales</th>\n",
       "      <th>na_sales</th>\n",
       "      <th>% sales</th>\n",
       "    </tr>\n",
       "    <tr>\n",
       "      <th>platform</th>\n",
       "      <th></th>\n",
       "      <th></th>\n",
       "      <th></th>\n",
       "    </tr>\n",
       "  </thead>\n",
       "  <tbody>\n",
       "    <tr>\n",
       "      <th>PS4</th>\n",
       "      <td>288.15</td>\n",
       "      <td>98.61</td>\n",
       "      <td>0.342218</td>\n",
       "    </tr>\n",
       "    <tr>\n",
       "      <th>XOne</th>\n",
       "      <td>140.36</td>\n",
       "      <td>81.27</td>\n",
       "      <td>0.579011</td>\n",
       "    </tr>\n",
       "    <tr>\n",
       "      <th>X360</th>\n",
       "      <td>48.22</td>\n",
       "      <td>28.30</td>\n",
       "      <td>0.586893</td>\n",
       "    </tr>\n",
       "    <tr>\n",
       "      <th>3DS</th>\n",
       "      <td>86.68</td>\n",
       "      <td>22.64</td>\n",
       "      <td>0.261191</td>\n",
       "    </tr>\n",
       "    <tr>\n",
       "      <th>PS3</th>\n",
       "      <td>68.18</td>\n",
       "      <td>22.05</td>\n",
       "      <td>0.323409</td>\n",
       "    </tr>\n",
       "  </tbody>\n",
       "</table>\n",
       "</div>"
      ],
      "text/plain": [
       "          all_sales  na_sales   % sales\n",
       "platform                               \n",
       "PS4          288.15     98.61  0.342218\n",
       "XOne         140.36     81.27  0.579011\n",
       "X360          48.22     28.30  0.586893\n",
       "3DS           86.68     22.64  0.261191\n",
       "PS3           68.18     22.05  0.323409"
      ]
     },
     "execution_count": 43,
     "metadata": {},
     "output_type": "execute_result"
    }
   ],
   "source": [
    "# Топ 5 продаж платформ в Северной Америке\n",
    "na_sales_platform=actual_data.pivot_table(index='platform',values=['na_sales','all_sales'],aggfunc=('sum'))\n",
    "na_sales_platform=na_sales_platform.sort_values(by='na_sales',ascending=False).head(5)\n",
    "na_sales_platform['% sales']=na_sales_platform['na_sales']/na_sales_platform['all_sales'] #доля продаж\n",
    "na_sales_platform"
   ]
  },
  {
   "cell_type": "markdown",
   "metadata": {},
   "source": [
    "Самая популярная платформа в Северной Америке- X360, затем PS3 c небольшой разницей. "
   ]
  },
  {
   "cell_type": "code",
   "execution_count": 44,
   "metadata": {},
   "outputs": [
    {
     "data": {
      "text/html": [
       "<div>\n",
       "<style scoped>\n",
       "    .dataframe tbody tr th:only-of-type {\n",
       "        vertical-align: middle;\n",
       "    }\n",
       "\n",
       "    .dataframe tbody tr th {\n",
       "        vertical-align: top;\n",
       "    }\n",
       "\n",
       "    .dataframe thead th {\n",
       "        text-align: right;\n",
       "    }\n",
       "</style>\n",
       "<table border=\"1\" class=\"dataframe\">\n",
       "  <thead>\n",
       "    <tr style=\"text-align: right;\">\n",
       "      <th></th>\n",
       "      <th>all_sales</th>\n",
       "      <th>eu_sales</th>\n",
       "      <th>% sales</th>\n",
       "    </tr>\n",
       "    <tr>\n",
       "      <th>platform</th>\n",
       "      <th></th>\n",
       "      <th></th>\n",
       "      <th></th>\n",
       "    </tr>\n",
       "  </thead>\n",
       "  <tbody>\n",
       "    <tr>\n",
       "      <th>PS4</th>\n",
       "      <td>288.15</td>\n",
       "      <td>130.04</td>\n",
       "      <td>0.451293</td>\n",
       "    </tr>\n",
       "    <tr>\n",
       "      <th>XOne</th>\n",
       "      <td>140.36</td>\n",
       "      <td>46.25</td>\n",
       "      <td>0.329510</td>\n",
       "    </tr>\n",
       "    <tr>\n",
       "      <th>PS3</th>\n",
       "      <td>68.18</td>\n",
       "      <td>25.54</td>\n",
       "      <td>0.374597</td>\n",
       "    </tr>\n",
       "    <tr>\n",
       "      <th>PC</th>\n",
       "      <td>27.40</td>\n",
       "      <td>18.22</td>\n",
       "      <td>0.664964</td>\n",
       "    </tr>\n",
       "    <tr>\n",
       "      <th>3DS</th>\n",
       "      <td>86.68</td>\n",
       "      <td>16.12</td>\n",
       "      <td>0.185971</td>\n",
       "    </tr>\n",
       "  </tbody>\n",
       "</table>\n",
       "</div>"
      ],
      "text/plain": [
       "          all_sales  eu_sales   % sales\n",
       "platform                               \n",
       "PS4          288.15    130.04  0.451293\n",
       "XOne         140.36     46.25  0.329510\n",
       "PS3           68.18     25.54  0.374597\n",
       "PC            27.40     18.22  0.664964\n",
       "3DS           86.68     16.12  0.185971"
      ]
     },
     "execution_count": 44,
     "metadata": {},
     "output_type": "execute_result"
    }
   ],
   "source": [
    "# Топ 5 продаж платформ в Европе\n",
    "eu_sales_platform=actual_data.pivot_table(index='platform',values=['eu_sales','all_sales'],aggfunc=('sum'))\n",
    "eu_sales_platform=eu_sales_platform.sort_values(by='eu_sales',ascending=False).head(5)\n",
    "eu_sales_platform['% sales']=eu_sales_platform['eu_sales']/eu_sales_platform['all_sales'] #доля продаж\n",
    "eu_sales_platform"
   ]
  },
  {
   "cell_type": "markdown",
   "metadata": {},
   "source": [
    "Самая популярная платформа в Европе- PS3, затем Xbox 360. На 3 месте PS4."
   ]
  },
  {
   "cell_type": "code",
   "execution_count": 45,
   "metadata": {},
   "outputs": [
    {
     "data": {
      "text/html": [
       "<div>\n",
       "<style scoped>\n",
       "    .dataframe tbody tr th:only-of-type {\n",
       "        vertical-align: middle;\n",
       "    }\n",
       "\n",
       "    .dataframe tbody tr th {\n",
       "        vertical-align: top;\n",
       "    }\n",
       "\n",
       "    .dataframe thead th {\n",
       "        text-align: right;\n",
       "    }\n",
       "</style>\n",
       "<table border=\"1\" class=\"dataframe\">\n",
       "  <thead>\n",
       "    <tr style=\"text-align: right;\">\n",
       "      <th></th>\n",
       "      <th>all_sales</th>\n",
       "      <th>jp_sales</th>\n",
       "      <th>% sales</th>\n",
       "    </tr>\n",
       "    <tr>\n",
       "      <th>platform</th>\n",
       "      <th></th>\n",
       "      <th></th>\n",
       "      <th></th>\n",
       "    </tr>\n",
       "  </thead>\n",
       "  <tbody>\n",
       "    <tr>\n",
       "      <th>3DS</th>\n",
       "      <td>86.68</td>\n",
       "      <td>44.24</td>\n",
       "      <td>0.510383</td>\n",
       "    </tr>\n",
       "    <tr>\n",
       "      <th>PS4</th>\n",
       "      <td>288.15</td>\n",
       "      <td>15.02</td>\n",
       "      <td>0.052126</td>\n",
       "    </tr>\n",
       "    <tr>\n",
       "      <th>PS3</th>\n",
       "      <td>68.18</td>\n",
       "      <td>11.22</td>\n",
       "      <td>0.164564</td>\n",
       "    </tr>\n",
       "    <tr>\n",
       "      <th>XOne</th>\n",
       "      <td>140.36</td>\n",
       "      <td>0.32</td>\n",
       "      <td>0.002280</td>\n",
       "    </tr>\n",
       "    <tr>\n",
       "      <th>X360</th>\n",
       "      <td>48.22</td>\n",
       "      <td>0.08</td>\n",
       "      <td>0.001659</td>\n",
       "    </tr>\n",
       "  </tbody>\n",
       "</table>\n",
       "</div>"
      ],
      "text/plain": [
       "          all_sales  jp_sales   % sales\n",
       "platform                               \n",
       "3DS           86.68     44.24  0.510383\n",
       "PS4          288.15     15.02  0.052126\n",
       "PS3           68.18     11.22  0.164564\n",
       "XOne         140.36      0.32  0.002280\n",
       "X360          48.22      0.08  0.001659"
      ]
     },
     "execution_count": 45,
     "metadata": {},
     "output_type": "execute_result"
    }
   ],
   "source": [
    "# Топ 5 продаж платформ в Японии\n",
    "jp_sales_platform=actual_data.pivot_table(index='platform',values=['jp_sales','all_sales'],aggfunc=('sum'))\n",
    "jp_sales_platform=jp_sales_platform.sort_values(by='jp_sales',ascending=False).head(5)\n",
    "jp_sales_platform['% sales']=jp_sales_platform['jp_sales']/jp_sales_platform['all_sales'] #доля продаж\n",
    "jp_sales_platform"
   ]
  },
  {
   "cell_type": "markdown",
   "metadata": {},
   "source": [
    "Самая популярная платформа в Японии 3DS, затем PS3. На 3 месте PS4."
   ]
  },
  {
   "cell_type": "code",
   "execution_count": 46,
   "metadata": {},
   "outputs": [
    {
     "data": {
      "text/plain": [
       "<AxesSubplot:ylabel='% sales'>"
      ]
     },
     "execution_count": 46,
     "metadata": {},
     "output_type": "execute_result"
    },
    {
     "data": {
      "image/png": "[encoded data removed]",
      "text/plain": [
       "<Figure size 432x288 with 1 Axes>"
      ]
     },
     "metadata": {},
     "output_type": "display_data"
    }
   ],
   "source": [
    "# для анализа долей продаж построим круговую диаграмму по каждому региону\n",
    "na_sales_platform.plot(kind='pie',y=\"% sales\")"
   ]
  },
  {
   "cell_type": "markdown",
   "metadata": {},
   "source": [
    "В Северной Америке платформа X360 имеет больше половины всех продаж этой платформы. Для PS3 и PS4 доля всех продаж около 30-40%. Также почти четверть всех продаж у платформы 3DS и более 50% у XOne."
   ]
  },
  {
   "cell_type": "code",
   "execution_count": 47,
   "metadata": {},
   "outputs": [
    {
     "data": {
      "text/plain": [
       "<AxesSubplot:ylabel='% sales'>"
      ]
     },
     "execution_count": 47,
     "metadata": {},
     "output_type": "execute_result"
    },
    {
     "data": {
      "image/png": "[encoded data removed]",
      "text/plain": [
       "<Figure size 432x288 with 1 Axes>"
      ]
     },
     "metadata": {},
     "output_type": "display_data"
    }
   ],
   "source": [
    "eu_sales_platform.plot(kind='pie',y=\"% sales\")"
   ]
  },
  {
   "cell_type": "markdown",
   "metadata": {},
   "source": [
    "График показывает, что почти 45% всех продаж PS4 приходится на Европу. Доли продаж X360,XOne,PS3 почти одинаковы и составляют примерно 30-35%."
   ]
  },
  {
   "cell_type": "code",
   "execution_count": 48,
   "metadata": {},
   "outputs": [
    {
     "data": {
      "text/plain": [
       "<AxesSubplot:ylabel='% sales'>"
      ]
     },
     "execution_count": 48,
     "metadata": {},
     "output_type": "execute_result"
    },
    {
     "data": {
      "image/png": "[encoded data removed]",
      "text/plain": [
       "<Figure size 432x288 with 1 Axes>"
      ]
     },
     "metadata": {},
     "output_type": "display_data"
    }
   ],
   "source": [
    "jp_sales_platform.plot(kind='pie',y=\"% sales\")"
   ]
  },
  {
   "cell_type": "markdown",
   "metadata": {},
   "source": [
    "В Японии платформа 3DS самая популярная и в этом регионе имеет самую большую долю продаж. Доли PS3 и PS4 почти одинаковы, примерно 10%."
   ]
  },
  {
   "cell_type": "markdown",
   "metadata": {},
   "source": [
    "Теперь рассмотрим для каждого региона топ 5 самых популярных жанров"
   ]
  },
  {
   "cell_type": "code",
   "execution_count": 49,
   "metadata": {},
   "outputs": [
    {
     "data": {
      "text/html": [
       "<div>\n",
       "<style scoped>\n",
       "    .dataframe tbody tr th:only-of-type {\n",
       "        vertical-align: middle;\n",
       "    }\n",
       "\n",
       "    .dataframe tbody tr th {\n",
       "        vertical-align: top;\n",
       "    }\n",
       "\n",
       "    .dataframe thead th {\n",
       "        text-align: right;\n",
       "    }\n",
       "</style>\n",
       "<table border=\"1\" class=\"dataframe\">\n",
       "  <thead>\n",
       "    <tr style=\"text-align: right;\">\n",
       "      <th></th>\n",
       "      <th>na_sales</th>\n",
       "    </tr>\n",
       "    <tr>\n",
       "      <th>genre</th>\n",
       "      <th></th>\n",
       "    </tr>\n",
       "  </thead>\n",
       "  <tbody>\n",
       "    <tr>\n",
       "      <th>Shooter</th>\n",
       "      <td>76.97</td>\n",
       "    </tr>\n",
       "    <tr>\n",
       "      <th>Action</th>\n",
       "      <td>66.59</td>\n",
       "    </tr>\n",
       "    <tr>\n",
       "      <th>Sports</th>\n",
       "      <td>45.51</td>\n",
       "    </tr>\n",
       "    <tr>\n",
       "      <th>Role-Playing</th>\n",
       "      <td>32.22</td>\n",
       "    </tr>\n",
       "    <tr>\n",
       "      <th>Misc</th>\n",
       "      <td>11.19</td>\n",
       "    </tr>\n",
       "  </tbody>\n",
       "</table>\n",
       "</div>"
      ],
      "text/plain": [
       "              na_sales\n",
       "genre                 \n",
       "Shooter          76.97\n",
       "Action           66.59\n",
       "Sports           45.51\n",
       "Role-Playing     32.22\n",
       "Misc             11.19"
      ]
     },
     "execution_count": 49,
     "metadata": {},
     "output_type": "execute_result"
    }
   ],
   "source": [
    "# Топ 5 жанров в Северной Америке\n",
    "na_sales_genre=actual_data.pivot_table(index='genre',values=['na_sales'],aggfunc=('sum'))\n",
    "na_sales_genre=na_sales_genre.sort_values(by='na_sales',ascending=False).head(5)\n",
    "na_sales_genre"
   ]
  },
  {
   "cell_type": "markdown",
   "metadata": {},
   "source": [
    "Самый популярный жанр в Северной Америке- это Action. Затем идут Shooter и Sports"
   ]
  },
  {
   "cell_type": "code",
   "execution_count": 50,
   "metadata": {},
   "outputs": [
    {
     "data": {
      "text/html": [
       "<div>\n",
       "<style scoped>\n",
       "    .dataframe tbody tr th:only-of-type {\n",
       "        vertical-align: middle;\n",
       "    }\n",
       "\n",
       "    .dataframe tbody tr th {\n",
       "        vertical-align: top;\n",
       "    }\n",
       "\n",
       "    .dataframe thead th {\n",
       "        text-align: right;\n",
       "    }\n",
       "</style>\n",
       "<table border=\"1\" class=\"dataframe\">\n",
       "  <thead>\n",
       "    <tr style=\"text-align: right;\">\n",
       "      <th></th>\n",
       "      <th>eu_sales</th>\n",
       "    </tr>\n",
       "    <tr>\n",
       "      <th>genre</th>\n",
       "      <th></th>\n",
       "    </tr>\n",
       "  </thead>\n",
       "  <tbody>\n",
       "    <tr>\n",
       "      <th>Action</th>\n",
       "      <td>69.36</td>\n",
       "    </tr>\n",
       "    <tr>\n",
       "      <th>Shooter</th>\n",
       "      <td>64.08</td>\n",
       "    </tr>\n",
       "    <tr>\n",
       "      <th>Sports</th>\n",
       "      <td>44.66</td>\n",
       "    </tr>\n",
       "    <tr>\n",
       "      <th>Role-Playing</th>\n",
       "      <td>27.20</td>\n",
       "    </tr>\n",
       "    <tr>\n",
       "      <th>Racing</th>\n",
       "      <td>11.97</td>\n",
       "    </tr>\n",
       "  </tbody>\n",
       "</table>\n",
       "</div>"
      ],
      "text/plain": [
       "              eu_sales\n",
       "genre                 \n",
       "Action           69.36\n",
       "Shooter          64.08\n",
       "Sports           44.66\n",
       "Role-Playing     27.20\n",
       "Racing           11.97"
      ]
     },
     "execution_count": 50,
     "metadata": {},
     "output_type": "execute_result"
    }
   ],
   "source": [
    "# Топ 5 жанров в Европе\n",
    "eu_sales_genre=actual_data.pivot_table(index='genre',values=['eu_sales'],aggfunc=('sum'))\n",
    "eu_sales_genre=eu_sales_genre.sort_values(by='eu_sales',ascending=False).head(5)\n",
    "eu_sales_genre"
   ]
  },
  {
   "cell_type": "markdown",
   "metadata": {},
   "source": [
    "В Европе самые популярные жанры такие же как и в Северной Америке"
   ]
  },
  {
   "cell_type": "code",
   "execution_count": 51,
   "metadata": {},
   "outputs": [
    {
     "data": {
      "text/html": [
       "<div>\n",
       "<style scoped>\n",
       "    .dataframe tbody tr th:only-of-type {\n",
       "        vertical-align: middle;\n",
       "    }\n",
       "\n",
       "    .dataframe tbody tr th {\n",
       "        vertical-align: top;\n",
       "    }\n",
       "\n",
       "    .dataframe thead th {\n",
       "        text-align: right;\n",
       "    }\n",
       "</style>\n",
       "<table border=\"1\" class=\"dataframe\">\n",
       "  <thead>\n",
       "    <tr style=\"text-align: right;\">\n",
       "      <th></th>\n",
       "      <th>jp_sales</th>\n",
       "    </tr>\n",
       "    <tr>\n",
       "      <th>genre</th>\n",
       "      <th></th>\n",
       "    </tr>\n",
       "  </thead>\n",
       "  <tbody>\n",
       "    <tr>\n",
       "      <th>Role-Playing</th>\n",
       "      <td>26.21</td>\n",
       "    </tr>\n",
       "    <tr>\n",
       "      <th>Action</th>\n",
       "      <td>23.79</td>\n",
       "    </tr>\n",
       "    <tr>\n",
       "      <th>Fighting</th>\n",
       "      <td>4.93</td>\n",
       "    </tr>\n",
       "    <tr>\n",
       "      <th>Shooter</th>\n",
       "      <td>3.33</td>\n",
       "    </tr>\n",
       "    <tr>\n",
       "      <th>Misc</th>\n",
       "      <td>2.90</td>\n",
       "    </tr>\n",
       "  </tbody>\n",
       "</table>\n",
       "</div>"
      ],
      "text/plain": [
       "              jp_sales\n",
       "genre                 \n",
       "Role-Playing     26.21\n",
       "Action           23.79\n",
       "Fighting          4.93\n",
       "Shooter           3.33\n",
       "Misc              2.90"
      ]
     },
     "execution_count": 51,
     "metadata": {},
     "output_type": "execute_result"
    }
   ],
   "source": [
    "# Топ 5 жанров в Японии\n",
    "jp_sales_genre=actual_data.pivot_table(index='genre',values=['jp_sales'],aggfunc=('sum'))\n",
    "jp_sales_genre=jp_sales_genre.sort_values(by='jp_sales',ascending=False).head(5)\n",
    "jp_sales_genre"
   ]
  },
  {
   "cell_type": "markdown",
   "metadata": {},
   "source": [
    "В Японии на первом месте находится Role-Playing, затем Action и с большим отрывом Shooter. Это может быть обьяснено другим менталитетом и преобладанием аркадных автоматов и игр определеннного жанра в Японии."
   ]
  },
  {
   "cell_type": "markdown",
   "metadata": {},
   "source": [
    "Теперь посмотрим, влияет ли рейтинг ESRB на продажи в отдельном регионе"
   ]
  },
  {
   "cell_type": "code",
   "execution_count": 52,
   "metadata": {},
   "outputs": [
    {
     "data": {
      "text/html": [
       "<div>\n",
       "<style scoped>\n",
       "    .dataframe tbody tr th:only-of-type {\n",
       "        vertical-align: middle;\n",
       "    }\n",
       "\n",
       "    .dataframe tbody tr th {\n",
       "        vertical-align: top;\n",
       "    }\n",
       "\n",
       "    .dataframe thead th {\n",
       "        text-align: right;\n",
       "    }\n",
       "</style>\n",
       "<table border=\"1\" class=\"dataframe\">\n",
       "  <thead>\n",
       "    <tr style=\"text-align: right;\">\n",
       "      <th></th>\n",
       "      <th>na_sales</th>\n",
       "    </tr>\n",
       "    <tr>\n",
       "      <th>rating</th>\n",
       "      <th></th>\n",
       "    </tr>\n",
       "  </thead>\n",
       "  <tbody>\n",
       "    <tr>\n",
       "      <th>M</th>\n",
       "      <td>95.26</td>\n",
       "    </tr>\n",
       "    <tr>\n",
       "      <th>none</th>\n",
       "      <td>60.29</td>\n",
       "    </tr>\n",
       "    <tr>\n",
       "      <th>E</th>\n",
       "      <td>42.51</td>\n",
       "    </tr>\n",
       "    <tr>\n",
       "      <th>T</th>\n",
       "      <td>36.55</td>\n",
       "    </tr>\n",
       "    <tr>\n",
       "      <th>E10+</th>\n",
       "      <td>25.55</td>\n",
       "    </tr>\n",
       "  </tbody>\n",
       "</table>\n",
       "</div>"
      ],
      "text/plain": [
       "        na_sales\n",
       "rating          \n",
       "M          95.26\n",
       "none       60.29\n",
       "E          42.51\n",
       "T          36.55\n",
       "E10+       25.55"
      ]
     },
     "execution_count": 52,
     "metadata": {},
     "output_type": "execute_result"
    }
   ],
   "source": [
    "# Соотношение рейтинга и продаж в Северной Америке\n",
    "na_sales_ESRB=actual_data.pivot_table(index='rating',values=['na_sales'],aggfunc=('sum'))\n",
    "na_sales_ESRB=na_sales_ESRB.sort_values(by='na_sales',ascending=False)\n",
    "na_sales_ESRB"
   ]
  },
  {
   "cell_type": "code",
   "execution_count": 53,
   "metadata": {},
   "outputs": [
    {
     "data": {
      "text/html": [
       "<div>\n",
       "<style scoped>\n",
       "    .dataframe tbody tr th:only-of-type {\n",
       "        vertical-align: middle;\n",
       "    }\n",
       "\n",
       "    .dataframe tbody tr th {\n",
       "        vertical-align: top;\n",
       "    }\n",
       "\n",
       "    .dataframe thead th {\n",
       "        text-align: right;\n",
       "    }\n",
       "</style>\n",
       "<table border=\"1\" class=\"dataframe\">\n",
       "  <thead>\n",
       "    <tr style=\"text-align: right;\">\n",
       "      <th></th>\n",
       "      <th>eu_sales</th>\n",
       "    </tr>\n",
       "    <tr>\n",
       "      <th>rating</th>\n",
       "      <th></th>\n",
       "    </tr>\n",
       "  </thead>\n",
       "  <tbody>\n",
       "    <tr>\n",
       "      <th>M</th>\n",
       "      <td>92.75</td>\n",
       "    </tr>\n",
       "    <tr>\n",
       "      <th>none</th>\n",
       "      <td>55.96</td>\n",
       "    </tr>\n",
       "    <tr>\n",
       "      <th>E</th>\n",
       "      <td>51.65</td>\n",
       "    </tr>\n",
       "    <tr>\n",
       "      <th>T</th>\n",
       "      <td>32.27</td>\n",
       "    </tr>\n",
       "    <tr>\n",
       "      <th>E10+</th>\n",
       "      <td>19.03</td>\n",
       "    </tr>\n",
       "  </tbody>\n",
       "</table>\n",
       "</div>"
      ],
      "text/plain": [
       "        eu_sales\n",
       "rating          \n",
       "M          92.75\n",
       "none       55.96\n",
       "E          51.65\n",
       "T          32.27\n",
       "E10+       19.03"
      ]
     },
     "execution_count": 53,
     "metadata": {},
     "output_type": "execute_result"
    }
   ],
   "source": [
    "# Соотношение рейтинга и продаж в Европе\n",
    "eu_sales_ESRB=actual_data.pivot_table(index='rating',values=['eu_sales'],aggfunc=('sum'))\n",
    "eu_sales_ESRB=eu_sales_ESRB.sort_values(by='eu_sales',ascending=False)\n",
    "eu_sales_ESRB"
   ]
  },
  {
   "cell_type": "code",
   "execution_count": 54,
   "metadata": {},
   "outputs": [
    {
     "data": {
      "text/html": [
       "<div>\n",
       "<style scoped>\n",
       "    .dataframe tbody tr th:only-of-type {\n",
       "        vertical-align: middle;\n",
       "    }\n",
       "\n",
       "    .dataframe tbody tr th {\n",
       "        vertical-align: top;\n",
       "    }\n",
       "\n",
       "    .dataframe thead th {\n",
       "        text-align: right;\n",
       "    }\n",
       "</style>\n",
       "<table border=\"1\" class=\"dataframe\">\n",
       "  <thead>\n",
       "    <tr style=\"text-align: right;\">\n",
       "      <th></th>\n",
       "      <th>jp_sales</th>\n",
       "    </tr>\n",
       "    <tr>\n",
       "      <th>rating</th>\n",
       "      <th></th>\n",
       "    </tr>\n",
       "  </thead>\n",
       "  <tbody>\n",
       "    <tr>\n",
       "      <th>none</th>\n",
       "      <td>45.65</td>\n",
       "    </tr>\n",
       "    <tr>\n",
       "      <th>T</th>\n",
       "      <td>10.36</td>\n",
       "    </tr>\n",
       "    <tr>\n",
       "      <th>M</th>\n",
       "      <td>7.03</td>\n",
       "    </tr>\n",
       "    <tr>\n",
       "      <th>E</th>\n",
       "      <td>5.47</td>\n",
       "    </tr>\n",
       "    <tr>\n",
       "      <th>E10+</th>\n",
       "      <td>2.37</td>\n",
       "    </tr>\n",
       "  </tbody>\n",
       "</table>\n",
       "</div>"
      ],
      "text/plain": [
       "        jp_sales\n",
       "rating          \n",
       "none       45.65\n",
       "T          10.36\n",
       "M           7.03\n",
       "E           5.47\n",
       "E10+        2.37"
      ]
     },
     "execution_count": 54,
     "metadata": {},
     "output_type": "execute_result"
    }
   ],
   "source": [
    "# Соотношение рейтинга ESRB и продаж в Японии\n",
    "jp_sales_ESRB=actual_data.pivot_table(index='rating',values=['jp_sales'],aggfunc=('sum'))\n",
    "jp_sales_ESRB=jp_sales_ESRB.sort_values(by='jp_sales',ascending=False)\n",
    "jp_sales_ESRB"
   ]
  },
  {
   "cell_type": "code",
   "execution_count": 55,
   "metadata": {},
   "outputs": [
    {
     "data": {
      "text/plain": [
       "<AxesSubplot:xlabel='rating'>"
      ]
     },
     "execution_count": 55,
     "metadata": {},
     "output_type": "execute_result"
    },
    {
     "data": {
      "image/png": "[encoded data removed]",
      "text/plain": [
       "<Figure size 432x288 with 1 Axes>"
      ]
     },
     "metadata": {
      "needs_background": "light"
     },
     "output_type": "display_data"
    },
    {
     "data": {
      "image/png": "[encoded data removed]",
      "text/plain": [
       "<Figure size 432x288 with 1 Axes>"
      ]
     },
     "metadata": {
      "needs_background": "light"
     },
     "output_type": "display_data"
    },
    {
     "data": {
      "image/png": "[encoded data removed]",
      "text/plain": [
       "<Figure size 432x288 with 1 Axes>"
      ]
     },
     "metadata": {
      "needs_background": "light"
     },
     "output_type": "display_data"
    }
   ],
   "source": [
    "na_sales_ESRB.plot(kind='bar') # гисторгамма продаж по возрастных ограничений для Северной Америки\n",
    "eu_sales_ESRB.plot(kind='bar') # гисторгамма продаж по возрастных ограничений для Европы\n",
    "jp_sales_ESRB.plot(kind='bar') # гисторгамма продаж по возрастных ограничений для Японии"
   ]
  },
  {
   "cell_type": "markdown",
   "metadata": {},
   "source": [
    "Анализируя полученные графики, можно сказать, что самые популярные возрастные ограничения в Северной Америке, Европе, Японии - это E, T, M, E10+. Также из-за заполнения пропусков на втором месте в Северной Америке и Европе и на первом в Японии стоит неизвестный рейтинг. В Северной Америке и Европе больше всего игр с категорией M и E, в Японии же больше всего T, затем M и Е. Также стоит отметить, что игр категории Е и Е+10 в Японии гораздо меньше чем в остальных регионах. Можно сделать вывод, что при разработке игры выбор региона для продажи может повлиять на её рейтинг и целевую аудиторию(дети, взрослые)."
   ]
  },
  {
   "cell_type": "markdown",
   "metadata": {},
   "source": [
    "**Проверка гипотез**"
   ]
  },
  {
   "cell_type": "markdown",
   "metadata": {},
   "source": [
    "Для формулирования и проверки гипотез я применил функцию ttest_ind. Сравнивая две совокупности и формулируя нулевую гипотезу, я эти совокупности приравняю и сравню со статистический значимостью. Формулирую двустороннюю гипотезу, а статистическая значимость будет равна 5%."
   ]
  },
  {
   "cell_type": "markdown",
   "metadata": {},
   "source": [
    "Предположение: Средние пользовательские рейтинги платформ Xbox One и PC одинаковые. Тогда:\n",
    "\n",
    "Нулевая гипотеза: cредний пользовательский рейтинг платформы XOne и PC равны.\n",
    "\n",
    "Альтернативная гипотеза: cредний пользовательский рейтинг платформы XOne и PC не равны."
   ]
  },
  {
   "cell_type": "code",
   "execution_count": 56,
   "metadata": {},
   "outputs": [
    {
     "name": "stdout",
     "output_type": "stream",
     "text": [
      "Дисперсия для платформы XOne: 1.8910066518847009\n",
      "Дисперсия для платформы PC: 2.9167826202852196\n"
     ]
    }
   ],
   "source": [
    "XOne_data=actual_data.query('platform==\"XOne\"')\n",
    "PC_data=actual_data.query('platform==\"PC\"')\n",
    "variance_XOne=np.var(XOne_data['user_score'],ddof=1)\n",
    "print('Дисперсия для платформы XOne:',variance_XOne)\n",
    "variance_PC=np.var(PC_data['user_score'],ddof=1)\n",
    "print('Дисперсия для платформы PC:',variance_PC)"
   ]
  },
  {
   "cell_type": "code",
   "execution_count": 57,
   "metadata": {},
   "outputs": [
    {
     "name": "stdout",
     "output_type": "stream",
     "text": [
      "p-значение: 0.139237120435483\n",
      "Не получилось отвергнуть нулевую гипотезу\n"
     ]
    }
   ],
   "source": [
    "result=st.ttest_ind(XOne_data['user_score'].dropna(),PC_data['user_score'].dropna(),equal_var=False) \n",
    "# проверяем равенство двух независимых совокупностей. Значения дисперсий разные, поэтому equal_var=False\n",
    "alpha = .05 # критический уровень статистической значимости\n",
    "#если p-value окажется меньше него - отвергнем гипотезу\n",
    "print('p-значение:', result.pvalue)\n",
    "if (result.pvalue < alpha):\n",
    "    print(\"Отвергаем нулевую гипотезу\")\n",
    "else:\n",
    "    print(\"Не получилось отвергнуть нулевую гипотезу\")"
   ]
  },
  {
   "cell_type": "markdown",
   "metadata": {},
   "source": [
    "В результате теста делаем вывод, что средние пользовательские рейтинги платформ Xbox One и PC равны"
   ]
  },
  {
   "cell_type": "markdown",
   "metadata": {},
   "source": [
    "Предположение: Средние пользовательские рейтинги жанров Action и Sports разные. Тогда:\n",
    "\n",
    "Нулевая гипотеза: Средние пользовательские рейтинги жанров Action и Sports равны,\n",
    "\n",
    "Альтернативная гипотеза: Средние пользовательские рейтинги жанров Action и Sports различаются"
   ]
  },
  {
   "cell_type": "code",
   "execution_count": 58,
   "metadata": {},
   "outputs": [
    {
     "name": "stdout",
     "output_type": "stream",
     "text": [
      "Дисперсия жанра Action пользовательского рейтинга: 1.8730831769856158\n",
      "Дисперсия жанра Sport пользовательского рейтинга: 3.414333333333333\n"
     ]
    }
   ],
   "source": [
    "action_data=actual_data.query('genre==\"Action\"')\n",
    "sport_data=actual_data.query('genre==\"Sports\"')\n",
    "variance_action_data=np.var(action_data['user_score'],ddof=1)\n",
    "print('Дисперсия жанра Action пользовательского рейтинга:',variance_action_data)\n",
    "variance_sport_data=np.var(sport_data['user_score'],ddof=1)\n",
    "print('Дисперсия жанра Sport пользовательского рейтинга:',variance_sport_data)"
   ]
  },
  {
   "cell_type": "code",
   "execution_count": 59,
   "metadata": {},
   "outputs": [
    {
     "name": "stdout",
     "output_type": "stream",
     "text": [
      "p-значение: 3.086701057178146e-13\n",
      "Отвергаем нулевую гипотезу\n"
     ]
    }
   ],
   "source": [
    "results=st.ttest_ind(action_data['user_score'].dropna(),sport_data['user_score'].dropna(),equal_var=False) \n",
    "# проверяем равенство двух независимых совокупностей. Значения дисперсий разные, поэтому equal_var=False\n",
    "alpha = .05 # критический уровень статистической значимости\n",
    "#если p-value окажется меньше него - отвергнем гипотезу\n",
    "print('p-значение:', results.pvalue)\n",
    "if (results.pvalue < alpha):\n",
    "    print(\"Отвергаем нулевую гипотезу\")\n",
    "else:\n",
    "    print(\"Не получилось отвергнуть нулевую гипотезу\")"
   ]
  },
  {
   "cell_type": "markdown",
   "metadata": {},
   "source": [
    "В результате теста делаем вывод, что средние пользовательские рейтинги жанров Action и Sports не равны"
   ]
  },
  {
   "cell_type": "markdown",
   "metadata": {},
   "source": [
    "**Общий вывод:**\n",
    "\n",
    "В результате этой работы был проведен анализ данных о продажах различных игр, оценках пользователей и экспертов, жанрах и платформах. В результате предобработки данных были изменены названия столбцов, обработаны пропуски и приведены к нужным типы данных. После этого исследовательский анализ показал, что:\n",
    "\n",
    "1) самые популярные платформы - PS4,XOne,X360,PS3,3DS\n",
    "\n",
    "2) самая перспективная платформа - PS4, но также можно выделить и XОne, которая вышла недавно\n",
    "\n",
    "3) самые прибыльные игры - игры в жанре action для Европы и Америки и role-playing в Японии\n",
    "\n",
    "4) самый выпускаемый жанр - action\n",
    "\n",
    "5) при разработке игры выбор региона для продажи может повлиять на её рейтинг и целевую аудиторию(дети, взрослые) в зависимости от региона\n",
    "\n",
    "6) В Северной Америке и Европе больше всего игр с категорией M и E, в Японии же больше всего T, затем M и Е. Также из-за заполнения пропусков на втором месте в Северной Америке и Европе и на первом в Японии стоит неизвестный рейтинг, что может быть вызвано ошибкой при введении данных или рейтинг у игры не был определён.\n",
    "\n",
    "Были проверены 2 гипотезы, по результатам проверки:\n",
    "Средние пользовательские рейтинги платформ Xbox One и PC равны\n",
    "Cредние пользовательские рейтинги жанров Action и Sports не равны\n",
    "Соотвественно, рекламную кампанию надо планировать для игр, выходящих на Playstation 4 и XOne и игр жанра action, shooter и role-playing."
   ]
  }
 ],
 "metadata": {
  "ExecuteTimeLog": [
   {
    "duration": 1332,
    "start_time": "2022-09-19T09:32:19.430Z"
   },
   {
    "duration": 197,
    "start_time": "2022-09-19T09:32:22.412Z"
   },
   {
    "duration": 15,
    "start_time": "2022-09-19T09:33:09.353Z"
   },
   {
    "duration": 9,
    "start_time": "2022-09-19T09:36:23.324Z"
   },
   {
    "duration": 3,
    "start_time": "2022-09-19T09:37:56.553Z"
   },
   {
    "duration": 13,
    "start_time": "2022-09-19T09:40:17.452Z"
   },
   {
    "duration": 11,
    "start_time": "2022-09-19T09:43:51.741Z"
   },
   {
    "duration": 6,
    "start_time": "2022-09-19T09:43:56.938Z"
   },
   {
    "duration": 14,
    "start_time": "2022-09-19T09:44:20.576Z"
   },
   {
    "duration": 16,
    "start_time": "2022-09-19T09:44:48.136Z"
   },
   {
    "duration": 14,
    "start_time": "2022-09-19T09:44:52.512Z"
   },
   {
    "duration": 1649,
    "start_time": "2022-09-19T09:47:09.232Z"
   },
   {
    "duration": 1175,
    "start_time": "2022-09-19T09:47:31.176Z"
   },
   {
    "duration": 71,
    "start_time": "2022-09-19T09:47:32.353Z"
   },
   {
    "duration": 16,
    "start_time": "2022-09-19T09:47:32.426Z"
   },
   {
    "duration": 10,
    "start_time": "2022-09-19T09:47:32.444Z"
   },
   {
    "duration": 32,
    "start_time": "2022-09-19T09:47:32.457Z"
   },
   {
    "duration": 3,
    "start_time": "2022-09-19T09:47:32.491Z"
   },
   {
    "duration": 18,
    "start_time": "2022-09-19T09:47:32.496Z"
   },
   {
    "duration": 10,
    "start_time": "2022-09-19T09:47:32.516Z"
   },
   {
    "duration": 15,
    "start_time": "2022-09-19T09:47:32.528Z"
   },
   {
    "duration": 1314,
    "start_time": "2022-09-19T09:48:11.130Z"
   },
   {
    "duration": 77,
    "start_time": "2022-09-19T09:48:12.446Z"
   },
   {
    "duration": 16,
    "start_time": "2022-09-19T09:48:12.524Z"
   },
   {
    "duration": 10,
    "start_time": "2022-09-19T09:48:12.542Z"
   },
   {
    "duration": 8,
    "start_time": "2022-09-19T09:48:12.555Z"
   },
   {
    "duration": 25,
    "start_time": "2022-09-19T09:48:12.565Z"
   },
   {
    "duration": 5,
    "start_time": "2022-09-19T09:48:12.592Z"
   },
   {
    "duration": 21,
    "start_time": "2022-09-19T09:48:12.599Z"
   },
   {
    "duration": 9,
    "start_time": "2022-09-19T09:48:12.622Z"
   },
   {
    "duration": 14,
    "start_time": "2022-09-19T09:48:12.633Z"
   },
   {
    "duration": 9,
    "start_time": "2022-09-19T09:52:30.444Z"
   },
   {
    "duration": 6,
    "start_time": "2022-09-19T09:53:11.243Z"
   },
   {
    "duration": 16,
    "start_time": "2022-09-19T09:54:49.036Z"
   },
   {
    "duration": 27,
    "start_time": "2022-09-19T09:57:13.175Z"
   },
   {
    "duration": 173,
    "start_time": "2022-09-19T11:00:07.885Z"
   },
   {
    "duration": 8,
    "start_time": "2022-09-19T11:00:19.259Z"
   },
   {
    "duration": 10,
    "start_time": "2022-09-19T11:00:41.759Z"
   },
   {
    "duration": 5,
    "start_time": "2022-09-19T11:01:03.826Z"
   },
   {
    "duration": 6,
    "start_time": "2022-09-19T11:01:21.100Z"
   },
   {
    "duration": 8,
    "start_time": "2022-09-19T11:01:57.039Z"
   },
   {
    "duration": 7,
    "start_time": "2022-09-19T11:02:14.112Z"
   },
   {
    "duration": 7,
    "start_time": "2022-09-19T11:02:16.678Z"
   },
   {
    "duration": 8,
    "start_time": "2022-09-19T11:02:23.812Z"
   },
   {
    "duration": 6,
    "start_time": "2022-09-19T11:05:45.818Z"
   },
   {
    "duration": 8,
    "start_time": "2022-09-19T11:08:19.339Z"
   },
   {
    "duration": 7,
    "start_time": "2022-09-19T11:08:49.520Z"
   },
   {
    "duration": 9,
    "start_time": "2022-09-19T11:08:57.928Z"
   },
   {
    "duration": 18,
    "start_time": "2022-09-19T11:09:21.650Z"
   },
   {
    "duration": 104,
    "start_time": "2022-09-19T11:21:24.321Z"
   },
   {
    "duration": 15,
    "start_time": "2022-09-19T11:21:58.926Z"
   },
   {
    "duration": 8,
    "start_time": "2022-09-19T11:23:51.723Z"
   },
   {
    "duration": 9,
    "start_time": "2022-09-19T11:24:12.841Z"
   },
   {
    "duration": 11,
    "start_time": "2022-09-19T11:25:29.137Z"
   },
   {
    "duration": 13,
    "start_time": "2022-09-19T11:30:06.142Z"
   },
   {
    "duration": 12,
    "start_time": "2022-09-19T11:30:16.878Z"
   },
   {
    "duration": 0,
    "start_time": "2022-09-19T11:37:21.567Z"
   },
   {
    "duration": 1186,
    "start_time": "2022-09-19T11:37:48.323Z"
   },
   {
    "duration": 68,
    "start_time": "2022-09-19T11:37:49.512Z"
   },
   {
    "duration": 14,
    "start_time": "2022-09-19T11:37:49.582Z"
   },
   {
    "duration": 11,
    "start_time": "2022-09-19T11:37:49.597Z"
   },
   {
    "duration": 5,
    "start_time": "2022-09-19T11:37:49.610Z"
   },
   {
    "duration": 7,
    "start_time": "2022-09-19T11:37:49.616Z"
   },
   {
    "duration": 6,
    "start_time": "2022-09-19T11:37:49.624Z"
   },
   {
    "duration": 15,
    "start_time": "2022-09-19T11:37:49.631Z"
   },
   {
    "duration": 10,
    "start_time": "2022-09-19T11:37:49.647Z"
   },
   {
    "duration": 36,
    "start_time": "2022-09-19T11:37:49.659Z"
   },
   {
    "duration": 6,
    "start_time": "2022-09-19T11:37:49.697Z"
   },
   {
    "duration": 5,
    "start_time": "2022-09-19T11:37:49.705Z"
   },
   {
    "duration": 7,
    "start_time": "2022-09-19T11:37:49.712Z"
   },
   {
    "duration": 14,
    "start_time": "2022-09-19T11:37:49.723Z"
   },
   {
    "duration": 8,
    "start_time": "2022-09-19T11:37:49.739Z"
   },
   {
    "duration": 47,
    "start_time": "2022-09-19T11:37:49.748Z"
   },
   {
    "duration": 15,
    "start_time": "2022-09-19T11:37:49.797Z"
   },
   {
    "duration": 10,
    "start_time": "2022-09-19T11:37:49.814Z"
   },
   {
    "duration": 11,
    "start_time": "2022-09-19T11:37:49.825Z"
   },
   {
    "duration": 124,
    "start_time": "2022-09-19T11:37:49.837Z"
   },
   {
    "duration": 0,
    "start_time": "2022-09-19T11:37:49.962Z"
   },
   {
    "duration": 0,
    "start_time": "2022-09-19T11:37:49.964Z"
   },
   {
    "duration": 13,
    "start_time": "2022-09-19T11:38:03.356Z"
   },
   {
    "duration": 29157,
    "start_time": "2022-09-19T11:38:05.747Z"
   },
   {
    "duration": 33213,
    "start_time": "2022-09-19T11:39:01.724Z"
   },
   {
    "duration": 6,
    "start_time": "2022-09-19T11:40:24.244Z"
   },
   {
    "duration": 9,
    "start_time": "2022-09-19T11:49:54.118Z"
   },
   {
    "duration": 4,
    "start_time": "2022-09-19T11:55:57.176Z"
   },
   {
    "duration": 12,
    "start_time": "2022-09-19T11:56:20.546Z"
   },
   {
    "duration": 21,
    "start_time": "2022-09-19T11:56:28.360Z"
   },
   {
    "duration": 23,
    "start_time": "2022-09-19T11:57:17.621Z"
   },
   {
    "duration": 28,
    "start_time": "2022-09-19T11:57:43.815Z"
   },
   {
    "duration": 23,
    "start_time": "2022-09-19T11:58:03.819Z"
   },
   {
    "duration": 171,
    "start_time": "2022-09-19T12:00:36.029Z"
   },
   {
    "duration": 21,
    "start_time": "2022-09-19T12:08:14.704Z"
   },
   {
    "duration": 373,
    "start_time": "2022-09-19T12:08:31.412Z"
   },
   {
    "duration": 514,
    "start_time": "2022-09-19T12:11:56.206Z"
   },
   {
    "duration": 460,
    "start_time": "2022-09-19T12:21:13.557Z"
   },
   {
    "duration": 185,
    "start_time": "2022-09-19T12:26:21.252Z"
   },
   {
    "duration": 9,
    "start_time": "2022-09-19T12:28:15.918Z"
   },
   {
    "duration": 423,
    "start_time": "2022-09-19T12:28:31.312Z"
   },
   {
    "duration": 45,
    "start_time": "2022-09-19T13:47:45.913Z"
   },
   {
    "duration": 1214,
    "start_time": "2022-09-19T13:47:54.945Z"
   },
   {
    "duration": 114,
    "start_time": "2022-09-19T13:47:56.161Z"
   },
   {
    "duration": 15,
    "start_time": "2022-09-19T13:47:56.276Z"
   },
   {
    "duration": 9,
    "start_time": "2022-09-19T13:47:56.293Z"
   },
   {
    "duration": 7,
    "start_time": "2022-09-19T13:47:56.304Z"
   },
   {
    "duration": 12,
    "start_time": "2022-09-19T13:47:56.313Z"
   },
   {
    "duration": 6,
    "start_time": "2022-09-19T13:47:56.326Z"
   },
   {
    "duration": 14,
    "start_time": "2022-09-19T13:47:56.334Z"
   },
   {
    "duration": 9,
    "start_time": "2022-09-19T13:47:56.349Z"
   },
   {
    "duration": 13,
    "start_time": "2022-09-19T13:47:56.360Z"
   },
   {
    "duration": 7,
    "start_time": "2022-09-19T13:47:56.375Z"
   },
   {
    "duration": 5,
    "start_time": "2022-09-19T13:47:56.383Z"
   },
   {
    "duration": 9,
    "start_time": "2022-09-19T13:47:56.389Z"
   },
   {
    "duration": 13,
    "start_time": "2022-09-19T13:47:56.422Z"
   },
   {
    "duration": 7,
    "start_time": "2022-09-19T13:47:56.436Z"
   },
   {
    "duration": 8,
    "start_time": "2022-09-19T13:47:56.444Z"
   },
   {
    "duration": 14,
    "start_time": "2022-09-19T13:47:56.454Z"
   },
   {
    "duration": 9,
    "start_time": "2022-09-19T13:47:56.470Z"
   },
   {
    "duration": 15,
    "start_time": "2022-09-19T13:47:56.480Z"
   },
   {
    "duration": 33,
    "start_time": "2022-09-19T13:47:56.496Z"
   },
   {
    "duration": 24073,
    "start_time": "2022-09-19T13:47:56.531Z"
   },
   {
    "duration": 4,
    "start_time": "2022-09-19T13:48:20.606Z"
   },
   {
    "duration": 13,
    "start_time": "2022-09-19T13:48:20.611Z"
   },
   {
    "duration": 11,
    "start_time": "2022-09-19T13:48:20.626Z"
   },
   {
    "duration": 22,
    "start_time": "2022-09-19T13:48:20.638Z"
   },
   {
    "duration": 170,
    "start_time": "2022-09-19T13:48:20.662Z"
   },
   {
    "duration": 334,
    "start_time": "2022-09-19T13:48:20.833Z"
   },
   {
    "duration": 524,
    "start_time": "2022-09-19T13:48:21.170Z"
   },
   {
    "duration": 389,
    "start_time": "2022-09-19T13:48:21.696Z"
   },
   {
    "duration": 160,
    "start_time": "2022-09-19T13:48:22.087Z"
   },
   {
    "duration": 390,
    "start_time": "2022-09-19T13:48:22.249Z"
   },
   {
    "duration": 392,
    "start_time": "2022-09-19T13:48:22.641Z"
   },
   {
    "duration": 178,
    "start_time": "2022-09-19T13:53:26.675Z"
   },
   {
    "duration": 154,
    "start_time": "2022-09-19T13:59:43.011Z"
   },
   {
    "duration": 134,
    "start_time": "2022-09-19T13:59:45.326Z"
   },
   {
    "duration": 195,
    "start_time": "2022-09-19T14:04:48.874Z"
   },
   {
    "duration": 133,
    "start_time": "2022-09-19T14:04:51.860Z"
   },
   {
    "duration": 8,
    "start_time": "2022-09-19T14:08:35.534Z"
   },
   {
    "duration": 4,
    "start_time": "2022-09-19T14:08:53.933Z"
   },
   {
    "duration": 161,
    "start_time": "2022-09-19T14:18:59.985Z"
   },
   {
    "duration": 171,
    "start_time": "2022-09-19T14:22:14.770Z"
   },
   {
    "duration": 14,
    "start_time": "2022-09-19T14:29:28.213Z"
   },
   {
    "duration": 11,
    "start_time": "2022-09-19T14:34:42.150Z"
   },
   {
    "duration": 15,
    "start_time": "2022-09-19T14:35:00.454Z"
   },
   {
    "duration": 15,
    "start_time": "2022-09-19T14:42:03.804Z"
   },
   {
    "duration": 15,
    "start_time": "2022-09-19T15:05:10.995Z"
   },
   {
    "duration": 144,
    "start_time": "2022-09-19T15:14:41.375Z"
   },
   {
    "duration": 138,
    "start_time": "2022-09-19T15:21:26.359Z"
   },
   {
    "duration": 206,
    "start_time": "2022-09-19T15:25:03.683Z"
   },
   {
    "duration": 131,
    "start_time": "2022-09-19T15:25:09.881Z"
   },
   {
    "duration": 13,
    "start_time": "2022-09-19T15:28:14.573Z"
   },
   {
    "duration": 14,
    "start_time": "2022-09-19T15:30:46.121Z"
   },
   {
    "duration": 12,
    "start_time": "2022-09-19T15:31:37.636Z"
   },
   {
    "duration": 11,
    "start_time": "2022-09-19T15:36:24.956Z"
   },
   {
    "duration": 13,
    "start_time": "2022-09-19T15:37:01.728Z"
   },
   {
    "duration": 11,
    "start_time": "2022-09-19T15:39:38.583Z"
   },
   {
    "duration": 6,
    "start_time": "2022-09-19T16:34:50.493Z"
   },
   {
    "duration": 308,
    "start_time": "2022-09-19T16:37:11.872Z"
   },
   {
    "duration": 5,
    "start_time": "2022-09-19T16:52:29.998Z"
   },
   {
    "duration": 57,
    "start_time": "2022-09-19T17:03:56.247Z"
   },
   {
    "duration": 6,
    "start_time": "2022-09-19T17:04:14.653Z"
   },
   {
    "duration": 90,
    "start_time": "2022-09-19T17:06:10.495Z"
   },
   {
    "duration": 9,
    "start_time": "2022-09-19T17:06:23.866Z"
   },
   {
    "duration": 1044,
    "start_time": "2022-09-19T17:08:02.663Z"
   },
   {
    "duration": 66,
    "start_time": "2022-09-19T17:08:03.709Z"
   },
   {
    "duration": 14,
    "start_time": "2022-09-19T17:08:03.777Z"
   },
   {
    "duration": 10,
    "start_time": "2022-09-19T17:08:03.792Z"
   },
   {
    "duration": 5,
    "start_time": "2022-09-19T17:08:03.805Z"
   },
   {
    "duration": 12,
    "start_time": "2022-09-19T17:08:03.811Z"
   },
   {
    "duration": 5,
    "start_time": "2022-09-19T17:08:03.824Z"
   },
   {
    "duration": 18,
    "start_time": "2022-09-19T17:08:03.830Z"
   },
   {
    "duration": 6,
    "start_time": "2022-09-19T17:08:03.850Z"
   },
   {
    "duration": 13,
    "start_time": "2022-09-19T17:08:03.858Z"
   },
   {
    "duration": 6,
    "start_time": "2022-09-19T17:08:03.872Z"
   },
   {
    "duration": 5,
    "start_time": "2022-09-19T17:08:03.880Z"
   },
   {
    "duration": 9,
    "start_time": "2022-09-19T17:08:03.886Z"
   },
   {
    "duration": 33,
    "start_time": "2022-09-19T17:08:03.897Z"
   },
   {
    "duration": 7,
    "start_time": "2022-09-19T17:08:04.934Z"
   },
   {
    "duration": 16,
    "start_time": "2022-09-19T17:08:04.943Z"
   },
   {
    "duration": 16,
    "start_time": "2022-09-19T17:08:04.960Z"
   },
   {
    "duration": 9,
    "start_time": "2022-09-19T17:08:05.549Z"
   },
   {
    "duration": 18,
    "start_time": "2022-09-19T17:08:05.560Z"
   },
   {
    "duration": 9,
    "start_time": "2022-09-19T17:08:05.579Z"
   },
   {
    "duration": 24039,
    "start_time": "2022-09-19T17:08:05.589Z"
   },
   {
    "duration": 5,
    "start_time": "2022-09-19T17:08:29.630Z"
   },
   {
    "duration": 20,
    "start_time": "2022-09-19T17:08:29.637Z"
   },
   {
    "duration": 5,
    "start_time": "2022-09-19T17:08:29.658Z"
   },
   {
    "duration": 24,
    "start_time": "2022-09-19T17:08:29.665Z"
   },
   {
    "duration": 156,
    "start_time": "2022-09-19T17:08:29.690Z"
   },
   {
    "duration": 326,
    "start_time": "2022-09-19T17:08:29.848Z"
   },
   {
    "duration": 475,
    "start_time": "2022-09-19T17:08:30.176Z"
   },
   {
    "duration": 351,
    "start_time": "2022-09-19T17:08:30.652Z"
   },
   {
    "duration": 172,
    "start_time": "2022-09-19T17:08:31.005Z"
   },
   {
    "duration": 435,
    "start_time": "2022-09-19T17:08:31.180Z"
   },
   {
    "duration": 446,
    "start_time": "2022-09-19T17:08:31.616Z"
   },
   {
    "duration": 212,
    "start_time": "2022-09-19T17:08:32.064Z"
   },
   {
    "duration": 160,
    "start_time": "2022-09-19T17:08:32.278Z"
   },
   {
    "duration": 155,
    "start_time": "2022-09-19T17:08:32.440Z"
   },
   {
    "duration": 8,
    "start_time": "2022-09-19T17:08:32.596Z"
   },
   {
    "duration": 19,
    "start_time": "2022-09-19T17:08:32.605Z"
   },
   {
    "duration": 171,
    "start_time": "2022-09-19T17:08:32.625Z"
   },
   {
    "duration": 186,
    "start_time": "2022-09-19T17:08:32.798Z"
   },
   {
    "duration": 16,
    "start_time": "2022-09-19T17:08:32.985Z"
   },
   {
    "duration": 26,
    "start_time": "2022-09-19T17:08:33.003Z"
   },
   {
    "duration": 22,
    "start_time": "2022-09-19T17:08:33.030Z"
   },
   {
    "duration": 162,
    "start_time": "2022-09-19T17:08:33.054Z"
   },
   {
    "duration": 153,
    "start_time": "2022-09-19T17:08:33.218Z"
   },
   {
    "duration": 151,
    "start_time": "2022-09-19T17:08:33.373Z"
   },
   {
    "duration": 14,
    "start_time": "2022-09-19T17:08:33.526Z"
   },
   {
    "duration": 20,
    "start_time": "2022-09-19T17:08:33.541Z"
   },
   {
    "duration": 14,
    "start_time": "2022-09-19T17:08:33.562Z"
   },
   {
    "duration": 12,
    "start_time": "2022-09-19T17:08:33.578Z"
   },
   {
    "duration": 37,
    "start_time": "2022-09-19T17:08:33.592Z"
   },
   {
    "duration": 12,
    "start_time": "2022-09-19T17:08:33.630Z"
   },
   {
    "duration": 454,
    "start_time": "2022-09-19T17:08:33.644Z"
   },
   {
    "duration": 10,
    "start_time": "2022-09-19T17:08:34.099Z"
   },
   {
    "duration": 106,
    "start_time": "2022-09-19T17:08:34.121Z"
   },
   {
    "duration": 15,
    "start_time": "2022-09-19T17:12:23.257Z"
   },
   {
    "duration": 10,
    "start_time": "2022-09-19T17:12:30.351Z"
   },
   {
    "duration": 10,
    "start_time": "2022-09-19T17:24:28.636Z"
   },
   {
    "duration": 10,
    "start_time": "2022-09-19T17:28:33.061Z"
   },
   {
    "duration": 5,
    "start_time": "2022-09-19T17:28:35.025Z"
   },
   {
    "duration": 5,
    "start_time": "2022-09-19T17:29:01.077Z"
   },
   {
    "duration": 5,
    "start_time": "2022-09-19T17:34:20.402Z"
   },
   {
    "duration": 1085,
    "start_time": "2022-09-19T17:34:54.304Z"
   },
   {
    "duration": 64,
    "start_time": "2022-09-19T17:34:55.392Z"
   },
   {
    "duration": 12,
    "start_time": "2022-09-19T17:34:55.779Z"
   },
   {
    "duration": 15,
    "start_time": "2022-09-19T17:34:55.793Z"
   },
   {
    "duration": 13,
    "start_time": "2022-09-19T17:34:55.810Z"
   },
   {
    "duration": 19,
    "start_time": "2022-09-19T17:34:55.824Z"
   },
   {
    "duration": 29,
    "start_time": "2022-09-19T17:34:55.845Z"
   },
   {
    "duration": 29,
    "start_time": "2022-09-19T17:34:55.876Z"
   },
   {
    "duration": 23,
    "start_time": "2022-09-19T17:34:55.906Z"
   },
   {
    "duration": 29,
    "start_time": "2022-09-19T17:34:55.931Z"
   },
   {
    "duration": 15,
    "start_time": "2022-09-19T17:34:55.961Z"
   },
   {
    "duration": 17,
    "start_time": "2022-09-19T17:34:55.977Z"
   },
   {
    "duration": 7,
    "start_time": "2022-09-19T17:35:00.528Z"
   },
   {
    "duration": 27,
    "start_time": "2022-09-19T17:35:00.537Z"
   },
   {
    "duration": 7,
    "start_time": "2022-09-19T17:35:01.240Z"
   },
   {
    "duration": 45,
    "start_time": "2022-09-19T17:35:01.249Z"
   },
   {
    "duration": 49,
    "start_time": "2022-09-19T17:35:01.296Z"
   },
   {
    "duration": 25,
    "start_time": "2022-09-19T17:35:01.347Z"
   },
   {
    "duration": 40,
    "start_time": "2022-09-19T17:35:01.374Z"
   },
   {
    "duration": 45,
    "start_time": "2022-09-19T17:35:01.415Z"
   },
   {
    "duration": 25060,
    "start_time": "2022-09-19T17:35:01.462Z"
   },
   {
    "duration": 5,
    "start_time": "2022-09-19T17:35:26.523Z"
   },
   {
    "duration": 12,
    "start_time": "2022-09-19T17:35:26.530Z"
   },
   {
    "duration": 11,
    "start_time": "2022-09-19T17:35:26.543Z"
   },
   {
    "duration": 34,
    "start_time": "2022-09-19T17:35:26.555Z"
   },
   {
    "duration": 143,
    "start_time": "2022-09-19T17:35:26.591Z"
   },
   {
    "duration": 311,
    "start_time": "2022-09-19T17:35:26.736Z"
   },
   {
    "duration": 438,
    "start_time": "2022-09-19T17:35:27.048Z"
   },
   {
    "duration": 408,
    "start_time": "2022-09-19T17:35:27.488Z"
   },
   {
    "duration": 154,
    "start_time": "2022-09-19T17:35:27.898Z"
   },
   {
    "duration": 372,
    "start_time": "2022-09-19T17:35:28.054Z"
   },
   {
    "duration": 404,
    "start_time": "2022-09-19T17:35:28.428Z"
   },
   {
    "duration": 241,
    "start_time": "2022-09-19T17:35:28.834Z"
   },
   {
    "duration": 156,
    "start_time": "2022-09-19T17:35:29.077Z"
   },
   {
    "duration": 134,
    "start_time": "2022-09-19T17:35:29.235Z"
   },
   {
    "duration": 7,
    "start_time": "2022-09-19T17:35:29.370Z"
   },
   {
    "duration": 8,
    "start_time": "2022-09-19T17:35:29.378Z"
   },
   {
    "duration": 171,
    "start_time": "2022-09-19T17:35:29.387Z"
   },
   {
    "duration": 181,
    "start_time": "2022-09-19T17:35:29.559Z"
   },
   {
    "duration": 17,
    "start_time": "2022-09-19T17:35:29.741Z"
   },
   {
    "duration": 25,
    "start_time": "2022-09-19T17:35:29.759Z"
   },
   {
    "duration": 14,
    "start_time": "2022-09-19T17:35:29.786Z"
   },
   {
    "duration": 153,
    "start_time": "2022-09-19T17:35:29.801Z"
   },
   {
    "duration": 145,
    "start_time": "2022-09-19T17:35:29.956Z"
   },
   {
    "duration": 154,
    "start_time": "2022-09-19T17:35:30.103Z"
   },
   {
    "duration": 13,
    "start_time": "2022-09-19T17:35:30.258Z"
   },
   {
    "duration": 12,
    "start_time": "2022-09-19T17:35:30.273Z"
   },
   {
    "duration": 12,
    "start_time": "2022-09-19T17:35:30.286Z"
   },
   {
    "duration": 30,
    "start_time": "2022-09-19T17:35:30.299Z"
   },
   {
    "duration": 12,
    "start_time": "2022-09-19T17:35:30.331Z"
   },
   {
    "duration": 17,
    "start_time": "2022-09-19T17:35:30.345Z"
   },
   {
    "duration": 427,
    "start_time": "2022-09-19T17:35:30.364Z"
   },
   {
    "duration": 9,
    "start_time": "2022-09-19T17:35:30.793Z"
   },
   {
    "duration": 25,
    "start_time": "2022-09-19T17:35:30.803Z"
   },
   {
    "duration": 59,
    "start_time": "2022-09-19T17:35:30.829Z"
   },
   {
    "duration": 13,
    "start_time": "2022-09-19T17:35:30.889Z"
   },
   {
    "duration": 1105,
    "start_time": "2022-09-19T18:47:42.501Z"
   },
   {
    "duration": 66,
    "start_time": "2022-09-19T18:47:43.607Z"
   },
   {
    "duration": 13,
    "start_time": "2022-09-19T18:47:43.674Z"
   },
   {
    "duration": 8,
    "start_time": "2022-09-19T18:47:43.689Z"
   },
   {
    "duration": 7,
    "start_time": "2022-09-19T18:47:43.698Z"
   },
   {
    "duration": 8,
    "start_time": "2022-09-19T18:47:43.706Z"
   },
   {
    "duration": 3,
    "start_time": "2022-09-19T18:47:43.721Z"
   },
   {
    "duration": 14,
    "start_time": "2022-09-19T18:47:43.725Z"
   },
   {
    "duration": 9,
    "start_time": "2022-09-19T18:47:43.740Z"
   },
   {
    "duration": 18,
    "start_time": "2022-09-19T18:47:43.751Z"
   },
   {
    "duration": 14,
    "start_time": "2022-09-19T18:47:43.770Z"
   },
   {
    "duration": 4,
    "start_time": "2022-09-19T18:47:43.786Z"
   },
   {
    "duration": 9,
    "start_time": "2022-09-19T18:47:43.791Z"
   },
   {
    "duration": 46,
    "start_time": "2022-09-19T18:47:43.801Z"
   },
   {
    "duration": 7,
    "start_time": "2022-09-19T18:47:43.849Z"
   },
   {
    "duration": 11,
    "start_time": "2022-09-19T18:47:43.857Z"
   },
   {
    "duration": 15,
    "start_time": "2022-09-19T18:47:43.876Z"
   },
   {
    "duration": 10,
    "start_time": "2022-09-19T18:47:43.892Z"
   },
   {
    "duration": 22,
    "start_time": "2022-09-19T18:47:43.904Z"
   },
   {
    "duration": 8,
    "start_time": "2022-09-19T18:47:43.928Z"
   },
   {
    "duration": 25503,
    "start_time": "2022-09-19T18:47:43.937Z"
   },
   {
    "duration": 5,
    "start_time": "2022-09-19T18:48:09.441Z"
   },
   {
    "duration": 12,
    "start_time": "2022-09-19T18:48:09.447Z"
   },
   {
    "duration": 6,
    "start_time": "2022-09-19T18:48:09.460Z"
   },
   {
    "duration": 27,
    "start_time": "2022-09-19T18:48:09.467Z"
   },
   {
    "duration": 164,
    "start_time": "2022-09-19T18:48:09.495Z"
   },
   {
    "duration": 321,
    "start_time": "2022-09-19T18:48:09.661Z"
   },
   {
    "duration": 475,
    "start_time": "2022-09-19T18:48:09.985Z"
   },
   {
    "duration": 369,
    "start_time": "2022-09-19T18:48:10.461Z"
   },
   {
    "duration": 164,
    "start_time": "2022-09-19T18:48:10.832Z"
   },
   {
    "duration": 400,
    "start_time": "2022-09-19T18:48:10.997Z"
   },
   {
    "duration": 418,
    "start_time": "2022-09-19T18:48:11.398Z"
   },
   {
    "duration": 218,
    "start_time": "2022-09-19T18:48:11.821Z"
   },
   {
    "duration": 182,
    "start_time": "2022-09-19T18:48:12.041Z"
   },
   {
    "duration": 142,
    "start_time": "2022-09-19T18:48:12.225Z"
   },
   {
    "duration": 8,
    "start_time": "2022-09-19T18:48:12.369Z"
   },
   {
    "duration": 19,
    "start_time": "2022-09-19T18:48:12.378Z"
   },
   {
    "duration": 169,
    "start_time": "2022-09-19T18:48:12.399Z"
   },
   {
    "duration": 178,
    "start_time": "2022-09-19T18:48:12.570Z"
   },
   {
    "duration": 17,
    "start_time": "2022-09-19T18:48:12.750Z"
   },
   {
    "duration": 36,
    "start_time": "2022-09-19T18:48:12.768Z"
   },
   {
    "duration": 41,
    "start_time": "2022-09-19T18:48:12.805Z"
   },
   {
    "duration": 142,
    "start_time": "2022-09-19T18:48:12.848Z"
   },
   {
    "duration": 153,
    "start_time": "2022-09-19T18:48:12.992Z"
   },
   {
    "duration": 151,
    "start_time": "2022-09-19T18:48:13.146Z"
   },
   {
    "duration": 13,
    "start_time": "2022-09-19T18:48:13.298Z"
   },
   {
    "duration": 45,
    "start_time": "2022-09-19T18:48:13.322Z"
   },
   {
    "duration": 17,
    "start_time": "2022-09-19T18:48:13.368Z"
   },
   {
    "duration": 18,
    "start_time": "2022-09-19T18:48:13.386Z"
   },
   {
    "duration": 24,
    "start_time": "2022-09-19T18:48:13.405Z"
   },
   {
    "duration": 19,
    "start_time": "2022-09-19T18:48:13.431Z"
   },
   {
    "duration": 434,
    "start_time": "2022-09-19T18:48:13.451Z"
   },
   {
    "duration": 9,
    "start_time": "2022-09-19T18:48:13.886Z"
   },
   {
    "duration": 8,
    "start_time": "2022-09-19T18:48:13.897Z"
   },
   {
    "duration": 23,
    "start_time": "2022-09-19T18:48:13.906Z"
   },
   {
    "duration": 6,
    "start_time": "2022-09-19T18:48:13.931Z"
   },
   {
    "duration": 1152,
    "start_time": "2022-09-19T19:43:19.912Z"
   },
   {
    "duration": 75,
    "start_time": "2022-09-19T19:43:21.066Z"
   },
   {
    "duration": 21,
    "start_time": "2022-09-19T19:43:21.143Z"
   },
   {
    "duration": 8,
    "start_time": "2022-09-19T19:43:21.167Z"
   },
   {
    "duration": 6,
    "start_time": "2022-09-19T19:43:21.176Z"
   },
   {
    "duration": 6,
    "start_time": "2022-09-19T19:43:21.183Z"
   },
   {
    "duration": 33,
    "start_time": "2022-09-19T19:43:21.190Z"
   },
   {
    "duration": 15,
    "start_time": "2022-09-19T19:43:21.225Z"
   },
   {
    "duration": 12,
    "start_time": "2022-09-19T19:43:21.242Z"
   },
   {
    "duration": 18,
    "start_time": "2022-09-19T19:43:21.258Z"
   },
   {
    "duration": 7,
    "start_time": "2022-09-19T19:43:21.278Z"
   },
   {
    "duration": 39,
    "start_time": "2022-09-19T19:43:21.286Z"
   },
   {
    "duration": 9,
    "start_time": "2022-09-19T19:43:21.327Z"
   },
   {
    "duration": 17,
    "start_time": "2022-09-19T19:43:21.339Z"
   },
   {
    "duration": 7,
    "start_time": "2022-09-19T19:43:21.358Z"
   },
   {
    "duration": 11,
    "start_time": "2022-09-19T19:43:21.367Z"
   },
   {
    "duration": 43,
    "start_time": "2022-09-19T19:43:21.380Z"
   },
   {
    "duration": 15,
    "start_time": "2022-09-19T19:43:21.425Z"
   },
   {
    "duration": 13,
    "start_time": "2022-09-19T19:43:21.442Z"
   },
   {
    "duration": 10,
    "start_time": "2022-09-19T19:43:21.457Z"
   },
   {
    "duration": 27154,
    "start_time": "2022-09-19T19:43:21.469Z"
   },
   {
    "duration": 7,
    "start_time": "2022-09-19T19:43:48.624Z"
   },
   {
    "duration": 22,
    "start_time": "2022-09-19T19:43:48.632Z"
   },
   {
    "duration": 12,
    "start_time": "2022-09-19T19:43:48.655Z"
   },
   {
    "duration": 21,
    "start_time": "2022-09-19T19:43:48.668Z"
   },
   {
    "duration": 189,
    "start_time": "2022-09-19T19:43:48.690Z"
   },
   {
    "duration": 417,
    "start_time": "2022-09-19T19:43:48.881Z"
   },
   {
    "duration": 506,
    "start_time": "2022-09-19T19:43:49.302Z"
   },
   {
    "duration": 446,
    "start_time": "2022-09-19T19:43:49.809Z"
   },
   {
    "duration": 191,
    "start_time": "2022-09-19T19:43:50.257Z"
   },
   {
    "duration": 396,
    "start_time": "2022-09-19T19:43:50.450Z"
   },
   {
    "duration": 443,
    "start_time": "2022-09-19T19:43:50.848Z"
   },
   {
    "duration": 239,
    "start_time": "2022-09-19T19:43:51.292Z"
   },
   {
    "duration": 177,
    "start_time": "2022-09-19T19:43:51.534Z"
   },
   {
    "duration": 160,
    "start_time": "2022-09-19T19:43:51.713Z"
   },
   {
    "duration": 8,
    "start_time": "2022-09-19T19:43:51.874Z"
   },
   {
    "duration": 5,
    "start_time": "2022-09-19T19:43:51.883Z"
   },
   {
    "duration": 202,
    "start_time": "2022-09-19T19:43:51.889Z"
   },
   {
    "duration": 201,
    "start_time": "2022-09-19T19:43:52.093Z"
   },
   {
    "duration": 33,
    "start_time": "2022-09-19T19:43:52.295Z"
   },
   {
    "duration": 17,
    "start_time": "2022-09-19T19:43:52.330Z"
   },
   {
    "duration": 16,
    "start_time": "2022-09-19T19:43:52.349Z"
   },
   {
    "duration": 193,
    "start_time": "2022-09-19T19:43:52.367Z"
   },
   {
    "duration": 158,
    "start_time": "2022-09-19T19:43:52.561Z"
   },
   {
    "duration": 157,
    "start_time": "2022-09-19T19:43:52.720Z"
   },
   {
    "duration": 13,
    "start_time": "2022-09-19T19:43:52.878Z"
   },
   {
    "duration": 31,
    "start_time": "2022-09-19T19:43:52.892Z"
   },
   {
    "duration": 15,
    "start_time": "2022-09-19T19:43:52.924Z"
   },
   {
    "duration": 13,
    "start_time": "2022-09-19T19:43:52.940Z"
   },
   {
    "duration": 18,
    "start_time": "2022-09-19T19:43:52.954Z"
   },
   {
    "duration": 12,
    "start_time": "2022-09-19T19:43:52.973Z"
   },
   {
    "duration": 491,
    "start_time": "2022-09-19T19:43:52.986Z"
   },
   {
    "duration": 10,
    "start_time": "2022-09-19T19:43:53.479Z"
   },
   {
    "duration": 29,
    "start_time": "2022-09-19T19:43:53.490Z"
   },
   {
    "duration": 25,
    "start_time": "2022-09-19T19:43:53.521Z"
   },
   {
    "duration": 4,
    "start_time": "2022-09-19T19:43:53.548Z"
   },
   {
    "duration": 1211,
    "start_time": "2022-09-20T07:43:48.129Z"
   },
   {
    "duration": 535,
    "start_time": "2022-09-20T07:43:49.341Z"
   },
   {
    "duration": 14,
    "start_time": "2022-09-20T07:43:49.878Z"
   },
   {
    "duration": 10,
    "start_time": "2022-09-20T07:43:49.894Z"
   },
   {
    "duration": 14,
    "start_time": "2022-09-20T07:43:49.908Z"
   },
   {
    "duration": 8,
    "start_time": "2022-09-20T07:43:49.924Z"
   },
   {
    "duration": 5,
    "start_time": "2022-09-20T07:43:49.934Z"
   },
   {
    "duration": 23,
    "start_time": "2022-09-20T07:43:49.941Z"
   },
   {
    "duration": 36,
    "start_time": "2022-09-20T07:43:49.966Z"
   },
   {
    "duration": 24,
    "start_time": "2022-09-20T07:43:50.004Z"
   },
   {
    "duration": 13,
    "start_time": "2022-09-20T07:43:50.029Z"
   },
   {
    "duration": 6,
    "start_time": "2022-09-20T07:43:50.043Z"
   },
   {
    "duration": 10,
    "start_time": "2022-09-20T07:43:50.050Z"
   },
   {
    "duration": 42,
    "start_time": "2022-09-20T07:43:50.064Z"
   },
   {
    "duration": 11,
    "start_time": "2022-09-20T07:43:50.108Z"
   },
   {
    "duration": 10,
    "start_time": "2022-09-20T07:43:50.120Z"
   },
   {
    "duration": 16,
    "start_time": "2022-09-20T07:43:50.131Z"
   },
   {
    "duration": 50,
    "start_time": "2022-09-20T07:43:50.149Z"
   },
   {
    "duration": 14,
    "start_time": "2022-09-20T07:43:50.201Z"
   },
   {
    "duration": 8,
    "start_time": "2022-09-20T07:43:50.216Z"
   },
   {
    "duration": 29655,
    "start_time": "2022-09-20T07:43:50.226Z"
   },
   {
    "duration": 13,
    "start_time": "2022-09-20T07:44:19.883Z"
   },
   {
    "duration": 27,
    "start_time": "2022-09-20T07:44:19.898Z"
   },
   {
    "duration": 8,
    "start_time": "2022-09-20T07:44:19.926Z"
   },
   {
    "duration": 25,
    "start_time": "2022-09-20T07:44:19.936Z"
   },
   {
    "duration": 12,
    "start_time": "2022-09-20T07:44:19.962Z"
   },
   {
    "duration": 178,
    "start_time": "2022-09-20T07:44:19.975Z"
   },
   {
    "duration": 384,
    "start_time": "2022-09-20T07:44:20.154Z"
   },
   {
    "duration": 570,
    "start_time": "2022-09-20T07:44:20.540Z"
   },
   {
    "duration": 423,
    "start_time": "2022-09-20T07:44:21.113Z"
   },
   {
    "duration": 202,
    "start_time": "2022-09-20T07:44:21.538Z"
   },
   {
    "duration": 463,
    "start_time": "2022-09-20T07:44:21.742Z"
   },
   {
    "duration": 480,
    "start_time": "2022-09-20T07:44:22.207Z"
   },
   {
    "duration": 278,
    "start_time": "2022-09-20T07:44:22.689Z"
   },
   {
    "duration": 190,
    "start_time": "2022-09-20T07:44:22.968Z"
   },
   {
    "duration": 173,
    "start_time": "2022-09-20T07:44:23.160Z"
   },
   {
    "duration": 9,
    "start_time": "2022-09-20T07:44:23.335Z"
   },
   {
    "duration": 10,
    "start_time": "2022-09-20T07:44:23.345Z"
   },
   {
    "duration": 199,
    "start_time": "2022-09-20T07:44:23.357Z"
   },
   {
    "duration": 217,
    "start_time": "2022-09-20T07:44:23.557Z"
   },
   {
    "duration": 27,
    "start_time": "2022-09-20T07:44:23.778Z"
   },
   {
    "duration": 29,
    "start_time": "2022-09-20T07:44:23.807Z"
   },
   {
    "duration": 17,
    "start_time": "2022-09-20T07:44:23.838Z"
   },
   {
    "duration": 200,
    "start_time": "2022-09-20T07:44:23.856Z"
   },
   {
    "duration": 181,
    "start_time": "2022-09-20T07:44:24.058Z"
   },
   {
    "duration": 222,
    "start_time": "2022-09-20T07:44:24.241Z"
   },
   {
    "duration": 18,
    "start_time": "2022-09-20T07:44:24.465Z"
   },
   {
    "duration": 30,
    "start_time": "2022-09-20T07:44:24.485Z"
   },
   {
    "duration": 20,
    "start_time": "2022-09-20T07:44:24.517Z"
   },
   {
    "duration": 22,
    "start_time": "2022-09-20T07:44:24.539Z"
   },
   {
    "duration": 26,
    "start_time": "2022-09-20T07:44:24.563Z"
   },
   {
    "duration": 26,
    "start_time": "2022-09-20T07:44:24.600Z"
   },
   {
    "duration": 510,
    "start_time": "2022-09-20T07:44:24.628Z"
   },
   {
    "duration": 11,
    "start_time": "2022-09-20T07:44:25.140Z"
   },
   {
    "duration": 6,
    "start_time": "2022-09-20T07:44:25.152Z"
   },
   {
    "duration": 37,
    "start_time": "2022-09-20T07:44:25.160Z"
   },
   {
    "duration": 15,
    "start_time": "2022-09-20T07:44:25.199Z"
   },
   {
    "duration": 47,
    "start_time": "2022-09-20T11:28:13.209Z"
   },
   {
    "duration": 1288,
    "start_time": "2022-09-20T11:31:55.516Z"
   },
   {
    "duration": 189,
    "start_time": "2022-09-20T11:31:58.870Z"
   },
   {
    "duration": 13,
    "start_time": "2022-09-20T11:32:02.061Z"
   },
   {
    "duration": 3,
    "start_time": "2022-09-20T11:32:07.366Z"
   },
   {
    "duration": 12,
    "start_time": "2022-09-20T11:32:11.072Z"
   },
   {
    "duration": 8,
    "start_time": "2022-09-20T11:34:17.540Z"
   },
   {
    "duration": 57,
    "start_time": "2022-09-20T11:34:25.811Z"
   },
   {
    "duration": 10,
    "start_time": "2022-09-20T11:40:56.130Z"
   },
   {
    "duration": 8,
    "start_time": "2022-09-20T11:45:15.385Z"
   },
   {
    "duration": 9,
    "start_time": "2022-09-20T11:46:14.337Z"
   },
   {
    "duration": 1118,
    "start_time": "2022-09-20T11:46:26.096Z"
   },
   {
    "duration": 64,
    "start_time": "2022-09-20T11:46:27.216Z"
   },
   {
    "duration": 12,
    "start_time": "2022-09-20T11:46:27.281Z"
   },
   {
    "duration": 28,
    "start_time": "2022-09-20T11:46:27.295Z"
   },
   {
    "duration": 34,
    "start_time": "2022-09-20T11:46:27.325Z"
   },
   {
    "duration": 36,
    "start_time": "2022-09-20T11:46:27.361Z"
   },
   {
    "duration": 24,
    "start_time": "2022-09-20T11:46:27.399Z"
   },
   {
    "duration": 51,
    "start_time": "2022-09-20T11:46:27.425Z"
   },
   {
    "duration": 48,
    "start_time": "2022-09-20T11:46:27.477Z"
   },
   {
    "duration": 120,
    "start_time": "2022-09-20T11:46:27.527Z"
   },
   {
    "duration": 0,
    "start_time": "2022-09-20T11:46:27.649Z"
   },
   {
    "duration": 0,
    "start_time": "2022-09-20T11:46:27.650Z"
   },
   {
    "duration": 0,
    "start_time": "2022-09-20T11:46:27.651Z"
   },
   {
    "duration": 0,
    "start_time": "2022-09-20T11:46:27.653Z"
   },
   {
    "duration": 0,
    "start_time": "2022-09-20T11:46:27.654Z"
   },
   {
    "duration": 0,
    "start_time": "2022-09-20T11:46:27.655Z"
   },
   {
    "duration": 0,
    "start_time": "2022-09-20T11:46:27.657Z"
   },
   {
    "duration": 0,
    "start_time": "2022-09-20T11:46:27.658Z"
   },
   {
    "duration": 0,
    "start_time": "2022-09-20T11:46:27.659Z"
   },
   {
    "duration": 0,
    "start_time": "2022-09-20T11:46:27.660Z"
   },
   {
    "duration": 0,
    "start_time": "2022-09-20T11:46:27.661Z"
   },
   {
    "duration": 0,
    "start_time": "2022-09-20T11:46:27.662Z"
   },
   {
    "duration": 0,
    "start_time": "2022-09-20T11:46:27.678Z"
   },
   {
    "duration": 0,
    "start_time": "2022-09-20T11:46:27.680Z"
   },
   {
    "duration": 0,
    "start_time": "2022-09-20T11:46:27.682Z"
   },
   {
    "duration": 0,
    "start_time": "2022-09-20T11:46:27.683Z"
   },
   {
    "duration": 0,
    "start_time": "2022-09-20T11:46:27.684Z"
   },
   {
    "duration": 0,
    "start_time": "2022-09-20T11:46:27.685Z"
   },
   {
    "duration": 1,
    "start_time": "2022-09-20T11:46:27.686Z"
   },
   {
    "duration": 0,
    "start_time": "2022-09-20T11:46:27.687Z"
   },
   {
    "duration": 0,
    "start_time": "2022-09-20T11:46:27.688Z"
   },
   {
    "duration": 0,
    "start_time": "2022-09-20T11:46:27.689Z"
   },
   {
    "duration": 0,
    "start_time": "2022-09-20T11:46:27.690Z"
   },
   {
    "duration": 0,
    "start_time": "2022-09-20T11:46:27.691Z"
   },
   {
    "duration": 0,
    "start_time": "2022-09-20T11:46:27.722Z"
   },
   {
    "duration": 0,
    "start_time": "2022-09-20T11:46:27.723Z"
   },
   {
    "duration": 0,
    "start_time": "2022-09-20T11:46:27.724Z"
   },
   {
    "duration": 0,
    "start_time": "2022-09-20T11:46:27.724Z"
   },
   {
    "duration": 0,
    "start_time": "2022-09-20T11:46:27.725Z"
   },
   {
    "duration": 0,
    "start_time": "2022-09-20T11:46:27.726Z"
   },
   {
    "duration": 0,
    "start_time": "2022-09-20T11:46:27.727Z"
   },
   {
    "duration": 0,
    "start_time": "2022-09-20T11:46:27.728Z"
   },
   {
    "duration": 0,
    "start_time": "2022-09-20T11:46:27.729Z"
   },
   {
    "duration": 0,
    "start_time": "2022-09-20T11:46:27.730Z"
   },
   {
    "duration": 0,
    "start_time": "2022-09-20T11:46:27.731Z"
   },
   {
    "duration": 0,
    "start_time": "2022-09-20T11:46:27.732Z"
   },
   {
    "duration": 0,
    "start_time": "2022-09-20T11:46:27.733Z"
   },
   {
    "duration": 0,
    "start_time": "2022-09-20T11:46:27.734Z"
   },
   {
    "duration": 0,
    "start_time": "2022-09-20T11:46:27.735Z"
   },
   {
    "duration": 0,
    "start_time": "2022-09-20T11:46:27.736Z"
   },
   {
    "duration": 0,
    "start_time": "2022-09-20T11:46:27.737Z"
   },
   {
    "duration": 0,
    "start_time": "2022-09-20T11:46:27.738Z"
   },
   {
    "duration": 0,
    "start_time": "2022-09-20T11:46:27.739Z"
   },
   {
    "duration": 0,
    "start_time": "2022-09-20T11:46:27.740Z"
   },
   {
    "duration": 0,
    "start_time": "2022-09-20T11:46:27.741Z"
   },
   {
    "duration": 0,
    "start_time": "2022-09-20T11:46:27.743Z"
   },
   {
    "duration": 0,
    "start_time": "2022-09-20T11:46:27.743Z"
   },
   {
    "duration": 1164,
    "start_time": "2022-09-20T11:48:12.845Z"
   },
   {
    "duration": 71,
    "start_time": "2022-09-20T11:48:14.011Z"
   },
   {
    "duration": 18,
    "start_time": "2022-09-20T11:48:14.084Z"
   },
   {
    "duration": 12,
    "start_time": "2022-09-20T11:48:14.104Z"
   },
   {
    "duration": 28,
    "start_time": "2022-09-20T11:48:14.119Z"
   },
   {
    "duration": 23,
    "start_time": "2022-09-20T11:48:14.148Z"
   },
   {
    "duration": 8,
    "start_time": "2022-09-20T11:48:14.173Z"
   },
   {
    "duration": 25,
    "start_time": "2022-09-20T11:48:14.182Z"
   },
   {
    "duration": 51,
    "start_time": "2022-09-20T11:48:14.209Z"
   },
   {
    "duration": 123,
    "start_time": "2022-09-20T11:48:14.262Z"
   },
   {
    "duration": 0,
    "start_time": "2022-09-20T11:48:14.389Z"
   },
   {
    "duration": 0,
    "start_time": "2022-09-20T11:48:14.391Z"
   },
   {
    "duration": 0,
    "start_time": "2022-09-20T11:48:14.392Z"
   },
   {
    "duration": 0,
    "start_time": "2022-09-20T11:48:14.393Z"
   },
   {
    "duration": 0,
    "start_time": "2022-09-20T11:48:14.395Z"
   },
   {
    "duration": 0,
    "start_time": "2022-09-20T11:48:14.396Z"
   },
   {
    "duration": 0,
    "start_time": "2022-09-20T11:48:14.397Z"
   },
   {
    "duration": 0,
    "start_time": "2022-09-20T11:48:14.398Z"
   },
   {
    "duration": 0,
    "start_time": "2022-09-20T11:48:14.399Z"
   },
   {
    "duration": 0,
    "start_time": "2022-09-20T11:48:14.400Z"
   },
   {
    "duration": 0,
    "start_time": "2022-09-20T11:48:14.401Z"
   },
   {
    "duration": 0,
    "start_time": "2022-09-20T11:48:14.402Z"
   },
   {
    "duration": 0,
    "start_time": "2022-09-20T11:48:14.403Z"
   },
   {
    "duration": 0,
    "start_time": "2022-09-20T11:48:14.404Z"
   },
   {
    "duration": 0,
    "start_time": "2022-09-20T11:48:14.405Z"
   },
   {
    "duration": 0,
    "start_time": "2022-09-20T11:48:14.425Z"
   },
   {
    "duration": 0,
    "start_time": "2022-09-20T11:48:14.425Z"
   },
   {
    "duration": 0,
    "start_time": "2022-09-20T11:48:14.426Z"
   },
   {
    "duration": 0,
    "start_time": "2022-09-20T11:48:14.431Z"
   },
   {
    "duration": 0,
    "start_time": "2022-09-20T11:48:14.433Z"
   },
   {
    "duration": 0,
    "start_time": "2022-09-20T11:48:14.436Z"
   },
   {
    "duration": 0,
    "start_time": "2022-09-20T11:48:14.437Z"
   },
   {
    "duration": 0,
    "start_time": "2022-09-20T11:48:14.438Z"
   },
   {
    "duration": 0,
    "start_time": "2022-09-20T11:48:14.440Z"
   },
   {
    "duration": 0,
    "start_time": "2022-09-20T11:48:14.441Z"
   },
   {
    "duration": 0,
    "start_time": "2022-09-20T11:48:14.442Z"
   },
   {
    "duration": 0,
    "start_time": "2022-09-20T11:48:14.444Z"
   },
   {
    "duration": 0,
    "start_time": "2022-09-20T11:48:14.445Z"
   },
   {
    "duration": 0,
    "start_time": "2022-09-20T11:48:14.446Z"
   },
   {
    "duration": 0,
    "start_time": "2022-09-20T11:48:14.447Z"
   },
   {
    "duration": 0,
    "start_time": "2022-09-20T11:48:14.448Z"
   },
   {
    "duration": 0,
    "start_time": "2022-09-20T11:48:14.451Z"
   },
   {
    "duration": 0,
    "start_time": "2022-09-20T11:48:14.452Z"
   },
   {
    "duration": 0,
    "start_time": "2022-09-20T11:48:14.453Z"
   },
   {
    "duration": 0,
    "start_time": "2022-09-20T11:48:14.454Z"
   },
   {
    "duration": 0,
    "start_time": "2022-09-20T11:48:14.455Z"
   },
   {
    "duration": 0,
    "start_time": "2022-09-20T11:48:14.456Z"
   },
   {
    "duration": 0,
    "start_time": "2022-09-20T11:48:14.457Z"
   },
   {
    "duration": 0,
    "start_time": "2022-09-20T11:48:14.458Z"
   },
   {
    "duration": 0,
    "start_time": "2022-09-20T11:48:14.459Z"
   },
   {
    "duration": 0,
    "start_time": "2022-09-20T11:48:14.460Z"
   },
   {
    "duration": 0,
    "start_time": "2022-09-20T11:48:14.461Z"
   },
   {
    "duration": 0,
    "start_time": "2022-09-20T11:48:14.462Z"
   },
   {
    "duration": 1,
    "start_time": "2022-09-20T11:48:14.463Z"
   },
   {
    "duration": 0,
    "start_time": "2022-09-20T11:48:14.465Z"
   },
   {
    "duration": 0,
    "start_time": "2022-09-20T11:48:14.466Z"
   },
   {
    "duration": 0,
    "start_time": "2022-09-20T11:48:14.467Z"
   },
   {
    "duration": 8,
    "start_time": "2022-09-20T11:50:47.176Z"
   },
   {
    "duration": 8,
    "start_time": "2022-09-20T11:50:50.178Z"
   },
   {
    "duration": 3,
    "start_time": "2022-09-20T11:51:01.340Z"
   },
   {
    "duration": 58,
    "start_time": "2022-09-20T11:51:03.631Z"
   },
   {
    "duration": 18,
    "start_time": "2022-09-20T11:51:05.992Z"
   },
   {
    "duration": 4,
    "start_time": "2022-09-20T11:51:10.378Z"
   },
   {
    "duration": 16,
    "start_time": "2022-09-20T11:51:12.246Z"
   },
   {
    "duration": 7,
    "start_time": "2022-09-20T11:51:16.974Z"
   },
   {
    "duration": 14,
    "start_time": "2022-09-20T11:51:27.228Z"
   },
   {
    "duration": 8,
    "start_time": "2022-09-20T11:53:36.596Z"
   },
   {
    "duration": 11,
    "start_time": "2022-09-20T11:53:54.585Z"
   },
   {
    "duration": 1105,
    "start_time": "2022-09-20T11:54:47.079Z"
   },
   {
    "duration": 75,
    "start_time": "2022-09-20T11:54:48.187Z"
   },
   {
    "duration": 14,
    "start_time": "2022-09-20T11:54:48.264Z"
   },
   {
    "duration": 9,
    "start_time": "2022-09-20T11:54:48.280Z"
   },
   {
    "duration": 10,
    "start_time": "2022-09-20T11:54:48.292Z"
   },
   {
    "duration": 22,
    "start_time": "2022-09-20T11:54:48.303Z"
   },
   {
    "duration": 4,
    "start_time": "2022-09-20T11:54:48.330Z"
   },
   {
    "duration": 22,
    "start_time": "2022-09-20T11:54:48.337Z"
   },
   {
    "duration": 12,
    "start_time": "2022-09-20T11:54:48.361Z"
   },
   {
    "duration": 99,
    "start_time": "2022-09-20T11:54:48.374Z"
   },
   {
    "duration": 0,
    "start_time": "2022-09-20T11:54:48.476Z"
   },
   {
    "duration": 0,
    "start_time": "2022-09-20T11:54:48.477Z"
   },
   {
    "duration": 0,
    "start_time": "2022-09-20T11:54:48.477Z"
   },
   {
    "duration": 0,
    "start_time": "2022-09-20T11:54:48.479Z"
   },
   {
    "duration": 0,
    "start_time": "2022-09-20T11:54:48.480Z"
   },
   {
    "duration": 0,
    "start_time": "2022-09-20T11:54:48.481Z"
   },
   {
    "duration": 0,
    "start_time": "2022-09-20T11:54:48.482Z"
   },
   {
    "duration": 0,
    "start_time": "2022-09-20T11:54:48.483Z"
   },
   {
    "duration": 0,
    "start_time": "2022-09-20T11:54:48.484Z"
   },
   {
    "duration": 0,
    "start_time": "2022-09-20T11:54:48.485Z"
   },
   {
    "duration": 0,
    "start_time": "2022-09-20T11:54:48.486Z"
   },
   {
    "duration": 0,
    "start_time": "2022-09-20T11:54:48.487Z"
   },
   {
    "duration": 0,
    "start_time": "2022-09-20T11:54:48.488Z"
   },
   {
    "duration": 0,
    "start_time": "2022-09-20T11:54:48.489Z"
   },
   {
    "duration": 0,
    "start_time": "2022-09-20T11:54:48.490Z"
   },
   {
    "duration": 0,
    "start_time": "2022-09-20T11:54:48.491Z"
   },
   {
    "duration": 0,
    "start_time": "2022-09-20T11:54:48.492Z"
   },
   {
    "duration": 0,
    "start_time": "2022-09-20T11:54:48.493Z"
   },
   {
    "duration": 0,
    "start_time": "2022-09-20T11:54:48.494Z"
   },
   {
    "duration": 0,
    "start_time": "2022-09-20T11:54:48.521Z"
   },
   {
    "duration": 0,
    "start_time": "2022-09-20T11:54:48.522Z"
   },
   {
    "duration": 0,
    "start_time": "2022-09-20T11:54:48.522Z"
   },
   {
    "duration": 0,
    "start_time": "2022-09-20T11:54:48.527Z"
   },
   {
    "duration": 0,
    "start_time": "2022-09-20T11:54:48.528Z"
   },
   {
    "duration": 0,
    "start_time": "2022-09-20T11:54:48.528Z"
   },
   {
    "duration": 0,
    "start_time": "2022-09-20T11:54:48.529Z"
   },
   {
    "duration": 0,
    "start_time": "2022-09-20T11:54:48.529Z"
   },
   {
    "duration": 0,
    "start_time": "2022-09-20T11:54:48.530Z"
   },
   {
    "duration": 0,
    "start_time": "2022-09-20T11:54:48.531Z"
   },
   {
    "duration": 0,
    "start_time": "2022-09-20T11:54:48.532Z"
   },
   {
    "duration": 0,
    "start_time": "2022-09-20T11:54:48.532Z"
   },
   {
    "duration": 0,
    "start_time": "2022-09-20T11:54:48.533Z"
   },
   {
    "duration": 0,
    "start_time": "2022-09-20T11:54:48.534Z"
   },
   {
    "duration": 0,
    "start_time": "2022-09-20T11:54:48.534Z"
   },
   {
    "duration": 0,
    "start_time": "2022-09-20T11:54:48.535Z"
   },
   {
    "duration": 0,
    "start_time": "2022-09-20T11:54:48.535Z"
   },
   {
    "duration": 0,
    "start_time": "2022-09-20T11:54:48.536Z"
   },
   {
    "duration": 0,
    "start_time": "2022-09-20T11:54:48.536Z"
   },
   {
    "duration": 0,
    "start_time": "2022-09-20T11:54:48.537Z"
   },
   {
    "duration": 0,
    "start_time": "2022-09-20T11:54:48.538Z"
   },
   {
    "duration": 0,
    "start_time": "2022-09-20T11:54:48.538Z"
   },
   {
    "duration": 0,
    "start_time": "2022-09-20T11:54:48.543Z"
   },
   {
    "duration": 0,
    "start_time": "2022-09-20T11:54:48.544Z"
   },
   {
    "duration": 0,
    "start_time": "2022-09-20T11:54:48.545Z"
   },
   {
    "duration": 0,
    "start_time": "2022-09-20T11:54:48.545Z"
   },
   {
    "duration": 0,
    "start_time": "2022-09-20T11:54:48.547Z"
   },
   {
    "duration": 0,
    "start_time": "2022-09-20T11:54:48.547Z"
   },
   {
    "duration": 12,
    "start_time": "2022-09-20T12:01:06.339Z"
   },
   {
    "duration": 9,
    "start_time": "2022-09-20T12:03:33.279Z"
   },
   {
    "duration": 9,
    "start_time": "2022-09-20T12:03:52.880Z"
   },
   {
    "duration": 9,
    "start_time": "2022-09-20T12:03:58.437Z"
   },
   {
    "duration": 9,
    "start_time": "2022-09-20T12:04:01.149Z"
   },
   {
    "duration": 1307,
    "start_time": "2022-09-20T12:04:10.706Z"
   },
   {
    "duration": 73,
    "start_time": "2022-09-20T12:04:12.015Z"
   },
   {
    "duration": 13,
    "start_time": "2022-09-20T12:04:12.090Z"
   },
   {
    "duration": 14,
    "start_time": "2022-09-20T12:04:12.105Z"
   },
   {
    "duration": 25,
    "start_time": "2022-09-20T12:04:12.123Z"
   },
   {
    "duration": 13,
    "start_time": "2022-09-20T12:04:12.150Z"
   },
   {
    "duration": 10,
    "start_time": "2022-09-20T12:04:12.165Z"
   },
   {
    "duration": 26,
    "start_time": "2022-09-20T12:04:12.177Z"
   },
   {
    "duration": 12,
    "start_time": "2022-09-20T12:04:12.204Z"
   },
   {
    "duration": 146,
    "start_time": "2022-09-20T12:04:12.219Z"
   },
   {
    "duration": 0,
    "start_time": "2022-09-20T12:04:12.368Z"
   },
   {
    "duration": 0,
    "start_time": "2022-09-20T12:04:12.371Z"
   },
   {
    "duration": 0,
    "start_time": "2022-09-20T12:04:12.373Z"
   },
   {
    "duration": 0,
    "start_time": "2022-09-20T12:04:12.375Z"
   },
   {
    "duration": 0,
    "start_time": "2022-09-20T12:04:12.376Z"
   },
   {
    "duration": 0,
    "start_time": "2022-09-20T12:04:12.378Z"
   },
   {
    "duration": 0,
    "start_time": "2022-09-20T12:04:12.379Z"
   },
   {
    "duration": 0,
    "start_time": "2022-09-20T12:04:12.380Z"
   },
   {
    "duration": 0,
    "start_time": "2022-09-20T12:04:12.381Z"
   },
   {
    "duration": 0,
    "start_time": "2022-09-20T12:04:12.383Z"
   },
   {
    "duration": 0,
    "start_time": "2022-09-20T12:04:12.384Z"
   },
   {
    "duration": 0,
    "start_time": "2022-09-20T12:04:12.386Z"
   },
   {
    "duration": 0,
    "start_time": "2022-09-20T12:04:12.387Z"
   },
   {
    "duration": 0,
    "start_time": "2022-09-20T12:04:12.388Z"
   },
   {
    "duration": 0,
    "start_time": "2022-09-20T12:04:12.390Z"
   },
   {
    "duration": 0,
    "start_time": "2022-09-20T12:04:12.424Z"
   },
   {
    "duration": 0,
    "start_time": "2022-09-20T12:04:12.424Z"
   },
   {
    "duration": 0,
    "start_time": "2022-09-20T12:04:12.425Z"
   },
   {
    "duration": 0,
    "start_time": "2022-09-20T12:04:12.426Z"
   },
   {
    "duration": 0,
    "start_time": "2022-09-20T12:04:12.427Z"
   },
   {
    "duration": 0,
    "start_time": "2022-09-20T12:04:12.428Z"
   },
   {
    "duration": 0,
    "start_time": "2022-09-20T12:04:12.428Z"
   },
   {
    "duration": 0,
    "start_time": "2022-09-20T12:04:12.429Z"
   },
   {
    "duration": 0,
    "start_time": "2022-09-20T12:04:12.429Z"
   },
   {
    "duration": 0,
    "start_time": "2022-09-20T12:04:12.430Z"
   },
   {
    "duration": 0,
    "start_time": "2022-09-20T12:04:12.431Z"
   },
   {
    "duration": 0,
    "start_time": "2022-09-20T12:04:12.431Z"
   },
   {
    "duration": 0,
    "start_time": "2022-09-20T12:04:12.435Z"
   },
   {
    "duration": 0,
    "start_time": "2022-09-20T12:04:12.436Z"
   },
   {
    "duration": 0,
    "start_time": "2022-09-20T12:04:12.437Z"
   },
   {
    "duration": 0,
    "start_time": "2022-09-20T12:04:12.438Z"
   },
   {
    "duration": 0,
    "start_time": "2022-09-20T12:04:12.439Z"
   },
   {
    "duration": 0,
    "start_time": "2022-09-20T12:04:12.440Z"
   },
   {
    "duration": 0,
    "start_time": "2022-09-20T12:04:12.442Z"
   },
   {
    "duration": 0,
    "start_time": "2022-09-20T12:04:12.443Z"
   },
   {
    "duration": 0,
    "start_time": "2022-09-20T12:04:12.444Z"
   },
   {
    "duration": 0,
    "start_time": "2022-09-20T12:04:12.445Z"
   },
   {
    "duration": 0,
    "start_time": "2022-09-20T12:04:12.446Z"
   },
   {
    "duration": 0,
    "start_time": "2022-09-20T12:04:12.447Z"
   },
   {
    "duration": 0,
    "start_time": "2022-09-20T12:04:12.448Z"
   },
   {
    "duration": 0,
    "start_time": "2022-09-20T12:04:12.449Z"
   },
   {
    "duration": 0,
    "start_time": "2022-09-20T12:04:12.450Z"
   },
   {
    "duration": 0,
    "start_time": "2022-09-20T12:04:12.451Z"
   },
   {
    "duration": 0,
    "start_time": "2022-09-20T12:04:12.452Z"
   },
   {
    "duration": 0,
    "start_time": "2022-09-20T12:04:12.453Z"
   },
   {
    "duration": 0,
    "start_time": "2022-09-20T12:04:12.454Z"
   },
   {
    "duration": 0,
    "start_time": "2022-09-20T12:04:12.455Z"
   },
   {
    "duration": 10,
    "start_time": "2022-09-20T12:04:30.642Z"
   },
   {
    "duration": 1396,
    "start_time": "2022-09-20T12:04:36.702Z"
   },
   {
    "duration": 86,
    "start_time": "2022-09-20T12:04:38.101Z"
   },
   {
    "duration": 17,
    "start_time": "2022-09-20T12:04:38.189Z"
   },
   {
    "duration": 18,
    "start_time": "2022-09-20T12:04:38.208Z"
   },
   {
    "duration": 35,
    "start_time": "2022-09-20T12:04:38.230Z"
   },
   {
    "duration": 30,
    "start_time": "2022-09-20T12:04:38.267Z"
   },
   {
    "duration": 17,
    "start_time": "2022-09-20T12:04:38.298Z"
   },
   {
    "duration": 53,
    "start_time": "2022-09-20T12:04:38.317Z"
   },
   {
    "duration": 27,
    "start_time": "2022-09-20T12:04:38.372Z"
   },
   {
    "duration": 12,
    "start_time": "2022-09-20T12:04:38.403Z"
   },
   {
    "duration": 48,
    "start_time": "2022-09-20T12:04:38.417Z"
   },
   {
    "duration": 13,
    "start_time": "2022-09-20T12:04:38.467Z"
   },
   {
    "duration": 10,
    "start_time": "2022-09-20T12:04:38.482Z"
   },
   {
    "duration": 16,
    "start_time": "2022-09-20T12:04:38.494Z"
   },
   {
    "duration": 23,
    "start_time": "2022-09-20T12:04:38.512Z"
   },
   {
    "duration": 8,
    "start_time": "2022-09-20T12:04:38.546Z"
   },
   {
    "duration": 15,
    "start_time": "2022-09-20T12:04:38.556Z"
   },
   {
    "duration": 38,
    "start_time": "2022-09-20T12:04:38.573Z"
   },
   {
    "duration": 138,
    "start_time": "2022-09-20T12:04:38.612Z"
   },
   {
    "duration": 0,
    "start_time": "2022-09-20T12:04:38.753Z"
   },
   {
    "duration": 0,
    "start_time": "2022-09-20T12:04:38.754Z"
   },
   {
    "duration": 0,
    "start_time": "2022-09-20T12:04:38.755Z"
   },
   {
    "duration": 0,
    "start_time": "2022-09-20T12:04:38.756Z"
   },
   {
    "duration": 0,
    "start_time": "2022-09-20T12:04:38.757Z"
   },
   {
    "duration": 0,
    "start_time": "2022-09-20T12:04:38.759Z"
   },
   {
    "duration": 0,
    "start_time": "2022-09-20T12:04:38.760Z"
   },
   {
    "duration": 0,
    "start_time": "2022-09-20T12:04:38.761Z"
   },
   {
    "duration": 0,
    "start_time": "2022-09-20T12:04:38.762Z"
   },
   {
    "duration": 0,
    "start_time": "2022-09-20T12:04:38.764Z"
   },
   {
    "duration": 0,
    "start_time": "2022-09-20T12:04:38.765Z"
   },
   {
    "duration": 0,
    "start_time": "2022-09-20T12:04:38.766Z"
   },
   {
    "duration": 0,
    "start_time": "2022-09-20T12:04:38.767Z"
   },
   {
    "duration": 0,
    "start_time": "2022-09-20T12:04:38.768Z"
   },
   {
    "duration": 0,
    "start_time": "2022-09-20T12:04:38.769Z"
   },
   {
    "duration": 0,
    "start_time": "2022-09-20T12:04:38.770Z"
   },
   {
    "duration": 0,
    "start_time": "2022-09-20T12:04:38.772Z"
   },
   {
    "duration": 0,
    "start_time": "2022-09-20T12:04:38.773Z"
   },
   {
    "duration": 0,
    "start_time": "2022-09-20T12:04:38.774Z"
   },
   {
    "duration": 0,
    "start_time": "2022-09-20T12:04:38.775Z"
   },
   {
    "duration": 0,
    "start_time": "2022-09-20T12:04:38.776Z"
   },
   {
    "duration": 0,
    "start_time": "2022-09-20T12:04:38.777Z"
   },
   {
    "duration": 0,
    "start_time": "2022-09-20T12:04:38.779Z"
   },
   {
    "duration": 0,
    "start_time": "2022-09-20T12:04:38.780Z"
   },
   {
    "duration": 0,
    "start_time": "2022-09-20T12:04:38.781Z"
   },
   {
    "duration": 0,
    "start_time": "2022-09-20T12:04:38.823Z"
   },
   {
    "duration": 0,
    "start_time": "2022-09-20T12:04:38.824Z"
   },
   {
    "duration": 0,
    "start_time": "2022-09-20T12:04:38.830Z"
   },
   {
    "duration": 0,
    "start_time": "2022-09-20T12:04:38.833Z"
   },
   {
    "duration": 0,
    "start_time": "2022-09-20T12:04:38.834Z"
   },
   {
    "duration": 0,
    "start_time": "2022-09-20T12:04:38.835Z"
   },
   {
    "duration": 0,
    "start_time": "2022-09-20T12:04:38.836Z"
   },
   {
    "duration": 0,
    "start_time": "2022-09-20T12:04:38.837Z"
   },
   {
    "duration": 0,
    "start_time": "2022-09-20T12:04:38.839Z"
   },
   {
    "duration": 0,
    "start_time": "2022-09-20T12:04:38.841Z"
   },
   {
    "duration": 0,
    "start_time": "2022-09-20T12:04:38.842Z"
   },
   {
    "duration": 0,
    "start_time": "2022-09-20T12:04:38.843Z"
   },
   {
    "duration": 0,
    "start_time": "2022-09-20T12:04:38.844Z"
   },
   {
    "duration": 13,
    "start_time": "2022-09-20T12:07:38.958Z"
   },
   {
    "duration": 1210,
    "start_time": "2022-09-20T12:07:57.486Z"
   },
   {
    "duration": 92,
    "start_time": "2022-09-20T12:07:58.698Z"
   },
   {
    "duration": 19,
    "start_time": "2022-09-20T12:07:58.792Z"
   },
   {
    "duration": 11,
    "start_time": "2022-09-20T12:07:58.814Z"
   },
   {
    "duration": 41,
    "start_time": "2022-09-20T12:07:58.827Z"
   },
   {
    "duration": 7,
    "start_time": "2022-09-20T12:07:58.870Z"
   },
   {
    "duration": 8,
    "start_time": "2022-09-20T12:07:58.879Z"
   },
   {
    "duration": 20,
    "start_time": "2022-09-20T12:07:58.889Z"
   },
   {
    "duration": 19,
    "start_time": "2022-09-20T12:07:58.910Z"
   },
   {
    "duration": 29,
    "start_time": "2022-09-20T12:07:58.933Z"
   },
   {
    "duration": 7,
    "start_time": "2022-09-20T12:07:58.965Z"
   },
   {
    "duration": 12,
    "start_time": "2022-09-20T12:07:58.974Z"
   },
   {
    "duration": 9,
    "start_time": "2022-09-20T12:07:58.987Z"
   },
   {
    "duration": 19,
    "start_time": "2022-09-20T12:07:58.998Z"
   },
   {
    "duration": 38,
    "start_time": "2022-09-20T12:07:59.019Z"
   },
   {
    "duration": 7,
    "start_time": "2022-09-20T12:07:59.059Z"
   },
   {
    "duration": 16,
    "start_time": "2022-09-20T12:07:59.067Z"
   },
   {
    "duration": 34,
    "start_time": "2022-09-20T12:07:59.085Z"
   },
   {
    "duration": 129,
    "start_time": "2022-09-20T12:07:59.122Z"
   },
   {
    "duration": 0,
    "start_time": "2022-09-20T12:07:59.254Z"
   },
   {
    "duration": 0,
    "start_time": "2022-09-20T12:07:59.255Z"
   },
   {
    "duration": 0,
    "start_time": "2022-09-20T12:07:59.257Z"
   },
   {
    "duration": 0,
    "start_time": "2022-09-20T12:07:59.258Z"
   },
   {
    "duration": 0,
    "start_time": "2022-09-20T12:07:59.259Z"
   },
   {
    "duration": 0,
    "start_time": "2022-09-20T12:07:59.260Z"
   },
   {
    "duration": 0,
    "start_time": "2022-09-20T12:07:59.261Z"
   },
   {
    "duration": 0,
    "start_time": "2022-09-20T12:07:59.263Z"
   },
   {
    "duration": 0,
    "start_time": "2022-09-20T12:07:59.264Z"
   },
   {
    "duration": 0,
    "start_time": "2022-09-20T12:07:59.266Z"
   },
   {
    "duration": 0,
    "start_time": "2022-09-20T12:07:59.267Z"
   },
   {
    "duration": 0,
    "start_time": "2022-09-20T12:07:59.268Z"
   },
   {
    "duration": 0,
    "start_time": "2022-09-20T12:07:59.269Z"
   },
   {
    "duration": 0,
    "start_time": "2022-09-20T12:07:59.271Z"
   },
   {
    "duration": 0,
    "start_time": "2022-09-20T12:07:59.272Z"
   },
   {
    "duration": 0,
    "start_time": "2022-09-20T12:07:59.273Z"
   },
   {
    "duration": 0,
    "start_time": "2022-09-20T12:07:59.275Z"
   },
   {
    "duration": 0,
    "start_time": "2022-09-20T12:07:59.276Z"
   },
   {
    "duration": 0,
    "start_time": "2022-09-20T12:07:59.277Z"
   },
   {
    "duration": 0,
    "start_time": "2022-09-20T12:07:59.278Z"
   },
   {
    "duration": 0,
    "start_time": "2022-09-20T12:07:59.279Z"
   },
   {
    "duration": 0,
    "start_time": "2022-09-20T12:07:59.280Z"
   },
   {
    "duration": 0,
    "start_time": "2022-09-20T12:07:59.281Z"
   },
   {
    "duration": 0,
    "start_time": "2022-09-20T12:07:59.282Z"
   },
   {
    "duration": 0,
    "start_time": "2022-09-20T12:07:59.324Z"
   },
   {
    "duration": 0,
    "start_time": "2022-09-20T12:07:59.325Z"
   },
   {
    "duration": 0,
    "start_time": "2022-09-20T12:07:59.327Z"
   },
   {
    "duration": 0,
    "start_time": "2022-09-20T12:07:59.328Z"
   },
   {
    "duration": 0,
    "start_time": "2022-09-20T12:07:59.329Z"
   },
   {
    "duration": 0,
    "start_time": "2022-09-20T12:07:59.330Z"
   },
   {
    "duration": 0,
    "start_time": "2022-09-20T12:07:59.331Z"
   },
   {
    "duration": 0,
    "start_time": "2022-09-20T12:07:59.333Z"
   },
   {
    "duration": 0,
    "start_time": "2022-09-20T12:07:59.334Z"
   },
   {
    "duration": 0,
    "start_time": "2022-09-20T12:07:59.335Z"
   },
   {
    "duration": 0,
    "start_time": "2022-09-20T12:07:59.337Z"
   },
   {
    "duration": 0,
    "start_time": "2022-09-20T12:07:59.338Z"
   },
   {
    "duration": 0,
    "start_time": "2022-09-20T12:07:59.340Z"
   },
   {
    "duration": 0,
    "start_time": "2022-09-20T12:07:59.341Z"
   },
   {
    "duration": 17,
    "start_time": "2022-09-20T12:08:47.692Z"
   },
   {
    "duration": 8,
    "start_time": "2022-09-20T12:09:48.838Z"
   },
   {
    "duration": 8,
    "start_time": "2022-09-20T12:11:38.118Z"
   },
   {
    "duration": 6,
    "start_time": "2022-09-20T12:11:47.547Z"
   },
   {
    "duration": 1087,
    "start_time": "2022-09-20T12:12:09.777Z"
   },
   {
    "duration": 77,
    "start_time": "2022-09-20T12:12:10.866Z"
   },
   {
    "duration": 17,
    "start_time": "2022-09-20T12:12:10.945Z"
   },
   {
    "duration": 11,
    "start_time": "2022-09-20T12:12:10.965Z"
   },
   {
    "duration": 10,
    "start_time": "2022-09-20T12:12:10.977Z"
   },
   {
    "duration": 10,
    "start_time": "2022-09-20T12:12:10.989Z"
   },
   {
    "duration": 57,
    "start_time": "2022-09-20T12:12:11.000Z"
   },
   {
    "duration": 33,
    "start_time": "2022-09-20T12:12:11.060Z"
   },
   {
    "duration": 32,
    "start_time": "2022-09-20T12:12:11.095Z"
   },
   {
    "duration": 21,
    "start_time": "2022-09-20T12:12:11.133Z"
   },
   {
    "duration": 7,
    "start_time": "2022-09-20T12:12:11.156Z"
   },
   {
    "duration": 11,
    "start_time": "2022-09-20T12:12:11.165Z"
   },
   {
    "duration": 9,
    "start_time": "2022-09-20T12:12:11.177Z"
   },
   {
    "duration": 13,
    "start_time": "2022-09-20T12:12:11.187Z"
   },
   {
    "duration": 32,
    "start_time": "2022-09-20T12:12:11.202Z"
   },
   {
    "duration": 6,
    "start_time": "2022-09-20T12:12:11.235Z"
   },
   {
    "duration": 27,
    "start_time": "2022-09-20T12:12:11.242Z"
   },
   {
    "duration": 15,
    "start_time": "2022-09-20T12:12:11.270Z"
   },
   {
    "duration": 8,
    "start_time": "2022-09-20T12:12:11.287Z"
   },
   {
    "duration": 12,
    "start_time": "2022-09-20T12:12:11.296Z"
   },
   {
    "duration": 19,
    "start_time": "2022-09-20T12:12:11.310Z"
   },
   {
    "duration": 33,
    "start_time": "2022-09-20T12:12:11.331Z"
   },
   {
    "duration": 20,
    "start_time": "2022-09-20T12:12:11.366Z"
   },
   {
    "duration": 13,
    "start_time": "2022-09-20T12:12:11.388Z"
   },
   {
    "duration": 108,
    "start_time": "2022-09-20T12:12:11.403Z"
   },
   {
    "duration": 0,
    "start_time": "2022-09-20T12:12:11.513Z"
   },
   {
    "duration": 0,
    "start_time": "2022-09-20T12:12:11.514Z"
   },
   {
    "duration": 0,
    "start_time": "2022-09-20T12:12:11.515Z"
   },
   {
    "duration": 0,
    "start_time": "2022-09-20T12:12:11.525Z"
   },
   {
    "duration": 0,
    "start_time": "2022-09-20T12:12:11.526Z"
   },
   {
    "duration": 0,
    "start_time": "2022-09-20T12:12:11.526Z"
   },
   {
    "duration": 0,
    "start_time": "2022-09-20T12:12:11.533Z"
   },
   {
    "duration": 0,
    "start_time": "2022-09-20T12:12:11.534Z"
   },
   {
    "duration": 0,
    "start_time": "2022-09-20T12:12:11.535Z"
   },
   {
    "duration": 0,
    "start_time": "2022-09-20T12:12:11.538Z"
   },
   {
    "duration": 0,
    "start_time": "2022-09-20T12:12:11.539Z"
   },
   {
    "duration": 0,
    "start_time": "2022-09-20T12:12:11.539Z"
   },
   {
    "duration": 0,
    "start_time": "2022-09-20T12:12:11.542Z"
   },
   {
    "duration": 0,
    "start_time": "2022-09-20T12:12:11.544Z"
   },
   {
    "duration": 0,
    "start_time": "2022-09-20T12:12:11.545Z"
   },
   {
    "duration": 0,
    "start_time": "2022-09-20T12:12:11.547Z"
   },
   {
    "duration": 0,
    "start_time": "2022-09-20T12:12:11.548Z"
   },
   {
    "duration": 0,
    "start_time": "2022-09-20T12:12:11.548Z"
   },
   {
    "duration": 0,
    "start_time": "2022-09-20T12:12:11.549Z"
   },
   {
    "duration": 0,
    "start_time": "2022-09-20T12:12:11.550Z"
   },
   {
    "duration": 0,
    "start_time": "2022-09-20T12:12:11.551Z"
   },
   {
    "duration": 0,
    "start_time": "2022-09-20T12:12:11.552Z"
   },
   {
    "duration": 0,
    "start_time": "2022-09-20T12:12:11.553Z"
   },
   {
    "duration": 0,
    "start_time": "2022-09-20T12:12:11.553Z"
   },
   {
    "duration": 0,
    "start_time": "2022-09-20T12:12:11.554Z"
   },
   {
    "duration": 0,
    "start_time": "2022-09-20T12:12:11.556Z"
   },
   {
    "duration": 0,
    "start_time": "2022-09-20T12:12:11.557Z"
   },
   {
    "duration": 0,
    "start_time": "2022-09-20T12:12:11.558Z"
   },
   {
    "duration": 0,
    "start_time": "2022-09-20T12:12:11.559Z"
   },
   {
    "duration": 0,
    "start_time": "2022-09-20T12:12:11.560Z"
   },
   {
    "duration": 0,
    "start_time": "2022-09-20T12:12:11.560Z"
   },
   {
    "duration": 0,
    "start_time": "2022-09-20T12:12:11.561Z"
   },
   {
    "duration": 8,
    "start_time": "2022-09-20T12:13:16.119Z"
   },
   {
    "duration": 8,
    "start_time": "2022-09-20T12:14:28.499Z"
   },
   {
    "duration": 1100,
    "start_time": "2022-09-20T12:14:41.577Z"
   },
   {
    "duration": 67,
    "start_time": "2022-09-20T12:14:42.679Z"
   },
   {
    "duration": 12,
    "start_time": "2022-09-20T12:14:42.748Z"
   },
   {
    "duration": 28,
    "start_time": "2022-09-20T12:14:42.762Z"
   },
   {
    "duration": 24,
    "start_time": "2022-09-20T12:14:42.791Z"
   },
   {
    "duration": 40,
    "start_time": "2022-09-20T12:14:42.816Z"
   },
   {
    "duration": 33,
    "start_time": "2022-09-20T12:14:42.858Z"
   },
   {
    "duration": 59,
    "start_time": "2022-09-20T12:14:42.892Z"
   },
   {
    "duration": 41,
    "start_time": "2022-09-20T12:14:42.952Z"
   },
   {
    "duration": 31,
    "start_time": "2022-09-20T12:14:42.995Z"
   },
   {
    "duration": 32,
    "start_time": "2022-09-20T12:14:43.033Z"
   },
   {
    "duration": 28,
    "start_time": "2022-09-20T12:14:43.067Z"
   },
   {
    "duration": 53,
    "start_time": "2022-09-20T12:14:43.097Z"
   },
   {
    "duration": 35,
    "start_time": "2022-09-20T12:14:43.153Z"
   },
   {
    "duration": 49,
    "start_time": "2022-09-20T12:14:43.189Z"
   },
   {
    "duration": 7,
    "start_time": "2022-09-20T12:14:43.240Z"
   },
   {
    "duration": 23,
    "start_time": "2022-09-20T12:14:43.248Z"
   },
   {
    "duration": 11,
    "start_time": "2022-09-20T12:14:43.273Z"
   },
   {
    "duration": 16,
    "start_time": "2022-09-20T12:14:43.286Z"
   },
   {
    "duration": 17,
    "start_time": "2022-09-20T12:14:43.303Z"
   },
   {
    "duration": 23,
    "start_time": "2022-09-20T12:14:43.322Z"
   },
   {
    "duration": 9,
    "start_time": "2022-09-20T12:14:43.351Z"
   },
   {
    "duration": 22,
    "start_time": "2022-09-20T12:14:43.362Z"
   },
   {
    "duration": 34,
    "start_time": "2022-09-20T12:14:43.386Z"
   },
   {
    "duration": 59,
    "start_time": "2022-09-20T12:14:43.424Z"
   },
   {
    "duration": 197,
    "start_time": "2022-09-20T12:14:43.485Z"
   },
   {
    "duration": 623,
    "start_time": "2022-09-20T12:14:43.684Z"
   },
   {
    "duration": 762,
    "start_time": "2022-09-20T12:14:44.308Z"
   },
   {
    "duration": 477,
    "start_time": "2022-09-20T12:14:45.072Z"
   },
   {
    "duration": 206,
    "start_time": "2022-09-20T12:14:45.551Z"
   },
   {
    "duration": 516,
    "start_time": "2022-09-20T12:14:45.758Z"
   },
   {
    "duration": 574,
    "start_time": "2022-09-20T12:14:46.275Z"
   },
   {
    "duration": 251,
    "start_time": "2022-09-20T12:14:46.850Z"
   },
   {
    "duration": 199,
    "start_time": "2022-09-20T12:14:47.103Z"
   },
   {
    "duration": 148,
    "start_time": "2022-09-20T12:14:47.305Z"
   },
   {
    "duration": 0,
    "start_time": "2022-09-20T12:14:47.456Z"
   },
   {
    "duration": 0,
    "start_time": "2022-09-20T12:14:47.457Z"
   },
   {
    "duration": 0,
    "start_time": "2022-09-20T12:14:47.465Z"
   },
   {
    "duration": 0,
    "start_time": "2022-09-20T12:14:47.466Z"
   },
   {
    "duration": 0,
    "start_time": "2022-09-20T12:14:47.467Z"
   },
   {
    "duration": 0,
    "start_time": "2022-09-20T12:14:47.468Z"
   },
   {
    "duration": 0,
    "start_time": "2022-09-20T12:14:47.469Z"
   },
   {
    "duration": 0,
    "start_time": "2022-09-20T12:14:47.472Z"
   },
   {
    "duration": 0,
    "start_time": "2022-09-20T12:14:47.473Z"
   },
   {
    "duration": 0,
    "start_time": "2022-09-20T12:14:47.475Z"
   },
   {
    "duration": 0,
    "start_time": "2022-09-20T12:14:47.476Z"
   },
   {
    "duration": 0,
    "start_time": "2022-09-20T12:14:47.478Z"
   },
   {
    "duration": 0,
    "start_time": "2022-09-20T12:14:47.480Z"
   },
   {
    "duration": 0,
    "start_time": "2022-09-20T12:14:47.482Z"
   },
   {
    "duration": 0,
    "start_time": "2022-09-20T12:14:47.483Z"
   },
   {
    "duration": 0,
    "start_time": "2022-09-20T12:14:47.484Z"
   },
   {
    "duration": 0,
    "start_time": "2022-09-20T12:14:47.485Z"
   },
   {
    "duration": 0,
    "start_time": "2022-09-20T12:14:47.486Z"
   },
   {
    "duration": 0,
    "start_time": "2022-09-20T12:14:47.487Z"
   },
   {
    "duration": 0,
    "start_time": "2022-09-20T12:14:47.489Z"
   },
   {
    "duration": 0,
    "start_time": "2022-09-20T12:14:47.489Z"
   },
   {
    "duration": 440,
    "start_time": "2022-09-20T12:16:01.517Z"
   },
   {
    "duration": 4,
    "start_time": "2022-09-20T12:16:13.544Z"
   },
   {
    "duration": 286,
    "start_time": "2022-09-20T12:17:58.540Z"
   },
   {
    "duration": 18,
    "start_time": "2022-09-20T12:20:38.961Z"
   },
   {
    "duration": 19,
    "start_time": "2022-09-20T12:21:03.041Z"
   },
   {
    "duration": 1164,
    "start_time": "2022-09-20T12:21:26.544Z"
   },
   {
    "duration": 93,
    "start_time": "2022-09-20T12:21:27.711Z"
   },
   {
    "duration": 14,
    "start_time": "2022-09-20T12:21:27.806Z"
   },
   {
    "duration": 21,
    "start_time": "2022-09-20T12:21:27.824Z"
   },
   {
    "duration": 20,
    "start_time": "2022-09-20T12:21:27.847Z"
   },
   {
    "duration": 19,
    "start_time": "2022-09-20T12:21:27.868Z"
   },
   {
    "duration": 14,
    "start_time": "2022-09-20T12:21:27.889Z"
   },
   {
    "duration": 29,
    "start_time": "2022-09-20T12:21:27.904Z"
   },
   {
    "duration": 29,
    "start_time": "2022-09-20T12:21:27.935Z"
   },
   {
    "duration": 5,
    "start_time": "2022-09-20T12:21:27.966Z"
   },
   {
    "duration": 6,
    "start_time": "2022-09-20T12:21:27.972Z"
   },
   {
    "duration": 8,
    "start_time": "2022-09-20T12:21:27.979Z"
   },
   {
    "duration": 453,
    "start_time": "2022-09-20T12:21:27.988Z"
   },
   {
    "duration": 6,
    "start_time": "2022-09-20T12:21:28.443Z"
   },
   {
    "duration": 21,
    "start_time": "2022-09-20T12:21:28.451Z"
   },
   {
    "duration": 39,
    "start_time": "2022-09-20T12:21:28.473Z"
   },
   {
    "duration": 4,
    "start_time": "2022-09-20T12:21:28.514Z"
   },
   {
    "duration": 34,
    "start_time": "2022-09-20T12:21:28.519Z"
   },
   {
    "duration": 25,
    "start_time": "2022-09-20T12:21:28.554Z"
   },
   {
    "duration": 8,
    "start_time": "2022-09-20T12:21:28.580Z"
   },
   {
    "duration": 14,
    "start_time": "2022-09-20T12:21:28.590Z"
   },
   {
    "duration": 9,
    "start_time": "2022-09-20T12:21:28.606Z"
   },
   {
    "duration": 5,
    "start_time": "2022-09-20T12:21:28.617Z"
   },
   {
    "duration": 9,
    "start_time": "2022-09-20T12:21:28.625Z"
   },
   {
    "duration": 32,
    "start_time": "2022-09-20T12:21:28.639Z"
   },
   {
    "duration": 33,
    "start_time": "2022-09-20T12:21:28.672Z"
   },
   {
    "duration": 180,
    "start_time": "2022-09-20T12:21:28.707Z"
   },
   {
    "duration": 563,
    "start_time": "2022-09-20T12:21:28.892Z"
   },
   {
    "duration": 767,
    "start_time": "2022-09-20T12:21:29.457Z"
   },
   {
    "duration": 386,
    "start_time": "2022-09-20T12:21:30.229Z"
   },
   {
    "duration": 194,
    "start_time": "2022-09-20T12:21:30.616Z"
   },
   {
    "duration": 497,
    "start_time": "2022-09-20T12:21:30.812Z"
   },
   {
    "duration": 596,
    "start_time": "2022-09-20T12:21:31.310Z"
   },
   {
    "duration": 259,
    "start_time": "2022-09-20T12:21:31.908Z"
   },
   {
    "duration": 170,
    "start_time": "2022-09-20T12:21:32.168Z"
   },
   {
    "duration": 102,
    "start_time": "2022-09-20T12:21:32.341Z"
   },
   {
    "duration": 0,
    "start_time": "2022-09-20T12:21:32.444Z"
   },
   {
    "duration": 0,
    "start_time": "2022-09-20T12:21:32.446Z"
   },
   {
    "duration": 0,
    "start_time": "2022-09-20T12:21:32.447Z"
   },
   {
    "duration": 0,
    "start_time": "2022-09-20T12:21:32.448Z"
   },
   {
    "duration": 0,
    "start_time": "2022-09-20T12:21:32.449Z"
   },
   {
    "duration": 0,
    "start_time": "2022-09-20T12:21:32.450Z"
   },
   {
    "duration": 0,
    "start_time": "2022-09-20T12:21:32.450Z"
   },
   {
    "duration": 0,
    "start_time": "2022-09-20T12:21:32.451Z"
   },
   {
    "duration": 0,
    "start_time": "2022-09-20T12:21:32.452Z"
   },
   {
    "duration": 0,
    "start_time": "2022-09-20T12:21:32.453Z"
   },
   {
    "duration": 0,
    "start_time": "2022-09-20T12:21:32.454Z"
   },
   {
    "duration": 0,
    "start_time": "2022-09-20T12:21:32.455Z"
   },
   {
    "duration": 0,
    "start_time": "2022-09-20T12:21:32.456Z"
   },
   {
    "duration": 0,
    "start_time": "2022-09-20T12:21:32.457Z"
   },
   {
    "duration": 0,
    "start_time": "2022-09-20T12:21:32.458Z"
   },
   {
    "duration": 0,
    "start_time": "2022-09-20T12:21:32.460Z"
   },
   {
    "duration": 0,
    "start_time": "2022-09-20T12:21:32.461Z"
   },
   {
    "duration": 0,
    "start_time": "2022-09-20T12:21:32.462Z"
   },
   {
    "duration": 0,
    "start_time": "2022-09-20T12:21:32.463Z"
   },
   {
    "duration": 0,
    "start_time": "2022-09-20T12:21:32.464Z"
   },
   {
    "duration": 0,
    "start_time": "2022-09-20T12:21:32.465Z"
   },
   {
    "duration": 1163,
    "start_time": "2022-09-20T12:26:02.251Z"
   },
   {
    "duration": 111,
    "start_time": "2022-09-20T12:26:03.421Z"
   },
   {
    "duration": 21,
    "start_time": "2022-09-20T12:26:03.536Z"
   },
   {
    "duration": 12,
    "start_time": "2022-09-20T12:26:03.559Z"
   },
   {
    "duration": 6,
    "start_time": "2022-09-20T12:26:03.573Z"
   },
   {
    "duration": 10,
    "start_time": "2022-09-20T12:26:03.581Z"
   },
   {
    "duration": 10,
    "start_time": "2022-09-20T12:26:03.593Z"
   },
   {
    "duration": 27,
    "start_time": "2022-09-20T12:26:03.604Z"
   },
   {
    "duration": 21,
    "start_time": "2022-09-20T12:26:03.634Z"
   },
   {
    "duration": 5,
    "start_time": "2022-09-20T12:26:03.657Z"
   },
   {
    "duration": 7,
    "start_time": "2022-09-20T12:26:03.664Z"
   },
   {
    "duration": 13,
    "start_time": "2022-09-20T12:26:03.673Z"
   },
   {
    "duration": 444,
    "start_time": "2022-09-20T12:26:03.687Z"
   },
   {
    "duration": 9,
    "start_time": "2022-09-20T12:26:04.133Z"
   },
   {
    "duration": 25,
    "start_time": "2022-09-20T12:26:04.144Z"
   },
   {
    "duration": 18,
    "start_time": "2022-09-20T12:26:04.171Z"
   },
   {
    "duration": 7,
    "start_time": "2022-09-20T12:26:04.195Z"
   },
   {
    "duration": 13,
    "start_time": "2022-09-20T12:26:04.203Z"
   },
   {
    "duration": 38,
    "start_time": "2022-09-20T12:26:04.221Z"
   },
   {
    "duration": 7,
    "start_time": "2022-09-20T12:26:04.261Z"
   },
   {
    "duration": 11,
    "start_time": "2022-09-20T12:26:04.270Z"
   },
   {
    "duration": 8,
    "start_time": "2022-09-20T12:26:04.282Z"
   },
   {
    "duration": 3,
    "start_time": "2022-09-20T12:26:04.292Z"
   },
   {
    "duration": 11,
    "start_time": "2022-09-20T12:26:04.297Z"
   },
   {
    "duration": 38,
    "start_time": "2022-09-20T12:26:04.310Z"
   },
   {
    "duration": 21,
    "start_time": "2022-09-20T12:26:04.350Z"
   },
   {
    "duration": 171,
    "start_time": "2022-09-20T12:26:04.372Z"
   },
   {
    "duration": 496,
    "start_time": "2022-09-20T12:26:04.547Z"
   },
   {
    "duration": 727,
    "start_time": "2022-09-20T12:26:05.045Z"
   },
   {
    "duration": 479,
    "start_time": "2022-09-20T12:26:05.774Z"
   },
   {
    "duration": 210,
    "start_time": "2022-09-20T12:26:06.257Z"
   },
   {
    "duration": 438,
    "start_time": "2022-09-20T12:26:06.469Z"
   },
   {
    "duration": 619,
    "start_time": "2022-09-20T12:26:06.909Z"
   },
   {
    "duration": 249,
    "start_time": "2022-09-20T12:26:07.533Z"
   },
   {
    "duration": 191,
    "start_time": "2022-09-20T12:26:07.784Z"
   },
   {
    "duration": 138,
    "start_time": "2022-09-20T12:26:07.977Z"
   },
   {
    "duration": 0,
    "start_time": "2022-09-20T12:26:08.118Z"
   },
   {
    "duration": 0,
    "start_time": "2022-09-20T12:26:08.121Z"
   },
   {
    "duration": 0,
    "start_time": "2022-09-20T12:26:08.122Z"
   },
   {
    "duration": 0,
    "start_time": "2022-09-20T12:26:08.125Z"
   },
   {
    "duration": 0,
    "start_time": "2022-09-20T12:26:08.125Z"
   },
   {
    "duration": 0,
    "start_time": "2022-09-20T12:26:08.126Z"
   },
   {
    "duration": 0,
    "start_time": "2022-09-20T12:26:08.127Z"
   },
   {
    "duration": 0,
    "start_time": "2022-09-20T12:26:08.127Z"
   },
   {
    "duration": 0,
    "start_time": "2022-09-20T12:26:08.128Z"
   },
   {
    "duration": 0,
    "start_time": "2022-09-20T12:26:08.129Z"
   },
   {
    "duration": 0,
    "start_time": "2022-09-20T12:26:08.129Z"
   },
   {
    "duration": 0,
    "start_time": "2022-09-20T12:26:08.130Z"
   },
   {
    "duration": 0,
    "start_time": "2022-09-20T12:26:08.130Z"
   },
   {
    "duration": 0,
    "start_time": "2022-09-20T12:26:08.133Z"
   },
   {
    "duration": 0,
    "start_time": "2022-09-20T12:26:08.134Z"
   },
   {
    "duration": 0,
    "start_time": "2022-09-20T12:26:08.135Z"
   },
   {
    "duration": 0,
    "start_time": "2022-09-20T12:26:08.136Z"
   },
   {
    "duration": 0,
    "start_time": "2022-09-20T12:26:08.137Z"
   },
   {
    "duration": 0,
    "start_time": "2022-09-20T12:26:08.138Z"
   },
   {
    "duration": 0,
    "start_time": "2022-09-20T12:26:08.140Z"
   },
   {
    "duration": 0,
    "start_time": "2022-09-20T12:26:08.141Z"
   },
   {
    "duration": 164,
    "start_time": "2022-09-20T12:26:35.489Z"
   },
   {
    "duration": 463,
    "start_time": "2022-09-20T12:27:15.500Z"
   },
   {
    "duration": 217,
    "start_time": "2022-09-20T12:35:57.343Z"
   },
   {
    "duration": 16,
    "start_time": "2022-09-20T12:36:00.888Z"
   },
   {
    "duration": 761,
    "start_time": "2022-09-20T12:36:33.549Z"
   },
   {
    "duration": 1348,
    "start_time": "2022-09-20T12:36:47.576Z"
   },
   {
    "duration": 94,
    "start_time": "2022-09-20T12:36:48.926Z"
   },
   {
    "duration": 16,
    "start_time": "2022-09-20T12:36:49.023Z"
   },
   {
    "duration": 43,
    "start_time": "2022-09-20T12:36:49.041Z"
   },
   {
    "duration": 5,
    "start_time": "2022-09-20T12:36:49.087Z"
   },
   {
    "duration": 9,
    "start_time": "2022-09-20T12:36:49.094Z"
   },
   {
    "duration": 8,
    "start_time": "2022-09-20T12:36:49.104Z"
   },
   {
    "duration": 26,
    "start_time": "2022-09-20T12:36:49.113Z"
   },
   {
    "duration": 38,
    "start_time": "2022-09-20T12:36:49.141Z"
   },
   {
    "duration": 3,
    "start_time": "2022-09-20T12:36:49.182Z"
   },
   {
    "duration": 5,
    "start_time": "2022-09-20T12:36:49.186Z"
   },
   {
    "duration": 9,
    "start_time": "2022-09-20T12:36:49.193Z"
   },
   {
    "duration": 531,
    "start_time": "2022-09-20T12:36:49.203Z"
   },
   {
    "duration": 12,
    "start_time": "2022-09-20T12:36:49.740Z"
   },
   {
    "duration": 50,
    "start_time": "2022-09-20T12:36:49.753Z"
   },
   {
    "duration": 32,
    "start_time": "2022-09-20T12:36:49.805Z"
   },
   {
    "duration": 19,
    "start_time": "2022-09-20T12:36:49.845Z"
   },
   {
    "duration": 15,
    "start_time": "2022-09-20T12:36:49.866Z"
   },
   {
    "duration": 19,
    "start_time": "2022-09-20T12:36:49.883Z"
   },
   {
    "duration": 9,
    "start_time": "2022-09-20T12:36:49.904Z"
   },
   {
    "duration": 22,
    "start_time": "2022-09-20T12:36:49.915Z"
   },
   {
    "duration": 38,
    "start_time": "2022-09-20T12:36:49.941Z"
   },
   {
    "duration": 3,
    "start_time": "2022-09-20T12:36:50.075Z"
   },
   {
    "duration": 6,
    "start_time": "2022-09-20T12:36:50.170Z"
   },
   {
    "duration": 11,
    "start_time": "2022-09-20T12:36:50.377Z"
   },
   {
    "duration": 33,
    "start_time": "2022-09-20T12:36:50.477Z"
   },
   {
    "duration": 205,
    "start_time": "2022-09-20T12:36:50.585Z"
   },
   {
    "duration": 590,
    "start_time": "2022-09-20T12:36:50.795Z"
   },
   {
    "duration": 813,
    "start_time": "2022-09-20T12:36:51.387Z"
   },
   {
    "duration": 481,
    "start_time": "2022-09-20T12:36:52.202Z"
   },
   {
    "duration": 168,
    "start_time": "2022-09-20T12:36:52.685Z"
   },
   {
    "duration": 483,
    "start_time": "2022-09-20T12:36:52.855Z"
   },
   {
    "duration": 618,
    "start_time": "2022-09-20T12:36:53.339Z"
   },
   {
    "duration": 241,
    "start_time": "2022-09-20T12:36:53.963Z"
   },
   {
    "duration": 249,
    "start_time": "2022-09-20T12:36:54.206Z"
   },
   {
    "duration": 118,
    "start_time": "2022-09-20T12:36:54.458Z"
   },
   {
    "duration": 0,
    "start_time": "2022-09-20T12:36:54.580Z"
   },
   {
    "duration": 0,
    "start_time": "2022-09-20T12:36:54.581Z"
   },
   {
    "duration": 0,
    "start_time": "2022-09-20T12:36:54.582Z"
   },
   {
    "duration": 0,
    "start_time": "2022-09-20T12:36:54.584Z"
   },
   {
    "duration": 0,
    "start_time": "2022-09-20T12:36:54.585Z"
   },
   {
    "duration": 0,
    "start_time": "2022-09-20T12:36:54.586Z"
   },
   {
    "duration": 0,
    "start_time": "2022-09-20T12:36:54.587Z"
   },
   {
    "duration": 0,
    "start_time": "2022-09-20T12:36:54.589Z"
   },
   {
    "duration": 0,
    "start_time": "2022-09-20T12:36:54.590Z"
   },
   {
    "duration": 0,
    "start_time": "2022-09-20T12:36:54.591Z"
   },
   {
    "duration": 0,
    "start_time": "2022-09-20T12:36:54.592Z"
   },
   {
    "duration": 0,
    "start_time": "2022-09-20T12:36:54.594Z"
   },
   {
    "duration": 0,
    "start_time": "2022-09-20T12:36:54.596Z"
   },
   {
    "duration": 0,
    "start_time": "2022-09-20T12:36:54.597Z"
   },
   {
    "duration": 0,
    "start_time": "2022-09-20T12:36:54.624Z"
   },
   {
    "duration": 0,
    "start_time": "2022-09-20T12:36:54.625Z"
   },
   {
    "duration": 0,
    "start_time": "2022-09-20T12:36:54.626Z"
   },
   {
    "duration": 239,
    "start_time": "2022-09-20T12:36:54.630Z"
   },
   {
    "duration": 0,
    "start_time": "2022-09-20T12:36:54.870Z"
   },
   {
    "duration": 223,
    "start_time": "2022-09-20T12:36:54.985Z"
   },
   {
    "duration": 0,
    "start_time": "2022-09-20T12:36:55.210Z"
   },
   {
    "duration": 1254,
    "start_time": "2022-09-20T12:41:22.285Z"
   },
   {
    "duration": 71,
    "start_time": "2022-09-20T12:41:23.541Z"
   },
   {
    "duration": 25,
    "start_time": "2022-09-20T12:41:23.614Z"
   },
   {
    "duration": 34,
    "start_time": "2022-09-20T12:41:23.641Z"
   },
   {
    "duration": 5,
    "start_time": "2022-09-20T12:41:23.677Z"
   },
   {
    "duration": 16,
    "start_time": "2022-09-20T12:41:23.684Z"
   },
   {
    "duration": 37,
    "start_time": "2022-09-20T12:41:23.702Z"
   },
   {
    "duration": 39,
    "start_time": "2022-09-20T12:41:23.741Z"
   },
   {
    "duration": 16,
    "start_time": "2022-09-20T12:41:23.782Z"
   },
   {
    "duration": 14,
    "start_time": "2022-09-20T12:41:23.799Z"
   },
   {
    "duration": 6,
    "start_time": "2022-09-20T12:41:23.814Z"
   },
   {
    "duration": 26,
    "start_time": "2022-09-20T12:41:23.827Z"
   },
   {
    "duration": 477,
    "start_time": "2022-09-20T12:41:23.855Z"
   },
   {
    "duration": 5,
    "start_time": "2022-09-20T12:41:24.344Z"
   },
   {
    "duration": 44,
    "start_time": "2022-09-20T12:41:24.351Z"
   },
   {
    "duration": 19,
    "start_time": "2022-09-20T12:41:24.397Z"
   },
   {
    "duration": 34,
    "start_time": "2022-09-20T12:41:24.418Z"
   },
   {
    "duration": 32,
    "start_time": "2022-09-20T12:41:24.454Z"
   },
   {
    "duration": 23,
    "start_time": "2022-09-20T12:41:24.488Z"
   },
   {
    "duration": 13,
    "start_time": "2022-09-20T12:41:24.512Z"
   },
   {
    "duration": 32,
    "start_time": "2022-09-20T12:41:24.527Z"
   },
   {
    "duration": 14,
    "start_time": "2022-09-20T12:41:24.561Z"
   },
   {
    "duration": 30,
    "start_time": "2022-09-20T12:41:24.577Z"
   },
   {
    "duration": 32,
    "start_time": "2022-09-20T12:41:24.609Z"
   },
   {
    "duration": 21,
    "start_time": "2022-09-20T12:41:24.642Z"
   },
   {
    "duration": 44,
    "start_time": "2022-09-20T12:41:24.664Z"
   },
   {
    "duration": 174,
    "start_time": "2022-09-20T12:41:24.710Z"
   },
   {
    "duration": 550,
    "start_time": "2022-09-20T12:41:24.886Z"
   },
   {
    "duration": 752,
    "start_time": "2022-09-20T12:41:25.437Z"
   },
   {
    "duration": 410,
    "start_time": "2022-09-20T12:41:26.192Z"
   },
   {
    "duration": 156,
    "start_time": "2022-09-20T12:41:26.604Z"
   },
   {
    "duration": 454,
    "start_time": "2022-09-20T12:41:26.761Z"
   },
   {
    "duration": 584,
    "start_time": "2022-09-20T12:41:27.217Z"
   },
   {
    "duration": 263,
    "start_time": "2022-09-20T12:41:27.803Z"
   },
   {
    "duration": 192,
    "start_time": "2022-09-20T12:41:28.068Z"
   },
   {
    "duration": 170,
    "start_time": "2022-09-20T12:41:28.261Z"
   },
   {
    "duration": 10,
    "start_time": "2022-09-20T12:41:28.433Z"
   },
   {
    "duration": 13,
    "start_time": "2022-09-20T12:41:28.444Z"
   },
   {
    "duration": 191,
    "start_time": "2022-09-20T12:41:28.458Z"
   },
   {
    "duration": 201,
    "start_time": "2022-09-20T12:41:28.650Z"
   },
   {
    "duration": 17,
    "start_time": "2022-09-20T12:41:28.854Z"
   },
   {
    "duration": 21,
    "start_time": "2022-09-20T12:41:28.872Z"
   },
   {
    "duration": 40,
    "start_time": "2022-09-20T12:41:28.895Z"
   },
   {
    "duration": 164,
    "start_time": "2022-09-20T12:41:28.937Z"
   },
   {
    "duration": 282,
    "start_time": "2022-09-20T12:41:29.103Z"
   },
   {
    "duration": 161,
    "start_time": "2022-09-20T12:41:29.387Z"
   },
   {
    "duration": 13,
    "start_time": "2022-09-20T12:41:29.550Z"
   },
   {
    "duration": 40,
    "start_time": "2022-09-20T12:41:29.564Z"
   },
   {
    "duration": 27,
    "start_time": "2022-09-20T12:41:29.606Z"
   },
   {
    "duration": 24,
    "start_time": "2022-09-20T12:41:29.636Z"
   },
   {
    "duration": 25,
    "start_time": "2022-09-20T12:41:29.662Z"
   },
   {
    "duration": 19,
    "start_time": "2022-09-20T12:41:29.688Z"
   },
   {
    "duration": 409,
    "start_time": "2022-09-20T12:41:29.708Z"
   },
   {
    "duration": 23,
    "start_time": "2022-09-20T12:41:30.118Z"
   },
   {
    "duration": 31,
    "start_time": "2022-09-20T12:41:30.143Z"
   },
   {
    "duration": 38,
    "start_time": "2022-09-20T12:41:30.176Z"
   },
   {
    "duration": 32,
    "start_time": "2022-09-20T12:41:30.216Z"
   },
   {
    "duration": 377,
    "start_time": "2022-09-20T12:42:51.446Z"
   },
   {
    "duration": 376,
    "start_time": "2022-09-20T12:50:55.957Z"
   },
   {
    "duration": 195,
    "start_time": "2022-09-20T12:51:27.576Z"
   },
   {
    "duration": 295,
    "start_time": "2022-09-20T12:52:13.093Z"
   },
   {
    "duration": 1669,
    "start_time": "2022-09-20T12:53:02.999Z"
   },
   {
    "duration": 1624,
    "start_time": "2022-09-20T12:54:50.284Z"
   },
   {
    "duration": 2348,
    "start_time": "2022-09-20T12:57:19.980Z"
   },
   {
    "duration": 1725,
    "start_time": "2022-09-20T12:58:06.858Z"
   },
   {
    "duration": 1957,
    "start_time": "2022-09-20T12:59:39.988Z"
   },
   {
    "duration": 1775,
    "start_time": "2022-09-20T12:59:55.286Z"
   },
   {
    "duration": 1786,
    "start_time": "2022-09-20T13:00:18.204Z"
   },
   {
    "duration": 1892,
    "start_time": "2022-09-20T13:00:29.698Z"
   },
   {
    "duration": 2191,
    "start_time": "2022-09-20T13:01:22.239Z"
   },
   {
    "duration": 1558,
    "start_time": "2022-09-20T13:04:31.158Z"
   },
   {
    "duration": 6,
    "start_time": "2022-09-20T13:19:45.363Z"
   },
   {
    "duration": 6,
    "start_time": "2022-09-20T13:20:41.188Z"
   },
   {
    "duration": 12,
    "start_time": "2022-09-20T13:23:53.794Z"
   },
   {
    "duration": 7,
    "start_time": "2022-09-20T13:23:56.300Z"
   },
   {
    "duration": 746,
    "start_time": "2022-09-20T13:34:07.997Z"
   },
   {
    "duration": 208,
    "start_time": "2022-09-20T13:34:15.593Z"
   },
   {
    "duration": 1110,
    "start_time": "2022-09-20T13:58:38.868Z"
   },
   {
    "duration": 71,
    "start_time": "2022-09-20T13:58:39.980Z"
   },
   {
    "duration": 13,
    "start_time": "2022-09-20T13:58:40.052Z"
   },
   {
    "duration": 9,
    "start_time": "2022-09-20T13:58:40.067Z"
   },
   {
    "duration": 7,
    "start_time": "2022-09-20T13:58:40.078Z"
   },
   {
    "duration": 8,
    "start_time": "2022-09-20T13:58:40.086Z"
   },
   {
    "duration": 5,
    "start_time": "2022-09-20T13:58:40.095Z"
   },
   {
    "duration": 17,
    "start_time": "2022-09-20T13:58:40.121Z"
   },
   {
    "duration": 14,
    "start_time": "2022-09-20T13:58:40.140Z"
   },
   {
    "duration": 4,
    "start_time": "2022-09-20T13:58:40.156Z"
   },
   {
    "duration": 5,
    "start_time": "2022-09-20T13:58:40.161Z"
   },
   {
    "duration": 13,
    "start_time": "2022-09-20T13:58:40.168Z"
   },
   {
    "duration": 432,
    "start_time": "2022-09-20T13:58:40.182Z"
   },
   {
    "duration": 7,
    "start_time": "2022-09-20T13:58:40.617Z"
   },
   {
    "duration": 39,
    "start_time": "2022-09-20T13:58:40.626Z"
   },
   {
    "duration": 17,
    "start_time": "2022-09-20T13:58:40.666Z"
   },
   {
    "duration": 4,
    "start_time": "2022-09-20T13:58:40.685Z"
   },
   {
    "duration": 14,
    "start_time": "2022-09-20T13:58:40.690Z"
   },
   {
    "duration": 32,
    "start_time": "2022-09-20T13:58:40.706Z"
   },
   {
    "duration": 3,
    "start_time": "2022-09-20T13:58:40.740Z"
   },
   {
    "duration": 15,
    "start_time": "2022-09-20T13:58:40.745Z"
   },
   {
    "duration": 7,
    "start_time": "2022-09-20T13:58:40.762Z"
   },
   {
    "duration": 2,
    "start_time": "2022-09-20T13:58:40.771Z"
   },
   {
    "duration": 21,
    "start_time": "2022-09-20T13:58:40.774Z"
   },
   {
    "duration": 25,
    "start_time": "2022-09-20T13:58:40.797Z"
   },
   {
    "duration": 25,
    "start_time": "2022-09-20T13:58:40.828Z"
   },
   {
    "duration": 189,
    "start_time": "2022-09-20T13:58:40.854Z"
   },
   {
    "duration": 570,
    "start_time": "2022-09-20T13:58:41.044Z"
   },
   {
    "duration": 755,
    "start_time": "2022-09-20T13:58:41.623Z"
   },
   {
    "duration": 413,
    "start_time": "2022-09-20T13:58:42.380Z"
   },
   {
    "duration": 167,
    "start_time": "2022-09-20T13:58:42.794Z"
   },
   {
    "duration": 500,
    "start_time": "2022-09-20T13:58:42.963Z"
   },
   {
    "duration": 604,
    "start_time": "2022-09-20T13:58:43.465Z"
   },
   {
    "duration": 228,
    "start_time": "2022-09-20T13:58:44.071Z"
   },
   {
    "duration": 195,
    "start_time": "2022-09-20T13:58:44.301Z"
   },
   {
    "duration": 194,
    "start_time": "2022-09-20T13:58:44.498Z"
   },
   {
    "duration": 9,
    "start_time": "2022-09-20T13:58:44.693Z"
   },
   {
    "duration": 38,
    "start_time": "2022-09-20T13:58:44.703Z"
   },
   {
    "duration": 1698,
    "start_time": "2022-09-20T13:58:44.743Z"
   },
   {
    "duration": 170,
    "start_time": "2022-09-20T13:58:46.443Z"
   },
   {
    "duration": 178,
    "start_time": "2022-09-20T13:58:46.623Z"
   },
   {
    "duration": 27,
    "start_time": "2022-09-20T13:58:46.803Z"
   },
   {
    "duration": 16,
    "start_time": "2022-09-20T13:58:46.832Z"
   },
   {
    "duration": 15,
    "start_time": "2022-09-20T13:58:46.849Z"
   },
   {
    "duration": 192,
    "start_time": "2022-09-20T13:58:46.865Z"
   },
   {
    "duration": 178,
    "start_time": "2022-09-20T13:58:47.059Z"
   },
   {
    "duration": 189,
    "start_time": "2022-09-20T13:58:47.238Z"
   },
   {
    "duration": 14,
    "start_time": "2022-09-20T13:58:47.429Z"
   },
   {
    "duration": 18,
    "start_time": "2022-09-20T13:58:47.444Z"
   },
   {
    "duration": 26,
    "start_time": "2022-09-20T13:58:47.464Z"
   },
   {
    "duration": 32,
    "start_time": "2022-09-20T13:58:47.492Z"
   },
   {
    "duration": 13,
    "start_time": "2022-09-20T13:58:47.526Z"
   },
   {
    "duration": 15,
    "start_time": "2022-09-20T13:58:47.541Z"
   },
   {
    "duration": 370,
    "start_time": "2022-09-20T13:58:47.558Z"
   },
   {
    "duration": 8,
    "start_time": "2022-09-20T13:58:47.930Z"
   },
   {
    "duration": 7,
    "start_time": "2022-09-20T13:58:47.940Z"
   },
   {
    "duration": 14,
    "start_time": "2022-09-20T13:58:47.949Z"
   },
   {
    "duration": 5,
    "start_time": "2022-09-20T13:58:47.965Z"
   },
   {
    "duration": 1184,
    "start_time": "2022-09-20T14:02:06.980Z"
   },
   {
    "duration": 71,
    "start_time": "2022-09-20T14:02:08.167Z"
   },
   {
    "duration": 12,
    "start_time": "2022-09-20T14:02:08.241Z"
   },
   {
    "duration": 10,
    "start_time": "2022-09-20T14:02:08.256Z"
   },
   {
    "duration": 4,
    "start_time": "2022-09-20T14:02:08.269Z"
   },
   {
    "duration": 7,
    "start_time": "2022-09-20T14:02:08.275Z"
   },
   {
    "duration": 7,
    "start_time": "2022-09-20T14:02:08.283Z"
   },
   {
    "duration": 44,
    "start_time": "2022-09-20T14:02:08.292Z"
   },
   {
    "duration": 10,
    "start_time": "2022-09-20T14:02:08.337Z"
   },
   {
    "duration": 6,
    "start_time": "2022-09-20T14:02:08.348Z"
   },
   {
    "duration": 6,
    "start_time": "2022-09-20T14:02:08.355Z"
   },
   {
    "duration": 10,
    "start_time": "2022-09-20T14:02:08.362Z"
   },
   {
    "duration": 444,
    "start_time": "2022-09-20T14:02:08.374Z"
   },
   {
    "duration": 11,
    "start_time": "2022-09-20T14:02:08.821Z"
   },
   {
    "duration": 30,
    "start_time": "2022-09-20T14:02:08.836Z"
   },
   {
    "duration": 15,
    "start_time": "2022-09-20T14:02:08.867Z"
   },
   {
    "duration": 4,
    "start_time": "2022-09-20T14:02:08.884Z"
   },
   {
    "duration": 36,
    "start_time": "2022-09-20T14:02:08.890Z"
   },
   {
    "duration": 22,
    "start_time": "2022-09-20T14:02:08.930Z"
   },
   {
    "duration": 3,
    "start_time": "2022-09-20T14:02:08.954Z"
   },
   {
    "duration": 10,
    "start_time": "2022-09-20T14:02:08.959Z"
   },
   {
    "duration": 6,
    "start_time": "2022-09-20T14:02:08.971Z"
   },
   {
    "duration": 4,
    "start_time": "2022-09-20T14:02:08.979Z"
   },
   {
    "duration": 38,
    "start_time": "2022-09-20T14:02:08.984Z"
   },
   {
    "duration": 11,
    "start_time": "2022-09-20T14:02:09.024Z"
   },
   {
    "duration": 29,
    "start_time": "2022-09-20T14:02:09.040Z"
   },
   {
    "duration": 211,
    "start_time": "2022-09-20T14:02:09.070Z"
   },
   {
    "duration": 565,
    "start_time": "2022-09-20T14:02:09.283Z"
   },
   {
    "duration": 739,
    "start_time": "2022-09-20T14:02:09.850Z"
   },
   {
    "duration": 461,
    "start_time": "2022-09-20T14:02:10.591Z"
   },
   {
    "duration": 183,
    "start_time": "2022-09-20T14:02:11.055Z"
   },
   {
    "duration": 499,
    "start_time": "2022-09-20T14:02:11.241Z"
   },
   {
    "duration": 630,
    "start_time": "2022-09-20T14:02:11.741Z"
   },
   {
    "duration": 392,
    "start_time": "2022-09-20T14:02:12.373Z"
   },
   {
    "duration": 393,
    "start_time": "2022-09-20T14:02:12.767Z"
   },
   {
    "duration": 383,
    "start_time": "2022-09-20T14:02:13.162Z"
   },
   {
    "duration": 10,
    "start_time": "2022-09-20T14:02:13.546Z"
   },
   {
    "duration": 7,
    "start_time": "2022-09-20T14:02:13.557Z"
   },
   {
    "duration": 2025,
    "start_time": "2022-09-20T14:02:13.566Z"
   },
   {
    "duration": 176,
    "start_time": "2022-09-20T14:02:15.593Z"
   },
   {
    "duration": 181,
    "start_time": "2022-09-20T14:02:15.773Z"
   },
   {
    "duration": 16,
    "start_time": "2022-09-20T14:02:15.956Z"
   },
   {
    "duration": 41,
    "start_time": "2022-09-20T14:02:15.973Z"
   },
   {
    "duration": 24,
    "start_time": "2022-09-20T14:02:16.016Z"
   },
   {
    "duration": 204,
    "start_time": "2022-09-20T14:02:16.042Z"
   },
   {
    "duration": 162,
    "start_time": "2022-09-20T14:02:16.248Z"
   },
   {
    "duration": 161,
    "start_time": "2022-09-20T14:02:16.411Z"
   },
   {
    "duration": 13,
    "start_time": "2022-09-20T14:02:16.574Z"
   },
   {
    "duration": 13,
    "start_time": "2022-09-20T14:02:16.588Z"
   },
   {
    "duration": 16,
    "start_time": "2022-09-20T14:02:16.621Z"
   },
   {
    "duration": 14,
    "start_time": "2022-09-20T14:02:16.639Z"
   },
   {
    "duration": 15,
    "start_time": "2022-09-20T14:02:16.655Z"
   },
   {
    "duration": 17,
    "start_time": "2022-09-20T14:02:16.672Z"
   },
   {
    "duration": 369,
    "start_time": "2022-09-20T14:02:16.691Z"
   },
   {
    "duration": 11,
    "start_time": "2022-09-20T14:02:17.061Z"
   },
   {
    "duration": 10,
    "start_time": "2022-09-20T14:02:17.074Z"
   },
   {
    "duration": 13,
    "start_time": "2022-09-20T14:02:17.086Z"
   },
   {
    "duration": 28,
    "start_time": "2022-09-20T14:02:17.100Z"
   },
   {
    "duration": 47,
    "start_time": "2022-09-21T11:57:24.893Z"
   },
   {
    "duration": 1321,
    "start_time": "2022-09-21T11:57:30.278Z"
   },
   {
    "duration": 110,
    "start_time": "2022-09-21T11:57:31.602Z"
   },
   {
    "duration": 15,
    "start_time": "2022-09-21T11:57:31.714Z"
   },
   {
    "duration": 9,
    "start_time": "2022-09-21T11:57:31.731Z"
   },
   {
    "duration": 10,
    "start_time": "2022-09-21T11:57:31.741Z"
   },
   {
    "duration": 8,
    "start_time": "2022-09-21T11:57:31.753Z"
   },
   {
    "duration": 5,
    "start_time": "2022-09-21T11:57:31.763Z"
   },
   {
    "duration": 17,
    "start_time": "2022-09-21T11:57:31.770Z"
   },
   {
    "duration": 11,
    "start_time": "2022-09-21T11:57:31.789Z"
   },
   {
    "duration": 3,
    "start_time": "2022-09-21T11:57:31.803Z"
   },
   {
    "duration": 9,
    "start_time": "2022-09-21T11:57:31.807Z"
   },
   {
    "duration": 5,
    "start_time": "2022-09-21T11:57:31.833Z"
   },
   {
    "duration": 443,
    "start_time": "2022-09-21T11:57:31.839Z"
   },
   {
    "duration": 4,
    "start_time": "2022-09-21T11:57:32.284Z"
   },
   {
    "duration": 26,
    "start_time": "2022-09-21T11:57:32.290Z"
   },
   {
    "duration": 26,
    "start_time": "2022-09-21T11:57:32.318Z"
   },
   {
    "duration": 4,
    "start_time": "2022-09-21T11:57:32.346Z"
   },
   {
    "duration": 28,
    "start_time": "2022-09-21T11:57:32.352Z"
   },
   {
    "duration": 19,
    "start_time": "2022-09-21T11:57:32.381Z"
   },
   {
    "duration": 14,
    "start_time": "2022-09-21T11:57:32.401Z"
   },
   {
    "duration": 38,
    "start_time": "2022-09-21T11:57:32.416Z"
   },
   {
    "duration": 24,
    "start_time": "2022-09-21T11:57:32.456Z"
   },
   {
    "duration": 52,
    "start_time": "2022-09-21T11:57:32.482Z"
   },
   {
    "duration": 20,
    "start_time": "2022-09-21T11:57:32.536Z"
   },
   {
    "duration": 16,
    "start_time": "2022-09-21T11:57:32.558Z"
   },
   {
    "duration": 9,
    "start_time": "2022-09-21T11:57:32.576Z"
   },
   {
    "duration": 48,
    "start_time": "2022-09-21T11:57:32.587Z"
   },
   {
    "duration": 166,
    "start_time": "2022-09-21T11:57:32.638Z"
   },
   {
    "duration": 502,
    "start_time": "2022-09-21T11:57:32.806Z"
   },
   {
    "duration": 752,
    "start_time": "2022-09-21T11:57:33.309Z"
   },
   {
    "duration": 385,
    "start_time": "2022-09-21T11:57:34.063Z"
   },
   {
    "duration": 148,
    "start_time": "2022-09-21T11:57:34.450Z"
   },
   {
    "duration": 460,
    "start_time": "2022-09-21T11:57:34.600Z"
   },
   {
    "duration": 544,
    "start_time": "2022-09-21T11:57:35.061Z"
   },
   {
    "duration": 209,
    "start_time": "2022-09-21T11:57:35.606Z"
   },
   {
    "duration": 169,
    "start_time": "2022-09-21T11:57:35.817Z"
   },
   {
    "duration": 186,
    "start_time": "2022-09-21T11:57:35.987Z"
   },
   {
    "duration": 8,
    "start_time": "2022-09-21T11:57:36.174Z"
   },
   {
    "duration": 10,
    "start_time": "2022-09-21T11:57:36.184Z"
   },
   {
    "duration": 1800,
    "start_time": "2022-09-21T11:57:36.196Z"
   },
   {
    "duration": 211,
    "start_time": "2022-09-21T11:57:37.998Z"
   },
   {
    "duration": 210,
    "start_time": "2022-09-21T11:57:38.211Z"
   },
   {
    "duration": 23,
    "start_time": "2022-09-21T11:57:38.423Z"
   },
   {
    "duration": 16,
    "start_time": "2022-09-21T11:57:38.448Z"
   },
   {
    "duration": 16,
    "start_time": "2022-09-21T11:57:38.466Z"
   },
   {
    "duration": 184,
    "start_time": "2022-09-21T11:57:38.484Z"
   },
   {
    "duration": 187,
    "start_time": "2022-09-21T11:57:38.670Z"
   },
   {
    "duration": 172,
    "start_time": "2022-09-21T11:57:38.858Z"
   },
   {
    "duration": 14,
    "start_time": "2022-09-21T11:57:39.033Z"
   },
   {
    "duration": 11,
    "start_time": "2022-09-21T11:57:39.048Z"
   },
   {
    "duration": 16,
    "start_time": "2022-09-21T11:57:39.061Z"
   },
   {
    "duration": 15,
    "start_time": "2022-09-21T11:57:39.078Z"
   },
   {
    "duration": 47,
    "start_time": "2022-09-21T11:57:39.094Z"
   },
   {
    "duration": 12,
    "start_time": "2022-09-21T11:57:39.143Z"
   },
   {
    "duration": 358,
    "start_time": "2022-09-21T11:57:39.157Z"
   },
   {
    "duration": 18,
    "start_time": "2022-09-21T11:57:39.516Z"
   },
   {
    "duration": 8,
    "start_time": "2022-09-21T11:57:39.536Z"
   },
   {
    "duration": 15,
    "start_time": "2022-09-21T11:57:39.545Z"
   },
   {
    "duration": 9,
    "start_time": "2022-09-21T11:57:39.561Z"
   },
   {
    "duration": 168,
    "start_time": "2022-09-21T12:00:19.166Z"
   },
   {
    "duration": 1180,
    "start_time": "2022-09-21T12:12:35.309Z"
   },
   {
    "duration": 68,
    "start_time": "2022-09-21T12:12:36.491Z"
   },
   {
    "duration": 13,
    "start_time": "2022-09-21T12:12:36.560Z"
   },
   {
    "duration": 9,
    "start_time": "2022-09-21T12:12:36.576Z"
   },
   {
    "duration": 8,
    "start_time": "2022-09-21T12:12:36.586Z"
   },
   {
    "duration": 13,
    "start_time": "2022-09-21T12:12:36.596Z"
   },
   {
    "duration": 12,
    "start_time": "2022-09-21T12:12:36.611Z"
   },
   {
    "duration": 21,
    "start_time": "2022-09-21T12:12:36.624Z"
   },
   {
    "duration": 12,
    "start_time": "2022-09-21T12:12:36.646Z"
   },
   {
    "duration": 2,
    "start_time": "2022-09-21T12:12:36.661Z"
   },
   {
    "duration": 4,
    "start_time": "2022-09-21T12:12:36.665Z"
   },
   {
    "duration": 7,
    "start_time": "2022-09-21T12:12:36.670Z"
   },
   {
    "duration": 467,
    "start_time": "2022-09-21T12:12:36.678Z"
   },
   {
    "duration": 5,
    "start_time": "2022-09-21T12:12:37.146Z"
   },
   {
    "duration": 20,
    "start_time": "2022-09-21T12:12:37.152Z"
   },
   {
    "duration": 15,
    "start_time": "2022-09-21T12:12:37.173Z"
   },
   {
    "duration": 4,
    "start_time": "2022-09-21T12:12:37.190Z"
   },
   {
    "duration": 9,
    "start_time": "2022-09-21T12:12:37.195Z"
   },
   {
    "duration": 35,
    "start_time": "2022-09-21T12:12:37.206Z"
   },
   {
    "duration": 4,
    "start_time": "2022-09-21T12:12:37.243Z"
   },
   {
    "duration": 12,
    "start_time": "2022-09-21T12:12:37.248Z"
   },
   {
    "duration": 33,
    "start_time": "2022-09-21T12:12:37.261Z"
   },
   {
    "duration": 5,
    "start_time": "2022-09-21T12:12:37.295Z"
   },
   {
    "duration": 10,
    "start_time": "2022-09-21T12:12:37.301Z"
   },
   {
    "duration": 6,
    "start_time": "2022-09-21T12:12:37.312Z"
   },
   {
    "duration": 14,
    "start_time": "2022-09-21T12:12:37.320Z"
   },
   {
    "duration": 23,
    "start_time": "2022-09-21T12:12:37.335Z"
   },
   {
    "duration": 155,
    "start_time": "2022-09-21T12:12:37.362Z"
   },
   {
    "duration": 497,
    "start_time": "2022-09-21T12:12:37.518Z"
   },
   {
    "duration": 712,
    "start_time": "2022-09-21T12:12:38.016Z"
   },
   {
    "duration": 394,
    "start_time": "2022-09-21T12:12:38.729Z"
   },
   {
    "duration": 145,
    "start_time": "2022-09-21T12:12:39.132Z"
   },
   {
    "duration": 433,
    "start_time": "2022-09-21T12:12:39.279Z"
   },
   {
    "duration": 564,
    "start_time": "2022-09-21T12:12:39.715Z"
   },
   {
    "duration": 211,
    "start_time": "2022-09-21T12:12:40.281Z"
   },
   {
    "duration": 168,
    "start_time": "2022-09-21T12:12:40.493Z"
   },
   {
    "duration": 164,
    "start_time": "2022-09-21T12:12:40.663Z"
   },
   {
    "duration": 9,
    "start_time": "2022-09-21T12:12:40.829Z"
   },
   {
    "duration": 8,
    "start_time": "2022-09-21T12:12:40.840Z"
   },
   {
    "duration": 1686,
    "start_time": "2022-09-21T12:12:40.850Z"
   },
   {
    "duration": 170,
    "start_time": "2022-09-21T12:12:42.537Z"
   },
   {
    "duration": 193,
    "start_time": "2022-09-21T12:12:42.709Z"
   },
   {
    "duration": 17,
    "start_time": "2022-09-21T12:12:42.904Z"
   },
   {
    "duration": 17,
    "start_time": "2022-09-21T12:12:42.934Z"
   },
   {
    "duration": 17,
    "start_time": "2022-09-21T12:12:42.953Z"
   },
   {
    "duration": 181,
    "start_time": "2022-09-21T12:12:42.972Z"
   },
   {
    "duration": 159,
    "start_time": "2022-09-21T12:12:43.155Z"
   },
   {
    "duration": 164,
    "start_time": "2022-09-21T12:12:43.316Z"
   },
   {
    "duration": 15,
    "start_time": "2022-09-21T12:12:43.482Z"
   },
   {
    "duration": 35,
    "start_time": "2022-09-21T12:12:43.498Z"
   },
   {
    "duration": 13,
    "start_time": "2022-09-21T12:12:43.535Z"
   },
   {
    "duration": 13,
    "start_time": "2022-09-21T12:12:43.549Z"
   },
   {
    "duration": 13,
    "start_time": "2022-09-21T12:12:43.564Z"
   },
   {
    "duration": 14,
    "start_time": "2022-09-21T12:12:43.579Z"
   },
   {
    "duration": 360,
    "start_time": "2022-09-21T12:12:43.595Z"
   },
   {
    "duration": 8,
    "start_time": "2022-09-21T12:12:43.957Z"
   },
   {
    "duration": 14,
    "start_time": "2022-09-21T12:12:43.967Z"
   },
   {
    "duration": 24,
    "start_time": "2022-09-21T12:12:43.982Z"
   },
   {
    "duration": 18,
    "start_time": "2022-09-21T12:12:44.008Z"
   }
  ],
  "kernelspec": {
   "display_name": "Python 3 (ipykernel)",
   "language": "python",
   "name": "python3"
  },
  "language_info": {
   "codemirror_mode": {
    "name": "ipython",
    "version": 3
   },
   "file_extension": ".py",
   "mimetype": "text/x-python",
   "name": "python",
   "nbconvert_exporter": "python",
   "pygments_lexer": "ipython3",
   "version": "3.9.12"
  },
  "toc": {
   "base_numbering": 1,
   "nav_menu": {},
   "number_sections": true,
   "sideBar": true,
   "skip_h1_title": true,
   "title_cell": "Table of Contents",
   "title_sidebar": "Contents",
   "toc_cell": false,
   "toc_position": {},
   "toc_section_display": true,
   "toc_window_display": false
  }
 },
 "nbformat": 4,
 "nbformat_minor": 2
}
