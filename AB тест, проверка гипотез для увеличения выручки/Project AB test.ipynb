{
 "cells": [
  {
   "cell_type": "markdown",
   "metadata": {},
   "source": [
    "**Приоритизация гипотез и A/B тест**\n"
   ]
  },
  {
   "cell_type": "markdown",
   "metadata": {},
   "source": [
    "Я — аналитик крупного интернет-магазина. Вместе с отделом маркетинга мы подготовили список гипотез для увеличения выручки.\n",
    "В данной работе необходимо: \n",
    "\n",
    "1)приоритизировать гипотезы; \n",
    "    \n",
    "2)запустить A/B-тест; \n",
    "\n",
    "3)проанализировать результаты."
   ]
  },
  {
   "cell_type": "code",
   "execution_count": 1,
   "metadata": {},
   "outputs": [],
   "source": [
    "import pandas as pd\n",
    "import numpy as np\n",
    "import matplotlib.pyplot as plt\n",
    "import scipy.stats as stats"
   ]
  },
  {
   "cell_type": "markdown",
   "metadata": {},
   "source": [
    "Часть 1. Приоритизация гипотез."
   ]
  },
  {
   "cell_type": "code",
   "execution_count": 2,
   "metadata": {},
   "outputs": [
    {
     "data": {
      "text/html": [
       "<div>\n",
       "<style scoped>\n",
       "    .dataframe tbody tr th:only-of-type {\n",
       "        vertical-align: middle;\n",
       "    }\n",
       "\n",
       "    .dataframe tbody tr th {\n",
       "        vertical-align: top;\n",
       "    }\n",
       "\n",
       "    .dataframe thead th {\n",
       "        text-align: right;\n",
       "    }\n",
       "</style>\n",
       "<table border=\"1\" class=\"dataframe\">\n",
       "  <thead>\n",
       "    <tr style=\"text-align: right;\">\n",
       "      <th></th>\n",
       "      <th>hypothesis</th>\n",
       "      <th>reach</th>\n",
       "      <th>impact</th>\n",
       "      <th>confidence</th>\n",
       "      <th>efforts</th>\n",
       "    </tr>\n",
       "  </thead>\n",
       "  <tbody>\n",
       "    <tr>\n",
       "      <th>0</th>\n",
       "      <td>Добавить два новых канала привлечения трафика,...</td>\n",
       "      <td>3</td>\n",
       "      <td>10</td>\n",
       "      <td>8</td>\n",
       "      <td>6</td>\n",
       "    </tr>\n",
       "    <tr>\n",
       "      <th>1</th>\n",
       "      <td>Запустить собственную службу доставки, что сок...</td>\n",
       "      <td>2</td>\n",
       "      <td>5</td>\n",
       "      <td>4</td>\n",
       "      <td>10</td>\n",
       "    </tr>\n",
       "    <tr>\n",
       "      <th>2</th>\n",
       "      <td>Добавить блоки рекомендаций товаров на сайт ин...</td>\n",
       "      <td>8</td>\n",
       "      <td>3</td>\n",
       "      <td>7</td>\n",
       "      <td>3</td>\n",
       "    </tr>\n",
       "    <tr>\n",
       "      <th>3</th>\n",
       "      <td>Изменить структура категорий, что увеличит кон...</td>\n",
       "      <td>8</td>\n",
       "      <td>3</td>\n",
       "      <td>3</td>\n",
       "      <td>8</td>\n",
       "    </tr>\n",
       "    <tr>\n",
       "      <th>4</th>\n",
       "      <td>Изменить цвет фона главной страницы, чтобы уве...</td>\n",
       "      <td>3</td>\n",
       "      <td>1</td>\n",
       "      <td>1</td>\n",
       "      <td>1</td>\n",
       "    </tr>\n",
       "    <tr>\n",
       "      <th>5</th>\n",
       "      <td>Добавить страницу отзывов клиентов о магазине,...</td>\n",
       "      <td>3</td>\n",
       "      <td>2</td>\n",
       "      <td>2</td>\n",
       "      <td>3</td>\n",
       "    </tr>\n",
       "    <tr>\n",
       "      <th>6</th>\n",
       "      <td>Показать на главной странице баннеры с актуаль...</td>\n",
       "      <td>5</td>\n",
       "      <td>3</td>\n",
       "      <td>8</td>\n",
       "      <td>3</td>\n",
       "    </tr>\n",
       "    <tr>\n",
       "      <th>7</th>\n",
       "      <td>Добавить форму подписки на все основные страни...</td>\n",
       "      <td>10</td>\n",
       "      <td>7</td>\n",
       "      <td>8</td>\n",
       "      <td>5</td>\n",
       "    </tr>\n",
       "    <tr>\n",
       "      <th>8</th>\n",
       "      <td>Запустить акцию, дающую скидку на товар в день...</td>\n",
       "      <td>1</td>\n",
       "      <td>9</td>\n",
       "      <td>9</td>\n",
       "      <td>5</td>\n",
       "    </tr>\n",
       "  </tbody>\n",
       "</table>\n",
       "</div>"
      ],
      "text/plain": [
       "                                          hypothesis  reach  impact  \\\n",
       "0  Добавить два новых канала привлечения трафика,...      3      10   \n",
       "1  Запустить собственную службу доставки, что сок...      2       5   \n",
       "2  Добавить блоки рекомендаций товаров на сайт ин...      8       3   \n",
       "3  Изменить структура категорий, что увеличит кон...      8       3   \n",
       "4  Изменить цвет фона главной страницы, чтобы уве...      3       1   \n",
       "5  Добавить страницу отзывов клиентов о магазине,...      3       2   \n",
       "6  Показать на главной странице баннеры с актуаль...      5       3   \n",
       "7  Добавить форму подписки на все основные страни...     10       7   \n",
       "8  Запустить акцию, дающую скидку на товар в день...      1       9   \n",
       "\n",
       "   confidence  efforts  \n",
       "0           8        6  \n",
       "1           4       10  \n",
       "2           7        3  \n",
       "3           3        8  \n",
       "4           1        1  \n",
       "5           2        3  \n",
       "6           8        3  \n",
       "7           8        5  \n",
       "8           9        5  "
      ]
     },
     "execution_count": 2,
     "metadata": {},
     "output_type": "execute_result"
    }
   ],
   "source": [
    "hypothesis = pd.read_csv('/datasets/hypothesis.csv')\n",
    "hypothesis.columns = hypothesis.columns.str.lower()\n",
    "hypothesis"
   ]
  },
  {
   "cell_type": "markdown",
   "metadata": {},
   "source": [
    "В файле находятся 9 гипотез по увеличению выручки интернет-магазина с параметрами Reach, Impact, Confidence, Efforts. Для приоритизации используем ICE и RICE."
   ]
  },
  {
   "cell_type": "code",
   "execution_count": 3,
   "metadata": {},
   "outputs": [
    {
     "name": "stdout",
     "output_type": "stream",
     "text": [
      "                                          hypothesis    ICE\n",
      "8  Запустить акцию, дающую скидку на товар в день...  16.20\n",
      "0  Добавить два новых канала привлечения трафика,...  13.33\n",
      "7  Добавить форму подписки на все основные страни...  11.20\n",
      "6  Показать на главной странице баннеры с актуаль...   8.00\n",
      "2  Добавить блоки рекомендаций товаров на сайт ин...   7.00\n",
      "1  Запустить собственную службу доставки, что сок...   2.00\n",
      "5  Добавить страницу отзывов клиентов о магазине,...   1.33\n",
      "3  Изменить структура категорий, что увеличит кон...   1.12\n",
      "4  Изменить цвет фона главной страницы, чтобы уве...   1.00\n"
     ]
    }
   ],
   "source": [
    "hypothesis['ICE'] = (hypothesis['impact']*hypothesis['confidence'])/hypothesis['efforts']\n",
    "\n",
    "print((hypothesis[['hypothesis', 'ICE']].sort_values(by='ICE', ascending=False)).round(2))"
   ]
  },
  {
   "cell_type": "code",
   "execution_count": 4,
   "metadata": {},
   "outputs": [
    {
     "name": "stdout",
     "output_type": "stream",
     "text": [
      "                                          hypothesis   RICE\n",
      "7  Добавить форму подписки на все основные страни...  112.0\n",
      "2  Добавить блоки рекомендаций товаров на сайт ин...   56.0\n",
      "0  Добавить два новых канала привлечения трафика,...   40.0\n",
      "6  Показать на главной странице баннеры с актуаль...   40.0\n",
      "8  Запустить акцию, дающую скидку на товар в день...   16.2\n",
      "3  Изменить структура категорий, что увеличит кон...    9.0\n",
      "1  Запустить собственную службу доставки, что сок...    4.0\n",
      "5  Добавить страницу отзывов клиентов о магазине,...    4.0\n",
      "4  Изменить цвет фона главной страницы, чтобы уве...    3.0\n"
     ]
    }
   ],
   "source": [
    "hypothesis['RICE'] = (hypothesis['reach']*hypothesis['impact']*hypothesis['confidence'])/hypothesis['efforts']\n",
    "\n",
    "print(hypothesis[['hypothesis', 'RICE']].sort_values(by='RICE', ascending=False))"
   ]
  },
  {
   "cell_type": "markdown",
   "metadata": {},
   "source": [
    "Вывод: При применении ICE наиболее перспективные гипотезы 8, 0, 7 и 6, а RICE показывает гипотезы 7,2,0 и 6. Скорее всего, это произошло из-за более широкого охвата у гипотезы 7, а значит будет воздействие на большее количество пользователей. Поэтому надо предложить для тестирования гипотезу 7 и возможно гипотезу 2."
   ]
  },
  {
   "cell_type": "markdown",
   "metadata": {},
   "source": [
    "Часть 2. Анализ A/B-теста"
   ]
  },
  {
   "cell_type": "code",
   "execution_count": 5,
   "metadata": {},
   "outputs": [
    {
     "data": {
      "text/html": [
       "<div>\n",
       "<style scoped>\n",
       "    .dataframe tbody tr th:only-of-type {\n",
       "        vertical-align: middle;\n",
       "    }\n",
       "\n",
       "    .dataframe tbody tr th {\n",
       "        vertical-align: top;\n",
       "    }\n",
       "\n",
       "    .dataframe thead th {\n",
       "        text-align: right;\n",
       "    }\n",
       "</style>\n",
       "<table border=\"1\" class=\"dataframe\">\n",
       "  <thead>\n",
       "    <tr style=\"text-align: right;\">\n",
       "      <th></th>\n",
       "      <th>transactionid</th>\n",
       "      <th>visitorid</th>\n",
       "      <th>date</th>\n",
       "      <th>revenue</th>\n",
       "      <th>group</th>\n",
       "    </tr>\n",
       "  </thead>\n",
       "  <tbody>\n",
       "    <tr>\n",
       "      <th>0</th>\n",
       "      <td>3667963787</td>\n",
       "      <td>3312258926</td>\n",
       "      <td>2019-08-15</td>\n",
       "      <td>1650</td>\n",
       "      <td>B</td>\n",
       "    </tr>\n",
       "    <tr>\n",
       "      <th>1</th>\n",
       "      <td>2804400009</td>\n",
       "      <td>3642806036</td>\n",
       "      <td>2019-08-15</td>\n",
       "      <td>730</td>\n",
       "      <td>B</td>\n",
       "    </tr>\n",
       "    <tr>\n",
       "      <th>2</th>\n",
       "      <td>2961555356</td>\n",
       "      <td>4069496402</td>\n",
       "      <td>2019-08-15</td>\n",
       "      <td>400</td>\n",
       "      <td>A</td>\n",
       "    </tr>\n",
       "  </tbody>\n",
       "</table>\n",
       "</div>"
      ],
      "text/plain": [
       "   transactionid   visitorid        date  revenue group\n",
       "0     3667963787  3312258926  2019-08-15     1650     B\n",
       "1     2804400009  3642806036  2019-08-15      730     B\n",
       "2     2961555356  4069496402  2019-08-15      400     A"
      ]
     },
     "metadata": {},
     "output_type": "display_data"
    },
    {
     "name": "stdout",
     "output_type": "stream",
     "text": [
      "<class 'pandas.core.frame.DataFrame'>\n",
      "RangeIndex: 1197 entries, 0 to 1196\n",
      "Data columns (total 5 columns):\n",
      " #   Column         Non-Null Count  Dtype \n",
      "---  ------         --------------  ----- \n",
      " 0   transactionid  1197 non-null   int64 \n",
      " 1   visitorid      1197 non-null   int64 \n",
      " 2   date           1197 non-null   object\n",
      " 3   revenue        1197 non-null   int64 \n",
      " 4   group          1197 non-null   object\n",
      "dtypes: int64(3), object(2)\n",
      "memory usage: 46.9+ KB\n"
     ]
    },
    {
     "data": {
      "text/plain": [
       "None"
      ]
     },
     "metadata": {},
     "output_type": "display_data"
    }
   ],
   "source": [
    "orders = pd.read_csv('/datasets/orders.csv')\n",
    "orders.columns = orders.columns.str.lower()\n",
    "display(orders.head(3))\n",
    "display(orders.info())"
   ]
  },
  {
   "cell_type": "code",
   "execution_count": 6,
   "metadata": {
    "scrolled": true
   },
   "outputs": [
    {
     "data": {
      "text/html": [
       "<div>\n",
       "<style scoped>\n",
       "    .dataframe tbody tr th:only-of-type {\n",
       "        vertical-align: middle;\n",
       "    }\n",
       "\n",
       "    .dataframe tbody tr th {\n",
       "        vertical-align: top;\n",
       "    }\n",
       "\n",
       "    .dataframe thead th {\n",
       "        text-align: right;\n",
       "    }\n",
       "</style>\n",
       "<table border=\"1\" class=\"dataframe\">\n",
       "  <thead>\n",
       "    <tr style=\"text-align: right;\">\n",
       "      <th></th>\n",
       "      <th>date</th>\n",
       "      <th>group</th>\n",
       "      <th>visitors</th>\n",
       "    </tr>\n",
       "  </thead>\n",
       "  <tbody>\n",
       "    <tr>\n",
       "      <th>0</th>\n",
       "      <td>2019-08-01</td>\n",
       "      <td>A</td>\n",
       "      <td>719</td>\n",
       "    </tr>\n",
       "    <tr>\n",
       "      <th>1</th>\n",
       "      <td>2019-08-02</td>\n",
       "      <td>A</td>\n",
       "      <td>619</td>\n",
       "    </tr>\n",
       "    <tr>\n",
       "      <th>2</th>\n",
       "      <td>2019-08-03</td>\n",
       "      <td>A</td>\n",
       "      <td>507</td>\n",
       "    </tr>\n",
       "  </tbody>\n",
       "</table>\n",
       "</div>"
      ],
      "text/plain": [
       "         date group  visitors\n",
       "0  2019-08-01     A       719\n",
       "1  2019-08-02     A       619\n",
       "2  2019-08-03     A       507"
      ]
     },
     "metadata": {},
     "output_type": "display_data"
    },
    {
     "name": "stdout",
     "output_type": "stream",
     "text": [
      "<class 'pandas.core.frame.DataFrame'>\n",
      "RangeIndex: 62 entries, 0 to 61\n",
      "Data columns (total 3 columns):\n",
      " #   Column    Non-Null Count  Dtype \n",
      "---  ------    --------------  ----- \n",
      " 0   date      62 non-null     object\n",
      " 1   group     62 non-null     object\n",
      " 2   visitors  62 non-null     int64 \n",
      "dtypes: int64(1), object(2)\n",
      "memory usage: 1.6+ KB\n"
     ]
    },
    {
     "data": {
      "text/plain": [
       "None"
      ]
     },
     "metadata": {},
     "output_type": "display_data"
    }
   ],
   "source": [
    "visitors = pd.read_csv('/datasets/visitors.csv')\n",
    "visitors.columns = visitors.columns.str.lower()\n",
    "display(visitors.head(3))\n",
    "display(visitors.info())"
   ]
  },
  {
   "cell_type": "code",
   "execution_count": 7,
   "metadata": {},
   "outputs": [
    {
     "name": "stdout",
     "output_type": "stream",
     "text": [
      "0\n",
      "0\n"
     ]
    }
   ],
   "source": [
    "print(orders.duplicated().sum())\n",
    "print(visitors.duplicated().sum())"
   ]
  },
  {
   "cell_type": "markdown",
   "metadata": {},
   "source": [
    "Дубликатов нет, можно продолжать работу."
   ]
  },
  {
   "cell_type": "markdown",
   "metadata": {},
   "source": [
    "Теперь определим куммулятивную выручку."
   ]
  },
  {
   "cell_type": "code",
   "execution_count": 8,
   "metadata": {},
   "outputs": [
    {
     "data": {
      "text/html": [
       "<div>\n",
       "<style scoped>\n",
       "    .dataframe tbody tr th:only-of-type {\n",
       "        vertical-align: middle;\n",
       "    }\n",
       "\n",
       "    .dataframe tbody tr th {\n",
       "        vertical-align: top;\n",
       "    }\n",
       "\n",
       "    .dataframe thead th {\n",
       "        text-align: right;\n",
       "    }\n",
       "</style>\n",
       "<table border=\"1\" class=\"dataframe\">\n",
       "  <thead>\n",
       "    <tr style=\"text-align: right;\">\n",
       "      <th></th>\n",
       "      <th>date</th>\n",
       "      <th>group</th>\n",
       "      <th>orders</th>\n",
       "      <th>buyers</th>\n",
       "      <th>revenue</th>\n",
       "      <th>visitors</th>\n",
       "    </tr>\n",
       "  </thead>\n",
       "  <tbody>\n",
       "    <tr>\n",
       "      <th>0</th>\n",
       "      <td>2019-08-01</td>\n",
       "      <td>A</td>\n",
       "      <td>24</td>\n",
       "      <td>20</td>\n",
       "      <td>148579</td>\n",
       "      <td>719</td>\n",
       "    </tr>\n",
       "    <tr>\n",
       "      <th>1</th>\n",
       "      <td>2019-08-01</td>\n",
       "      <td>B</td>\n",
       "      <td>21</td>\n",
       "      <td>20</td>\n",
       "      <td>101217</td>\n",
       "      <td>713</td>\n",
       "    </tr>\n",
       "    <tr>\n",
       "      <th>2</th>\n",
       "      <td>2019-08-02</td>\n",
       "      <td>A</td>\n",
       "      <td>44</td>\n",
       "      <td>38</td>\n",
       "      <td>242401</td>\n",
       "      <td>1338</td>\n",
       "    </tr>\n",
       "    <tr>\n",
       "      <th>3</th>\n",
       "      <td>2019-08-02</td>\n",
       "      <td>B</td>\n",
       "      <td>45</td>\n",
       "      <td>43</td>\n",
       "      <td>266748</td>\n",
       "      <td>1294</td>\n",
       "    </tr>\n",
       "    <tr>\n",
       "      <th>4</th>\n",
       "      <td>2019-08-03</td>\n",
       "      <td>A</td>\n",
       "      <td>68</td>\n",
       "      <td>62</td>\n",
       "      <td>354874</td>\n",
       "      <td>1845</td>\n",
       "    </tr>\n",
       "    <tr>\n",
       "      <th>5</th>\n",
       "      <td>2019-08-03</td>\n",
       "      <td>B</td>\n",
       "      <td>61</td>\n",
       "      <td>59</td>\n",
       "      <td>380996</td>\n",
       "      <td>1803</td>\n",
       "    </tr>\n",
       "    <tr>\n",
       "      <th>6</th>\n",
       "      <td>2019-08-04</td>\n",
       "      <td>A</td>\n",
       "      <td>84</td>\n",
       "      <td>77</td>\n",
       "      <td>425699</td>\n",
       "      <td>2562</td>\n",
       "    </tr>\n",
       "    <tr>\n",
       "      <th>7</th>\n",
       "      <td>2019-08-04</td>\n",
       "      <td>B</td>\n",
       "      <td>78</td>\n",
       "      <td>75</td>\n",
       "      <td>489567</td>\n",
       "      <td>2573</td>\n",
       "    </tr>\n",
       "    <tr>\n",
       "      <th>8</th>\n",
       "      <td>2019-08-05</td>\n",
       "      <td>A</td>\n",
       "      <td>109</td>\n",
       "      <td>100</td>\n",
       "      <td>549917</td>\n",
       "      <td>3318</td>\n",
       "    </tr>\n",
       "    <tr>\n",
       "      <th>9</th>\n",
       "      <td>2019-08-05</td>\n",
       "      <td>B</td>\n",
       "      <td>101</td>\n",
       "      <td>98</td>\n",
       "      <td>581995</td>\n",
       "      <td>3280</td>\n",
       "    </tr>\n",
       "  </tbody>\n",
       "</table>\n",
       "</div>"
      ],
      "text/plain": [
       "         date group  orders  buyers  revenue  visitors\n",
       "0  2019-08-01     A      24      20   148579       719\n",
       "1  2019-08-01     B      21      20   101217       713\n",
       "2  2019-08-02     A      44      38   242401      1338\n",
       "3  2019-08-02     B      45      43   266748      1294\n",
       "4  2019-08-03     A      68      62   354874      1845\n",
       "5  2019-08-03     B      61      59   380996      1803\n",
       "6  2019-08-04     A      84      77   425699      2562\n",
       "7  2019-08-04     B      78      75   489567      2573\n",
       "8  2019-08-05     A     109     100   549917      3318\n",
       "9  2019-08-05     B     101      98   581995      3280"
      ]
     },
     "metadata": {},
     "output_type": "display_data"
    }
   ],
   "source": [
    "# массив уникальных пар значений дат и групп\n",
    "datesGroups = orders[['date','group']].drop_duplicates()\n",
    "\n",
    "# посчитаем сумму средних чеков\n",
    "\n",
    "ordersAggregated = (datesGroups\n",
    "                    .apply(lambda x: orders[np.logical_and(orders['date'] <= x['date'], orders['group'] == x['group'])]\\\n",
    ".agg({'date' : 'max', 'group' : 'max', 'transactionid' : pd.Series.nunique, 'visitorid' : pd.Series.nunique, 'revenue' : 'sum'}), axis=1)\n",
    "                    .sort_values(by=['date','group'])\n",
    ")\n",
    "\n",
    "# Посчитаем количество пользователей\n",
    "\n",
    "visitorsAggregated = (datesGroups\n",
    "                      .apply(lambda x: visitors[np.logical_and(visitors['date'] <= x['date'], visitors['group'] == x['group'])]\n",
    "                             .agg({'date' : 'max', 'group' : 'max', 'visitors' : 'sum'}), axis=1)\n",
    "                      .sort_values(by=['date','group']))\n",
    "\n",
    "# объединяем кумулятивные данные в одной таблице и присваиваем ее столбцам понятные названия\n",
    "cummulativeData = ordersAggregated.merge(visitorsAggregated, left_on=['date', 'group'], right_on=['date', 'group'])\n",
    "cummulativeData.columns = ['date', 'group', 'orders', 'buyers', 'revenue', 'visitors']\n",
    "\n",
    "display(cummulativeData.head(10))"
   ]
  },
  {
   "cell_type": "markdown",
   "metadata": {},
   "source": [
    "Построим график выручки групп"
   ]
  },
  {
   "cell_type": "code",
   "execution_count": 9,
   "metadata": {},
   "outputs": [
    {
     "data": {
      "image/png": "[encoded data removed]",
      "text/plain": [
       "<Figure size 720x720 with 1 Axes>"
      ]
     },
     "metadata": {
      "needs_background": "light"
     },
     "output_type": "display_data"
    }
   ],
   "source": [
    "cummulativeRevenueA = cummulativeData[cummulativeData['group']=='A'][['date','revenue', 'orders']]\n",
    "cummulativeRevenueB = cummulativeData[cummulativeData['group']=='B'][['date','revenue', 'orders']]\n",
    "#поменяем формат дат\n",
    "cummulativeRevenueA['date'] = pd.to_datetime(cummulativeRevenueA['date'], format='%Y-%m-%d')\n",
    "cummulativeRevenueB['date'] = pd.to_datetime(cummulativeRevenueB['date'], format='%Y-%m-%d')\n",
    "\n",
    "\n",
    "# Строим график выручки группы А и B\n",
    "\n",
    "fig = plt.figure(figsize=[10,10])\n",
    "\n",
    "plt.plot(cummulativeRevenueA['date'], cummulativeRevenueA['revenue'], label='A')\n",
    "plt.plot(cummulativeRevenueB['date'], cummulativeRevenueB['revenue'], label='B')\n",
    "\n",
    "plt.legend()\n",
    "plt.title('График выручки по группам')\n",
    "plt.xlabel(\"Даты\")\n",
    "plt.ylabel(\"Выручка\")\n",
    "plt.show()"
   ]
  },
  {
   "cell_type": "markdown",
   "metadata": {},
   "source": [
    "Выручка увеличивается в течение всего периода, но у группы B после 2019-08-17 наблюдается резкий рост. Это может быть обьяснено появлением очень дорогих заказов, либо резким всплеском числа заказов."
   ]
  },
  {
   "cell_type": "code",
   "execution_count": 10,
   "metadata": {},
   "outputs": [
    {
     "data": {
      "image/png": "[encoded data removed]",
      "text/plain": [
       "<Figure size 720x720 with 1 Axes>"
      ]
     },
     "metadata": {
      "needs_background": "light"
     },
     "output_type": "display_data"
    }
   ],
   "source": [
    "# построим график куммулятивного среднего чека по группам\n",
    "fig = plt.figure(figsize=[10,10])\n",
    "plt.plot(cummulativeRevenueA['date'], cummulativeRevenueA['revenue']/cummulativeRevenueA['orders'], label='A')\n",
    "plt.plot(cummulativeRevenueB['date'], cummulativeRevenueB['revenue']/cummulativeRevenueB['orders'], label='B')\n",
    "plt.legend()\n",
    "plt.title('График куммулятивного среднего чека по группам')\n",
    "plt.xlabel(\"Даты\")\n",
    "plt.ylabel(\"Средний чек\")\n",
    "plt.show()"
   ]
  },
  {
   "cell_type": "markdown",
   "metadata": {},
   "source": [
    "В целом, наблюдаются значительные колебания, но к концу периода можно сказать, что средний чек немного растет для группы A и начинает падение для группы B. Скорее всего, данные изменения связаны с появлением особо крупных заказов в группе В."
   ]
  },
  {
   "cell_type": "markdown",
   "metadata": {},
   "source": [
    "Теперь построим график относительного различия для среднего чека."
   ]
  },
  {
   "cell_type": "code",
   "execution_count": 11,
   "metadata": {},
   "outputs": [
    {
     "data": {
      "image/png": "[encoded data removed]",
      "text/plain": [
       "<Figure size 720x720 with 1 Axes>"
      ]
     },
     "metadata": {
      "needs_background": "light"
     },
     "output_type": "display_data"
    }
   ],
   "source": [
    "fig = plt.figure(figsize=[10,10])\n",
    "mergedCummulativeRevenue = cummulativeRevenueA.merge(cummulativeRevenueB, left_on='date', right_on='date', how='left', suffixes=['A', 'B'])\n",
    "\n",
    "plt.plot(mergedCummulativeRevenue['date'], (mergedCummulativeRevenue['revenueB']/mergedCummulativeRevenue['ordersB'])/(mergedCummulativeRevenue['revenueA']/mergedCummulativeRevenue['ordersA'])-1, label=\"Относительное изменение среднего чека В к А\")\n",
    "# добавляем ось X c 0\n",
    "plt.axhline(y=0, color='black', linestyle='--')\n",
    "plt.title('График относительного различия среднего чека')\n",
    "plt.xlabel(\"Даты\")\n",
    "plt.ylabel(\"ОТносительное различие\")\n",
    "plt.show()"
   ]
  },
  {
   "cell_type": "markdown",
   "metadata": {},
   "source": [
    "Наблюдаем сильные колебания. Сначала средний чек группы B растет, потом резко падает и резко растет. Возможно это влияние крупных заказов или резкий всплеск количества заказов."
   ]
  },
  {
   "cell_type": "markdown",
   "metadata": {},
   "source": [
    "Теперь посмотрим график кумулятивного среднего количества заказов по группам"
   ]
  },
  {
   "cell_type": "code",
   "execution_count": 12,
   "metadata": {},
   "outputs": [
    {
     "data": {
      "image/png": "[encoded data removed]",
      "text/plain": [
       "<Figure size 2880x720 with 1 Axes>"
      ]
     },
     "metadata": {
      "needs_background": "light"
     },
     "output_type": "display_data"
    }
   ],
   "source": [
    "cummulativeOrdersA = cummulativeData[cummulativeData['group']=='A'][['date','visitors', 'orders']]\n",
    "cummulativeOrdersB = cummulativeData[cummulativeData['group']=='B'][['date','visitors', 'orders']]\n",
    "fig = plt.figure(figsize=[40,10])\n",
    "plt.plot(cummulativeOrdersA['date'], cummulativeOrdersA['orders']/cummulativeOrdersA['visitors']*100, label='A')\n",
    "plt.plot(cummulativeOrdersB['date'], cummulativeOrdersB['orders']/cummulativeOrdersB['visitors']*100, label='B')\n",
    "plt.legend()\n",
    "plt.title('График куммулятивного срнего количества заказов по группам')\n",
    "plt.xlabel(\"Даты\")\n",
    "plt.ylabel(\"Среднее количество\")\n",
    "plt.show()"
   ]
  },
  {
   "cell_type": "markdown",
   "metadata": {},
   "source": [
    "Как можно увидеть, количество заказов больше у группы В, при этом наблюдается резкий скачок с 2019-08-02 по 2019-08-03, затем падение. При этом группа А, продолжила падение, а в группе В наблюдаем обратную ситуацию."
   ]
  },
  {
   "cell_type": "markdown",
   "metadata": {},
   "source": [
    "Теперь построим график относительного изменения кумулятивного среднего количества заказов группы B к группе A."
   ]
  },
  {
   "cell_type": "code",
   "execution_count": 13,
   "metadata": {},
   "outputs": [
    {
     "data": {
      "image/png": "[encoded data removed]",
      "text/plain": [
       "<Figure size 720x720 with 1 Axes>"
      ]
     },
     "metadata": {
      "needs_background": "light"
     },
     "output_type": "display_data"
    }
   ],
   "source": [
    "fig = plt.figure(figsize=[10,10])\n",
    "mergedCummulativeOrders = cummulativeRevenueA.merge(cummulativeRevenueB, left_on='date', right_on='date', how='left', suffixes=['A', 'B'])\n",
    "\n",
    "plt.plot(mergedCummulativeOrders['date'], (mergedCummulativeOrders['ordersB'])/(mergedCummulativeOrders['ordersA'])-1, label=\"Относительное изменение среднего количества заказов В к А\")\n",
    "# добавляем ось X c 0\n",
    "plt.axhline(y=0, color='black', linestyle='--')\n",
    "plt.title('График относительного изменения куммулятивного среднего количества заказов по пользователя')\n",
    "plt.xlabel(\"Даты\")\n",
    "plt.ylabel(\"Оносительное изменение кум. среднего количества\")\n",
    "plt.show()"
   ]
  },
  {
   "cell_type": "markdown",
   "metadata": {},
   "source": [
    "Как можно увидеть, после 2019-08-05 наблюдается резкий рост количества заказов по отношеню к группе А. Это может быть вызвано аномалиями, но точно сказать нельзя."
   ]
  },
  {
   "cell_type": "markdown",
   "metadata": {},
   "source": [
    "Теперь построим точечный график количества заказов по пользователям "
   ]
  },
  {
   "cell_type": "code",
   "execution_count": 14,
   "metadata": {},
   "outputs": [
    {
     "name": "stdout",
     "output_type": "stream",
     "text": [
      "       visitorid  orders\n",
      "1023  4256040402      11\n",
      "591   2458001652      11\n",
      "569   2378935119       9\n",
      "487   2038680547       8\n",
      "44     199603092       5\n"
     ]
    }
   ],
   "source": [
    "#создадим датасет с нужными данными\n",
    "ordersByUsers = orders.drop(['group', 'revenue', 'date'], axis=1).groupby('visitorid', as_index=False).agg({'transactionid' : pd.Series.nunique})\n",
    "\n",
    "ordersByUsers.columns = ['visitorid','orders']\n",
    "\n",
    "print(ordersByUsers.sort_values(by='orders',ascending=False).head(5))"
   ]
  },
  {
   "cell_type": "code",
   "execution_count": 15,
   "metadata": {},
   "outputs": [
    {
     "data": {
      "text/plain": [
       "Text(0, 0.5, 'Заказы')"
      ]
     },
     "execution_count": 15,
     "metadata": {},
     "output_type": "execute_result"
    },
    {
     "data": {
      "image/png": "[encoded data removed]",
      "text/plain": [
       "<Figure size 1080x360 with 1 Axes>"
      ]
     },
     "metadata": {
      "needs_background": "light"
     },
     "output_type": "display_data"
    }
   ],
   "source": [
    "x_values = pd.Series(range(0,len(ordersByUsers)))\n",
    "plt.figure(figsize=(15,5))\n",
    "plt.grid()\n",
    "plt.title('График количества заказов по пользователям')\n",
    "plt.scatter(x_values, ordersByUsers['orders'], alpha=0.5)\n",
    "plt.xlabel(\"Пользователи\")\n",
    "plt.ylabel(\"Заказы\")"
   ]
  },
  {
   "cell_type": "markdown",
   "metadata": {},
   "source": [
    "Как можно увидеть, большинство покупателей заказывали не более одного раза. Затем доли пользователей с заказами от 2 и более начинают стремительно падать. Пока нельзя сказать, являются ли они аномалиями."
   ]
  },
  {
   "cell_type": "code",
   "execution_count": 16,
   "metadata": {},
   "outputs": [
    {
     "data": {
      "text/plain": [
       "array([2., 4.])"
      ]
     },
     "execution_count": 16,
     "metadata": {},
     "output_type": "execute_result"
    }
   ],
   "source": [
    "#посчитаем 95-й и 99-й перцентили количества заказов на пользователя\n",
    "np.percentile(ordersByUsers['orders'], [95, 99])"
   ]
  },
  {
   "cell_type": "markdown",
   "metadata": {},
   "source": [
    "Соотвественно, примерно 95% пользователей делают 1 или 2 заказа. Значит, все, что выше - аномалии, границей выберем 2."
   ]
  },
  {
   "cell_type": "code",
   "execution_count": 17,
   "metadata": {},
   "outputs": [
    {
     "data": {
      "text/plain": [
       "array([28000. , 58233.2])"
      ]
     },
     "execution_count": 17,
     "metadata": {},
     "output_type": "execute_result"
    }
   ],
   "source": [
    "#посчитаем 95-й и 99-й перцентили стоимости заказов на пользователя\n",
    "np.percentile(orders['revenue'], [95, 99])"
   ]
  },
  {
   "cell_type": "markdown",
   "metadata": {},
   "source": [
    "Соответственно, менее 5% заказов стоят дороже 28000, можно взять эту цифру за границу для определения аномальных заказов."
   ]
  },
  {
   "cell_type": "code",
   "execution_count": 18,
   "metadata": {},
   "outputs": [
    {
     "data": {
      "text/plain": [
       "Text(0, 0.5, 'Сумма заказа')"
      ]
     },
     "execution_count": 18,
     "metadata": {},
     "output_type": "execute_result"
    },
    {
     "data": {
      "image/png": "[encoded data removed]",
      "text/plain": [
       "<Figure size 432x288 with 1 Axes>"
      ]
     },
     "metadata": {
      "needs_background": "light"
     },
     "output_type": "display_data"
    }
   ],
   "source": [
    "# строим точечный график стоимостей заказов\n",
    "x_values = pd.Series(range(0,len(orders['revenue'])))\n",
    "plt.scatter(x_values, orders['revenue'])\n",
    "plt.title('Точечный график стоимостей заказов')\n",
    "plt.xlabel(\"Количество\")\n",
    "plt.ylabel(\"Сумма заказа\")"
   ]
  },
  {
   "cell_type": "markdown",
   "metadata": {},
   "source": [
    "Как можно увидеть, почти все заказы находятся в пределах 100000, но есть выброс с аномальным значением выше 1 миллиона. Именно этот заказ и отразился на всех графиках, исказив их."
   ]
  },
  {
   "cell_type": "markdown",
   "metadata": {},
   "source": [
    "Теперь посчитаем статистическую значимость различий в среднем количестве заказов между группами по «сырым» данным. "
   ]
  },
  {
   "cell_type": "code",
   "execution_count": 19,
   "metadata": {
    "scrolled": false
   },
   "outputs": [
    {
     "data": {
      "text/html": [
       "<div>\n",
       "<style scoped>\n",
       "    .dataframe tbody tr th:only-of-type {\n",
       "        vertical-align: middle;\n",
       "    }\n",
       "\n",
       "    .dataframe tbody tr th {\n",
       "        vertical-align: top;\n",
       "    }\n",
       "\n",
       "    .dataframe thead th {\n",
       "        text-align: right;\n",
       "    }\n",
       "</style>\n",
       "<table border=\"1\" class=\"dataframe\">\n",
       "  <thead>\n",
       "    <tr style=\"text-align: right;\">\n",
       "      <th></th>\n",
       "      <th>date</th>\n",
       "      <th>ordersPerDateA</th>\n",
       "      <th>revenuePerDateA</th>\n",
       "      <th>ordersPerDateB</th>\n",
       "      <th>revenuePerDateB</th>\n",
       "      <th>ordersCummulativeA</th>\n",
       "      <th>revenueCummulativeA</th>\n",
       "      <th>ordersCummulativeB</th>\n",
       "      <th>revenueCummulativeB</th>\n",
       "      <th>visitorsPerDateA</th>\n",
       "      <th>visitorsPerDateB</th>\n",
       "      <th>visitorsCummulativeA</th>\n",
       "      <th>visitorsCummulativeB</th>\n",
       "    </tr>\n",
       "  </thead>\n",
       "  <tbody>\n",
       "    <tr>\n",
       "      <th>0</th>\n",
       "      <td>2019-08-01</td>\n",
       "      <td>24</td>\n",
       "      <td>148579</td>\n",
       "      <td>21</td>\n",
       "      <td>101217</td>\n",
       "      <td>24</td>\n",
       "      <td>148579</td>\n",
       "      <td>21</td>\n",
       "      <td>101217</td>\n",
       "      <td>719</td>\n",
       "      <td>713</td>\n",
       "      <td>719</td>\n",
       "      <td>713</td>\n",
       "    </tr>\n",
       "    <tr>\n",
       "      <th>1</th>\n",
       "      <td>2019-08-02</td>\n",
       "      <td>20</td>\n",
       "      <td>93822</td>\n",
       "      <td>24</td>\n",
       "      <td>165531</td>\n",
       "      <td>44</td>\n",
       "      <td>242401</td>\n",
       "      <td>45</td>\n",
       "      <td>266748</td>\n",
       "      <td>619</td>\n",
       "      <td>581</td>\n",
       "      <td>1338</td>\n",
       "      <td>1294</td>\n",
       "    </tr>\n",
       "    <tr>\n",
       "      <th>2</th>\n",
       "      <td>2019-08-03</td>\n",
       "      <td>24</td>\n",
       "      <td>112473</td>\n",
       "      <td>16</td>\n",
       "      <td>114248</td>\n",
       "      <td>68</td>\n",
       "      <td>354874</td>\n",
       "      <td>61</td>\n",
       "      <td>380996</td>\n",
       "      <td>507</td>\n",
       "      <td>509</td>\n",
       "      <td>1845</td>\n",
       "      <td>1803</td>\n",
       "    </tr>\n",
       "    <tr>\n",
       "      <th>3</th>\n",
       "      <td>2019-08-04</td>\n",
       "      <td>16</td>\n",
       "      <td>70825</td>\n",
       "      <td>17</td>\n",
       "      <td>108571</td>\n",
       "      <td>84</td>\n",
       "      <td>425699</td>\n",
       "      <td>78</td>\n",
       "      <td>489567</td>\n",
       "      <td>717</td>\n",
       "      <td>770</td>\n",
       "      <td>2562</td>\n",
       "      <td>2573</td>\n",
       "    </tr>\n",
       "    <tr>\n",
       "      <th>4</th>\n",
       "      <td>2019-08-05</td>\n",
       "      <td>25</td>\n",
       "      <td>124218</td>\n",
       "      <td>23</td>\n",
       "      <td>92428</td>\n",
       "      <td>109</td>\n",
       "      <td>549917</td>\n",
       "      <td>101</td>\n",
       "      <td>581995</td>\n",
       "      <td>756</td>\n",
       "      <td>707</td>\n",
       "      <td>3318</td>\n",
       "      <td>3280</td>\n",
       "    </tr>\n",
       "  </tbody>\n",
       "</table>\n",
       "</div>"
      ],
      "text/plain": [
       "         date  ordersPerDateA  revenuePerDateA  ordersPerDateB  \\\n",
       "0  2019-08-01              24           148579              21   \n",
       "1  2019-08-02              20            93822              24   \n",
       "2  2019-08-03              24           112473              16   \n",
       "3  2019-08-04              16            70825              17   \n",
       "4  2019-08-05              25           124218              23   \n",
       "\n",
       "   revenuePerDateB  ordersCummulativeA  revenueCummulativeA  \\\n",
       "0           101217                  24               148579   \n",
       "1           165531                  44               242401   \n",
       "2           114248                  68               354874   \n",
       "3           108571                  84               425699   \n",
       "4            92428                 109               549917   \n",
       "\n",
       "   ordersCummulativeB  revenueCummulativeB  visitorsPerDateA  \\\n",
       "0                  21               101217               719   \n",
       "1                  45               266748               619   \n",
       "2                  61               380996               507   \n",
       "3                  78               489567               717   \n",
       "4                 101               581995               756   \n",
       "\n",
       "   visitorsPerDateB  visitorsCummulativeA  visitorsCummulativeB  \n",
       "0               713                   719                   713  \n",
       "1               581                  1338                  1294  \n",
       "2               509                  1845                  1803  \n",
       "3               770                  2562                  2573  \n",
       "4               707                  3318                  3280  "
      ]
     },
     "metadata": {},
     "output_type": "display_data"
    }
   ],
   "source": [
    "# Считаем количество пользователей до выбранной даты включительно в группах A и B;\n",
    "\n",
    "visitorsADaily = visitors[visitors['group']=='A'][['date', 'visitors']]\n",
    "visitorsADaily.columns = ['date', 'visitorsPerDateA']\n",
    "\n",
    "visitorsACummulative = visitorsADaily.apply(lambda x: visitorsADaily[visitorsADaily['date'] <= x['date']].agg({'date' : 'max', 'visitorsPerDateA' : 'sum'}), axis=1)\n",
    "visitorsACummulative.columns = ['date', 'visitorsCummulativeA']\n",
    "\n",
    "visitorsBDaily = visitors[visitors['group']=='B'][['date', 'visitors']]\n",
    "visitorsBDaily.columns = ['date', 'visitorsPerDateB']\n",
    "\n",
    "visitorsBCummulative = visitorsBDaily.apply(lambda x: visitorsBDaily[visitorsBDaily['date'] <= x['date']].agg({'date' : 'max', 'visitorsPerDateB' : 'sum'}), axis=1)\n",
    "visitorsBCummulative.columns = ['date', 'visitorsCummulativeB']\n",
    "\n",
    "# Считаем суммарное число заказов до выбранной даты включительно в группах A и B\n",
    "ordersADaily = orders[orders['group']=='A'][['date', 'transactionid', 'visitorid', 'revenue']]\\\n",
    "    .groupby('date', as_index=False)\\\n",
    "    .agg({'transactionid' : pd.Series.nunique, 'revenue' : 'sum'})\n",
    "ordersADaily.columns = ['date', 'ordersPerDateA', 'revenuePerDateA']\n",
    "\n",
    "ordersACummulative = ordersADaily.apply(\n",
    "    lambda x: \\\n",
    "        ordersADaily[ordersADaily['date'] <= x['date']]\\\n",
    "            .agg({\n",
    "                'date' : 'max',\n",
    "                'ordersPerDateA' : 'sum',\n",
    "                'revenuePerDateA' : 'sum'}), axis=1).sort_values(by=['date'])\n",
    "ordersACummulative.columns = ['date', 'ordersCummulativeA', 'revenueCummulativeA']\n",
    "\n",
    "ordersBDaily = orders[orders['group']=='B'][['date', 'transactionid', 'visitorid', 'revenue']]\\\n",
    "    .groupby('date', as_index=False)\\\n",
    "    .agg({'transactionid' : pd.Series.nunique, 'revenue' : 'sum'})\n",
    "ordersBDaily.columns = ['date', 'ordersPerDateB', 'revenuePerDateB']\n",
    "\n",
    "ordersBCummulative = ordersBDaily.apply(\n",
    "    lambda x: \\\n",
    "        ordersBDaily[ordersBDaily['date'] <= x['date']]\\\n",
    "            .agg({\n",
    "                'date' : 'max',\n",
    "                'ordersPerDateB' : 'sum',\n",
    "                'revenuePerDateB' : 'sum'}), axis=1).sort_values(by=['date'])\n",
    "ordersBCummulative.columns = ['date', 'ordersCummulativeB', 'revenueCummulativeB']\n",
    "\n",
    "\n",
    "# создаем таблицу с количеством заказов, выручкой в день, количество заказов и выручка до выбранной даты(включительно)\n",
    "data = ordersADaily.merge(ordersBDaily, left_on='date', right_on='date', how='left')\\\n",
    "    .merge(ordersACummulative, left_on='date', right_on='date', how='left')\\\n",
    "    .merge(ordersBCummulative, left_on='date', right_on='date', how='left')\\\n",
    "    .merge(visitorsADaily, left_on='date', right_on='date', how='left')\\\n",
    "    .merge(visitorsBDaily, left_on='date', right_on='date', how='left')\\\n",
    "    .merge(visitorsACummulative, left_on='date', right_on='date', how='left')\\\n",
    "    .merge(visitorsBCummulative, left_on='date', right_on='date', how='left')\n",
    "\n",
    "display(data.head(5))"
   ]
  },
  {
   "cell_type": "markdown",
   "metadata": {},
   "source": [
    "Чтобы рассчитать статистическую значимость различий в среднем количестве заказов между группами, передадим критерию mannwhitneyu() данные о количестве заказов (пороговое значение будет равно 5%). \n",
    "\n",
    "Нулевая гипотеза: \"статистически значимых различий в средних количестве заказов между группами нет\"; тогда альтернативная гипотеза: \"статистически значимые различия есть\"."
   ]
  },
  {
   "cell_type": "code",
   "execution_count": 20,
   "metadata": {},
   "outputs": [],
   "source": [
    "# Создадим переменные ordersByUsersA и ordersByUsersB\n",
    "# В них для пользователей, которые заказывали хотя бы 1 раз, укажем число совершённых заказов.\n",
    "\n",
    "ordersByUsersA = orders[orders['group']=='A'].groupby('visitorid', as_index=False).agg({'transactionid' : pd.Series.nunique})\n",
    "ordersByUsersA.columns = ['userId', 'orders']\n",
    "\n",
    "ordersByUsersB = orders[orders['group']=='B'].groupby('visitorid', as_index=False).agg({'transactionid' : pd.Series.nunique})\n",
    "ordersByUsersB.columns = ['userId', 'orders']"
   ]
  },
  {
   "cell_type": "code",
   "execution_count": 21,
   "metadata": {},
   "outputs": [
    {
     "name": "stdout",
     "output_type": "stream",
     "text": [
      "alpha = 0.05\n",
      "p-value = 0.017\n",
      "Относительный показатель 'B' к 'A' = 0.138\n"
     ]
    }
   ],
   "source": [
    "#Объявим переменные sampleA и sampleB, в которых пользователям с заказами будет соответствовать число заказов пользователя. А пользователям без заказов — нули.\n",
    "sampleA = pd.concat([ordersByUsersA['orders'],pd.Series(0, index=np.arange(data['visitorsPerDateA'].sum() - len(ordersByUsersA['orders'])), name='orders')],axis=0) \n",
    "sampleB = pd.concat([ordersByUsersB['orders'],pd.Series(0, index=np.arange(data['visitorsPerDateB'].sum() - len(ordersByUsersB['orders'])), name='orders')],axis=0)\n",
    "\n",
    "print(\"alpha =\",0.05)\n",
    "print(\"p-value = {0:.3f}\".format(stats.mannwhitneyu(sampleA, sampleB)[1]))\n",
    "print(\"Относительный показатель 'B' к 'A' = {0:.3f}\".format((data['ordersPerDateB'].sum()/data['visitorsPerDateB'].sum())/(data['ordersPerDateA'].sum()/data['visitorsPerDateA'].sum())-1))"
   ]
  },
  {
   "cell_type": "markdown",
   "metadata": {},
   "source": [
    "P-value меньше 0.05. Значит, отвергаем нулевую гипотезу, то есть существуют статистически значимые различия по количеству заказов по группам."
   ]
  },
  {
   "cell_type": "markdown",
   "metadata": {},
   "source": [
    "Теперь найдем статистическую значимость различий в среднем чеке между группами. Нулевая гипотеза: \"статистически значимых различий в средних чеках между группами нет\"; тогда альтернативная гипотеза: \"статистически значимые различия есть\"."
   ]
  },
  {
   "cell_type": "code",
   "execution_count": 22,
   "metadata": {},
   "outputs": [
    {
     "name": "stdout",
     "output_type": "stream",
     "text": [
      "alpha = 0.05\n",
      "p-value = 0.729\n",
      "Относительный показатель 'B' к 'A' = 0.259\n"
     ]
    }
   ],
   "source": [
    "print(\"alpha =\",0.05)\n",
    "print(\"p-value = {0:.3f}\".format(stats.mannwhitneyu(orders[orders['group']=='A']['revenue'], orders[orders['group']=='B']['revenue'], alternative = 'two-sided')[1]))\n",
    "print(\"Относительный показатель 'B' к 'A' = {0:.3f}\".format(orders[orders['group']=='B']['revenue'].mean()/orders[orders['group']=='A']['revenue'].mean()-1)) "
   ]
  },
  {
   "cell_type": "markdown",
   "metadata": {},
   "source": [
    "P-value значительно больше 0.05. Значит, причин отвергать нулевую гипотезу нет. То есть средние чеки по \"сырым\" данным не имеют статистически значимых различий. Однако средний чек группы B на 26% больше группы А."
   ]
  },
  {
   "cell_type": "markdown",
   "metadata": {},
   "source": [
    "Теперь \"очистим\" данные. В результате предыдущих действий мы определили, что аномальные пользователи те, кто совершил 3 и больше заказов или совершил заказ дороже 28000 рублей. Сделаем срезы с числом заказов больше 2 — usersWithManyOrders и пользователей, совершивших заказы дороже 28000 — usersWithExpensiveOrders. Объединим их в таблице abnormalUsers."
   ]
  },
  {
   "cell_type": "code",
   "execution_count": 23,
   "metadata": {},
   "outputs": [
    {
     "name": "stdout",
     "output_type": "stream",
     "text": [
      "1099    148427295\n",
      "18      199603092\n",
      "928     204675465\n",
      "23      237748145\n",
      "37      249864742\n",
      "dtype: int64\n"
     ]
    }
   ],
   "source": [
    "usersWithManyOrders = pd.concat([ordersByUsersA[ordersByUsersA['orders'] > 2]['userId'], ordersByUsersB[ordersByUsersB['orders'] > 2]['userId']], axis = 0)\n",
    "usersWithExpensiveOrders = orders[orders['revenue'] > 28000]['visitorid']\n",
    "abnormalUsers = pd.concat([usersWithManyOrders, usersWithExpensiveOrders], axis = 0).drop_duplicates().sort_values()\n",
    "print(abnormalUsers.head(5))"
   ]
  },
  {
   "cell_type": "code",
   "execution_count": 24,
   "metadata": {},
   "outputs": [
    {
     "name": "stdout",
     "output_type": "stream",
     "text": [
      "1.000\n",
      "0.184\n"
     ]
    }
   ],
   "source": [
    "#посчитаем статистическую значимость различий в среднем количестве заказов между группами по «очищенным» данным\n",
    "print(\"{0:.3f}\".format(stats.mannwhitneyu(\n",
    "    orders[np.logical_and(\n",
    "        orders['group']=='A',\n",
    "        np.logical_not(orders['visitorid'].isin(abnormalUsers)))]['visitorid'].count(),\n",
    "    orders[np.logical_and(\n",
    "        orders['group']=='B',\n",
    "        np.logical_not(orders['visitorid'].isin(abnormalUsers)))]['visitorid'].count())[1]))\n",
    "\n",
    "print(\"{0:.3f}\".format(\n",
    "    orders[np.logical_and(orders['group']=='B',np.logical_not(orders['visitorid'].isin(abnormalUsers)))]['visitorid'].count().mean()/\n",
    "    orders[np.logical_and(\n",
    "        orders['group']=='A',\n",
    "        np.logical_not(orders['visitorid'].isin(abnormalUsers)))]['visitorid'].count().mean() - 1))"
   ]
  },
  {
   "cell_type": "markdown",
   "metadata": {},
   "source": [
    "P-value не изменился, а разница между сегментами немного возросла. Очищенные данные показывают, что средний количество заказов группы B немного больше группы A. Статистически значимых различий среднего количества заказов между группами нет."
   ]
  },
  {
   "cell_type": "code",
   "execution_count": 25,
   "metadata": {},
   "outputs": [
    {
     "name": "stdout",
     "output_type": "stream",
     "text": [
      "0.738\n",
      "-0.020\n"
     ]
    }
   ],
   "source": [
    "#посчитаем статистическую значимость различий в среднем чеке заказа между группами по «очищенным» данным\n",
    "print(\"{0:.3f}\".format(stats.mannwhitneyu(\n",
    "    orders[np.logical_and(\n",
    "        orders['group']=='A',\n",
    "        np.logical_not(orders['visitorid'].isin(abnormalUsers)))]['revenue'],\n",
    "    orders[np.logical_and(\n",
    "        orders['group']=='B',\n",
    "        np.logical_not(orders['visitorid'].isin(abnormalUsers)))]['revenue'])[1]))\n",
    "\n",
    "print(\"{0:.3f}\".format(\n",
    "    orders[np.logical_and(orders['group']=='B',np.logical_not(orders['visitorid'].isin(abnormalUsers)))]['revenue'].mean()/\n",
    "    orders[np.logical_and(\n",
    "        orders['group']=='A',\n",
    "        np.logical_not(orders['visitorid'].isin(abnormalUsers)))]['revenue'].mean() - 1))"
   ]
  },
  {
   "cell_type": "markdown",
   "metadata": {},
   "source": [
    "P-value почти не изменился, а разница между сегментами сильно изменилась. Очищенные данные показывают, что средний чек группы B немного уступает группе A, а в сырых данных ситуация была обратная. \n",
    "\n",
    "Соответвенно, по очищенным данным статистически значимых различий среднего чека между группами нет."
   ]
  },
  {
   "cell_type": "markdown",
   "metadata": {},
   "source": [
    "**РЕЗУЛЬТАТЫ А/В теста**\n",
    "\n",
    "По результатам можно сказать, что по \"сырым\" и по \"очищенным\" данным различия в средних чеках групп A и B отстутствуют, несмотря на то, что средний чек группы B оказался незначительно (на 2%) ниже среднего чека группы A по \"очищенным\" данным, в то время как по \"сырым\" данным он был больше. Соответственно, видим сильное влияние выбросов. График различия среднего чека колеблется, поэтому сделать из этого графика определённые выводы нельзя. Также график показывает, что среднее количество заказов у группы В больше, и динамика более позитивная.\n",
    "\n",
    "По итогу можно остановить тест и зафиксировать победу группы B, в которой наблюдается  увеличение и в целом большее среднее число заказов по сравнению с группой А."
   ]
  },
  {
   "cell_type": "code",
   "execution_count": null,
   "metadata": {},
   "outputs": [],
   "source": []
  }
 ],
 "metadata": {
  "ExecuteTimeLog": [
   {
    "duration": 1376,
    "start_time": "2022-11-16T13:22:26.402Z"
   },
   {
    "duration": 101,
    "start_time": "2022-11-16T13:23:50.723Z"
   },
   {
    "duration": 12,
    "start_time": "2022-11-16T13:27:04.501Z"
   },
   {
    "duration": 9,
    "start_time": "2022-11-16T13:27:16.880Z"
   },
   {
    "duration": 110,
    "start_time": "2022-11-16T13:36:58.418Z"
   },
   {
    "duration": 59,
    "start_time": "2022-11-16T13:37:02.063Z"
   },
   {
    "duration": 68,
    "start_time": "2022-11-16T13:37:34.138Z"
   },
   {
    "duration": 90,
    "start_time": "2022-11-16T13:39:05.499Z"
   },
   {
    "duration": 375,
    "start_time": "2022-11-16T13:51:03.520Z"
   },
   {
    "duration": 300,
    "start_time": "2022-11-16T13:54:04.805Z"
   },
   {
    "duration": 206,
    "start_time": "2022-11-16T13:54:13.883Z"
   },
   {
    "duration": 109,
    "start_time": "2022-11-16T13:54:21.397Z"
   },
   {
    "duration": 245,
    "start_time": "2022-11-16T13:54:30.461Z"
   },
   {
    "duration": 220,
    "start_time": "2022-11-16T13:59:51.021Z"
   },
   {
    "duration": 413,
    "start_time": "2022-11-16T14:07:49.387Z"
   },
   {
    "duration": 370,
    "start_time": "2022-11-16T14:08:12.198Z"
   },
   {
    "duration": 371,
    "start_time": "2022-11-16T14:08:26.994Z"
   },
   {
    "duration": 456,
    "start_time": "2022-11-16T14:08:37.817Z"
   },
   {
    "duration": 8,
    "start_time": "2022-11-16T14:29:03.055Z"
   },
   {
    "duration": 350,
    "start_time": "2022-11-16T14:34:07.689Z"
   },
   {
    "duration": 16,
    "start_time": "2022-11-16T14:39:45.345Z"
   },
   {
    "duration": 216,
    "start_time": "2022-11-16T14:47:05.382Z"
   },
   {
    "duration": 320,
    "start_time": "2022-11-16T15:00:26.935Z"
   },
   {
    "duration": 291,
    "start_time": "2022-11-16T15:03:53.531Z"
   },
   {
    "duration": 325,
    "start_time": "2022-11-16T15:04:01.082Z"
   },
   {
    "duration": 149,
    "start_time": "2022-11-16T15:11:36.147Z"
   },
   {
    "duration": 127,
    "start_time": "2022-11-16T15:11:41.392Z"
   },
   {
    "duration": 121,
    "start_time": "2022-11-16T15:12:34.199Z"
   },
   {
    "duration": 137,
    "start_time": "2022-11-16T15:16:40.344Z"
   },
   {
    "duration": 5,
    "start_time": "2022-11-16T15:22:13.181Z"
   },
   {
    "duration": 145,
    "start_time": "2022-11-16T15:28:59.330Z"
   },
   {
    "duration": 242,
    "start_time": "2022-11-16T15:36:59.903Z"
   },
   {
    "duration": 160,
    "start_time": "2022-11-16T15:42:46.291Z"
   },
   {
    "duration": 760,
    "start_time": "2022-11-16T16:20:34.679Z"
   },
   {
    "duration": 11,
    "start_time": "2022-11-16T16:26:15.657Z"
   },
   {
    "duration": 11,
    "start_time": "2022-11-16T16:27:11.303Z"
   },
   {
    "duration": 8,
    "start_time": "2022-11-16T16:32:29.720Z"
   },
   {
    "duration": 14,
    "start_time": "2022-11-16T16:33:51.432Z"
   },
   {
    "duration": 715,
    "start_time": "2022-11-16T16:47:38.786Z"
   },
   {
    "duration": 5,
    "start_time": "2022-11-16T16:47:49.676Z"
   },
   {
    "duration": 5,
    "start_time": "2022-11-16T16:48:38.592Z"
   },
   {
    "duration": 10,
    "start_time": "2022-11-16T16:50:13.699Z"
   },
   {
    "duration": 9,
    "start_time": "2022-11-16T16:50:33.254Z"
   },
   {
    "duration": 691,
    "start_time": "2022-11-16T16:52:55.891Z"
   },
   {
    "duration": 771,
    "start_time": "2022-11-16T16:53:00.275Z"
   },
   {
    "duration": 8,
    "start_time": "2022-11-16T16:53:04.287Z"
   },
   {
    "duration": 14,
    "start_time": "2022-11-16T17:04:40.084Z"
   },
   {
    "duration": 10,
    "start_time": "2022-11-16T17:08:12.487Z"
   },
   {
    "duration": 10,
    "start_time": "2022-11-16T17:10:00.843Z"
   },
   {
    "duration": 13,
    "start_time": "2022-11-16T17:12:37.912Z"
   },
   {
    "duration": 1740,
    "start_time": "2022-11-16T19:16:24.521Z"
   },
   {
    "duration": 102,
    "start_time": "2022-11-16T19:16:26.264Z"
   },
   {
    "duration": 25,
    "start_time": "2022-11-16T19:16:26.369Z"
   },
   {
    "duration": 29,
    "start_time": "2022-11-16T19:16:26.402Z"
   },
   {
    "duration": 121,
    "start_time": "2022-11-16T19:16:26.435Z"
   },
   {
    "duration": 104,
    "start_time": "2022-11-16T19:16:26.558Z"
   },
   {
    "duration": 9,
    "start_time": "2022-11-16T19:16:26.664Z"
   },
   {
    "duration": 463,
    "start_time": "2022-11-16T19:16:26.675Z"
   },
   {
    "duration": 395,
    "start_time": "2022-11-16T19:16:27.140Z"
   },
   {
    "duration": 231,
    "start_time": "2022-11-16T19:16:27.537Z"
   },
   {
    "duration": 334,
    "start_time": "2022-11-16T19:16:27.770Z"
   },
   {
    "duration": 222,
    "start_time": "2022-11-16T19:16:28.106Z"
   },
   {
    "duration": 324,
    "start_time": "2022-11-16T19:16:28.331Z"
   },
   {
    "duration": 294,
    "start_time": "2022-11-16T19:16:28.659Z"
   },
   {
    "duration": 227,
    "start_time": "2022-11-16T19:16:28.956Z"
   },
   {
    "duration": 15,
    "start_time": "2022-11-16T19:16:29.184Z"
   },
   {
    "duration": 21,
    "start_time": "2022-11-16T19:16:29.201Z"
   },
   {
    "duration": 196,
    "start_time": "2022-11-16T19:16:29.224Z"
   },
   {
    "duration": 313,
    "start_time": "2022-11-16T19:16:29.423Z"
   },
   {
    "duration": 15,
    "start_time": "2022-11-16T19:16:29.739Z"
   },
   {
    "duration": 35,
    "start_time": "2022-11-16T19:16:29.757Z"
   },
   {
    "duration": 179,
    "start_time": "2022-11-16T19:16:29.795Z"
   },
   {
    "duration": 0,
    "start_time": "2022-11-16T19:16:29.976Z"
   },
   {
    "duration": 0,
    "start_time": "2022-11-16T19:16:29.984Z"
   },
   {
    "duration": 197,
    "start_time": "2022-11-16T19:19:35.410Z"
   },
   {
    "duration": 1626,
    "start_time": "2022-11-16T19:19:41.609Z"
   },
   {
    "duration": 72,
    "start_time": "2022-11-16T19:19:43.237Z"
   },
   {
    "duration": 12,
    "start_time": "2022-11-16T19:19:43.311Z"
   },
   {
    "duration": 10,
    "start_time": "2022-11-16T19:19:43.326Z"
   },
   {
    "duration": 84,
    "start_time": "2022-11-16T19:19:43.338Z"
   },
   {
    "duration": 79,
    "start_time": "2022-11-16T19:19:43.424Z"
   },
   {
    "duration": 8,
    "start_time": "2022-11-16T19:19:43.504Z"
   },
   {
    "duration": 354,
    "start_time": "2022-11-16T19:19:43.514Z"
   },
   {
    "duration": 442,
    "start_time": "2022-11-16T19:19:43.869Z"
   },
   {
    "duration": 234,
    "start_time": "2022-11-16T19:19:44.315Z"
   },
   {
    "duration": 352,
    "start_time": "2022-11-16T19:19:44.551Z"
   },
   {
    "duration": 234,
    "start_time": "2022-11-16T19:19:44.904Z"
   },
   {
    "duration": 366,
    "start_time": "2022-11-16T19:19:45.140Z"
   },
   {
    "duration": 196,
    "start_time": "2022-11-16T19:19:45.508Z"
   },
   {
    "duration": 206,
    "start_time": "2022-11-16T19:19:45.706Z"
   },
   {
    "duration": 5,
    "start_time": "2022-11-16T19:19:45.914Z"
   },
   {
    "duration": 51,
    "start_time": "2022-11-16T19:19:45.921Z"
   },
   {
    "duration": 183,
    "start_time": "2022-11-16T19:19:45.974Z"
   },
   {
    "duration": 256,
    "start_time": "2022-11-16T19:19:46.160Z"
   },
   {
    "duration": 10,
    "start_time": "2022-11-16T19:19:46.418Z"
   },
   {
    "duration": 14,
    "start_time": "2022-11-16T19:19:46.429Z"
   },
   {
    "duration": 171,
    "start_time": "2022-11-16T19:19:46.444Z"
   },
   {
    "duration": 9,
    "start_time": "2022-11-16T19:19:46.617Z"
   },
   {
    "duration": 15,
    "start_time": "2022-11-16T19:19:46.628Z"
   },
   {
    "duration": 13,
    "start_time": "2022-11-16T19:19:46.645Z"
   },
   {
    "duration": 1059,
    "start_time": "2022-11-16T21:31:42.404Z"
   },
   {
    "duration": 69,
    "start_time": "2022-11-16T21:31:43.465Z"
   },
   {
    "duration": 10,
    "start_time": "2022-11-16T21:31:43.535Z"
   },
   {
    "duration": 18,
    "start_time": "2022-11-16T21:31:43.546Z"
   },
   {
    "duration": 98,
    "start_time": "2022-11-16T21:31:43.565Z"
   },
   {
    "duration": 70,
    "start_time": "2022-11-16T21:31:43.664Z"
   },
   {
    "duration": 6,
    "start_time": "2022-11-16T21:31:43.735Z"
   },
   {
    "duration": 280,
    "start_time": "2022-11-16T21:31:43.742Z"
   },
   {
    "duration": 329,
    "start_time": "2022-11-16T21:31:44.024Z"
   },
   {
    "duration": 187,
    "start_time": "2022-11-16T21:31:44.355Z"
   },
   {
    "duration": 291,
    "start_time": "2022-11-16T21:31:44.543Z"
   },
   {
    "duration": 201,
    "start_time": "2022-11-16T21:31:44.836Z"
   },
   {
    "duration": 276,
    "start_time": "2022-11-16T21:31:45.039Z"
   },
   {
    "duration": 135,
    "start_time": "2022-11-16T21:31:45.323Z"
   },
   {
    "duration": 140,
    "start_time": "2022-11-16T21:31:45.459Z"
   },
   {
    "duration": 5,
    "start_time": "2022-11-16T21:31:45.600Z"
   },
   {
    "duration": 26,
    "start_time": "2022-11-16T21:31:45.606Z"
   },
   {
    "duration": 132,
    "start_time": "2022-11-16T21:31:45.634Z"
   },
   {
    "duration": 199,
    "start_time": "2022-11-16T21:31:45.768Z"
   },
   {
    "duration": 9,
    "start_time": "2022-11-16T21:31:45.968Z"
   },
   {
    "duration": 9,
    "start_time": "2022-11-16T21:31:45.978Z"
   },
   {
    "duration": 151,
    "start_time": "2022-11-16T21:31:45.988Z"
   },
   {
    "duration": 8,
    "start_time": "2022-11-16T21:31:46.140Z"
   },
   {
    "duration": 13,
    "start_time": "2022-11-16T21:31:46.149Z"
   },
   {
    "duration": 13,
    "start_time": "2022-11-16T21:31:46.163Z"
   },
   {
    "duration": 77,
    "start_time": "2022-11-16T21:35:55.936Z"
   },
   {
    "duration": 6,
    "start_time": "2022-11-16T21:35:58.926Z"
   },
   {
    "duration": 3,
    "start_time": "2022-11-16T21:36:41.446Z"
   },
   {
    "duration": 59,
    "start_time": "2022-11-17T09:25:00.213Z"
   },
   {
    "duration": 1421,
    "start_time": "2022-11-17T09:25:05.766Z"
   },
   {
    "duration": 78,
    "start_time": "2022-11-17T09:25:07.190Z"
   },
   {
    "duration": 14,
    "start_time": "2022-11-17T09:25:07.270Z"
   },
   {
    "duration": 12,
    "start_time": "2022-11-17T09:25:07.286Z"
   },
   {
    "duration": 105,
    "start_time": "2022-11-17T09:25:07.301Z"
   },
   {
    "duration": 84,
    "start_time": "2022-11-17T09:25:07.409Z"
   },
   {
    "duration": 8,
    "start_time": "2022-11-17T09:25:07.495Z"
   },
   {
    "duration": 372,
    "start_time": "2022-11-17T09:25:07.505Z"
   },
   {
    "duration": 377,
    "start_time": "2022-11-17T09:25:07.879Z"
   },
   {
    "duration": 292,
    "start_time": "2022-11-17T09:25:08.259Z"
   },
   {
    "duration": 426,
    "start_time": "2022-11-17T09:25:08.553Z"
   },
   {
    "duration": 238,
    "start_time": "2022-11-17T09:25:08.981Z"
   },
   {
    "duration": 351,
    "start_time": "2022-11-17T09:25:09.223Z"
   },
   {
    "duration": 188,
    "start_time": "2022-11-17T09:25:09.577Z"
   },
   {
    "duration": 196,
    "start_time": "2022-11-17T09:25:09.767Z"
   },
   {
    "duration": 7,
    "start_time": "2022-11-17T09:25:09.965Z"
   },
   {
    "duration": 16,
    "start_time": "2022-11-17T09:25:09.974Z"
   },
   {
    "duration": 177,
    "start_time": "2022-11-17T09:25:09.992Z"
   },
   {
    "duration": 247,
    "start_time": "2022-11-17T09:25:10.170Z"
   },
   {
    "duration": 22,
    "start_time": "2022-11-17T09:25:10.421Z"
   },
   {
    "duration": 26,
    "start_time": "2022-11-17T09:25:10.445Z"
   },
   {
    "duration": 176,
    "start_time": "2022-11-17T09:25:10.473Z"
   },
   {
    "duration": 10,
    "start_time": "2022-11-17T09:25:10.651Z"
   },
   {
    "duration": 27,
    "start_time": "2022-11-17T09:25:10.663Z"
   },
   {
    "duration": 57,
    "start_time": "2022-11-17T09:25:10.692Z"
   },
   {
    "duration": 249,
    "start_time": "2022-11-17T09:29:37.691Z"
   },
   {
    "duration": 370,
    "start_time": "2022-11-17T09:53:03.791Z"
   },
   {
    "duration": 159,
    "start_time": "2022-11-17T10:01:27.525Z"
   },
   {
    "duration": 1245,
    "start_time": "2022-11-17T10:01:34.898Z"
   },
   {
    "duration": 34,
    "start_time": "2022-11-17T10:01:36.145Z"
   },
   {
    "duration": 17,
    "start_time": "2022-11-17T10:01:36.181Z"
   },
   {
    "duration": 11,
    "start_time": "2022-11-17T10:01:36.201Z"
   },
   {
    "duration": 63,
    "start_time": "2022-11-17T10:01:36.221Z"
   },
   {
    "duration": 28,
    "start_time": "2022-11-17T10:01:36.286Z"
   },
   {
    "duration": 7,
    "start_time": "2022-11-17T10:01:36.317Z"
   },
   {
    "duration": 308,
    "start_time": "2022-11-17T10:01:36.326Z"
   },
   {
    "duration": 378,
    "start_time": "2022-11-17T10:01:36.637Z"
   },
   {
    "duration": 240,
    "start_time": "2022-11-17T10:01:37.021Z"
   },
   {
    "duration": 455,
    "start_time": "2022-11-17T10:01:37.264Z"
   },
   {
    "duration": 384,
    "start_time": "2022-11-17T10:01:37.722Z"
   },
   {
    "duration": 371,
    "start_time": "2022-11-17T10:01:38.108Z"
   },
   {
    "duration": 170,
    "start_time": "2022-11-17T10:01:38.481Z"
   },
   {
    "duration": 176,
    "start_time": "2022-11-17T10:01:38.653Z"
   },
   {
    "duration": 6,
    "start_time": "2022-11-17T10:01:38.831Z"
   },
   {
    "duration": 12,
    "start_time": "2022-11-17T10:01:38.838Z"
   },
   {
    "duration": 270,
    "start_time": "2022-11-17T10:01:38.852Z"
   },
   {
    "duration": 238,
    "start_time": "2022-11-17T10:01:39.124Z"
   },
   {
    "duration": 10,
    "start_time": "2022-11-17T10:01:39.364Z"
   },
   {
    "duration": 14,
    "start_time": "2022-11-17T10:01:39.376Z"
   },
   {
    "duration": 149,
    "start_time": "2022-11-17T10:01:39.391Z"
   },
   {
    "duration": 11,
    "start_time": "2022-11-17T10:01:39.541Z"
   },
   {
    "duration": 22,
    "start_time": "2022-11-17T10:01:39.554Z"
   },
   {
    "duration": 14,
    "start_time": "2022-11-17T10:01:39.578Z"
   },
   {
    "duration": 300,
    "start_time": "2022-11-17T10:49:29.171Z"
   },
   {
    "duration": 222,
    "start_time": "2022-11-17T10:49:46.077Z"
   },
   {
    "duration": 322,
    "start_time": "2022-11-17T10:54:58.537Z"
   },
   {
    "duration": 376,
    "start_time": "2022-11-17T10:55:50.112Z"
   },
   {
    "duration": 479,
    "start_time": "2022-11-17T10:57:31.790Z"
   },
   {
    "duration": 687,
    "start_time": "2022-11-17T10:57:37.535Z"
   },
   {
    "duration": 812,
    "start_time": "2022-11-17T10:57:42.703Z"
   },
   {
    "duration": 697,
    "start_time": "2022-11-17T10:57:48.191Z"
   },
   {
    "duration": 412,
    "start_time": "2022-11-17T10:57:52.372Z"
   },
   {
    "duration": 421,
    "start_time": "2022-11-17T11:01:02.112Z"
   },
   {
    "duration": 210,
    "start_time": "2022-11-17T11:31:13.784Z"
   },
   {
    "duration": 7,
    "start_time": "2022-11-17T11:32:15.751Z"
   },
   {
    "duration": 38,
    "start_time": "2022-11-17T11:32:20.033Z"
   },
   {
    "duration": 74,
    "start_time": "2022-11-17T12:28:31.380Z"
   },
   {
    "duration": 1181,
    "start_time": "2022-11-17T12:29:00.323Z"
   },
   {
    "duration": 34,
    "start_time": "2022-11-17T12:29:01.506Z"
   },
   {
    "duration": 14,
    "start_time": "2022-11-17T12:29:01.542Z"
   },
   {
    "duration": 37,
    "start_time": "2022-11-17T12:29:01.558Z"
   },
   {
    "duration": 153,
    "start_time": "2022-11-17T12:29:01.597Z"
   },
   {
    "duration": 28,
    "start_time": "2022-11-17T12:29:01.752Z"
   },
   {
    "duration": 6,
    "start_time": "2022-11-17T12:29:01.782Z"
   },
   {
    "duration": 317,
    "start_time": "2022-11-17T12:29:01.790Z"
   },
   {
    "duration": 332,
    "start_time": "2022-11-17T12:29:02.109Z"
   },
   {
    "duration": 248,
    "start_time": "2022-11-17T12:29:02.444Z"
   },
   {
    "duration": 365,
    "start_time": "2022-11-17T12:29:02.694Z"
   },
   {
    "duration": 536,
    "start_time": "2022-11-17T12:29:03.060Z"
   },
   {
    "duration": 387,
    "start_time": "2022-11-17T12:29:03.598Z"
   },
   {
    "duration": 220,
    "start_time": "2022-11-17T12:29:03.987Z"
   },
   {
    "duration": 206,
    "start_time": "2022-11-17T12:29:04.209Z"
   },
   {
    "duration": 7,
    "start_time": "2022-11-17T12:29:04.422Z"
   },
   {
    "duration": 12,
    "start_time": "2022-11-17T12:29:04.431Z"
   },
   {
    "duration": 172,
    "start_time": "2022-11-17T12:29:04.445Z"
   },
   {
    "duration": 233,
    "start_time": "2022-11-17T12:29:04.620Z"
   },
   {
    "duration": 136,
    "start_time": "2022-11-17T12:29:04.855Z"
   },
   {
    "duration": 0,
    "start_time": "2022-11-17T12:29:04.993Z"
   },
   {
    "duration": 0,
    "start_time": "2022-11-17T12:29:04.994Z"
   },
   {
    "duration": 0,
    "start_time": "2022-11-17T12:29:04.995Z"
   },
   {
    "duration": 0,
    "start_time": "2022-11-17T12:29:04.996Z"
   },
   {
    "duration": 0,
    "start_time": "2022-11-17T12:29:04.997Z"
   },
   {
    "duration": 143,
    "start_time": "2022-11-17T12:30:03.162Z"
   },
   {
    "duration": 42,
    "start_time": "2022-11-17T12:30:05.438Z"
   },
   {
    "duration": 1198,
    "start_time": "2022-11-17T12:30:16.694Z"
   },
   {
    "duration": 34,
    "start_time": "2022-11-17T12:30:17.893Z"
   },
   {
    "duration": 12,
    "start_time": "2022-11-17T12:30:17.928Z"
   },
   {
    "duration": 18,
    "start_time": "2022-11-17T12:30:17.942Z"
   },
   {
    "duration": 49,
    "start_time": "2022-11-17T12:30:17.962Z"
   },
   {
    "duration": 28,
    "start_time": "2022-11-17T12:30:18.012Z"
   },
   {
    "duration": 8,
    "start_time": "2022-11-17T12:30:18.041Z"
   },
   {
    "duration": 319,
    "start_time": "2022-11-17T12:30:18.051Z"
   },
   {
    "duration": 330,
    "start_time": "2022-11-17T12:30:18.372Z"
   },
   {
    "duration": 229,
    "start_time": "2022-11-17T12:30:18.705Z"
   },
   {
    "duration": 395,
    "start_time": "2022-11-17T12:30:18.936Z"
   },
   {
    "duration": 471,
    "start_time": "2022-11-17T12:30:19.332Z"
   },
   {
    "duration": 361,
    "start_time": "2022-11-17T12:30:19.805Z"
   },
   {
    "duration": 174,
    "start_time": "2022-11-17T12:30:20.168Z"
   },
   {
    "duration": 171,
    "start_time": "2022-11-17T12:30:20.344Z"
   },
   {
    "duration": 6,
    "start_time": "2022-11-17T12:30:20.517Z"
   },
   {
    "duration": 8,
    "start_time": "2022-11-17T12:30:20.525Z"
   },
   {
    "duration": 159,
    "start_time": "2022-11-17T12:30:20.535Z"
   },
   {
    "duration": 231,
    "start_time": "2022-11-17T12:30:20.696Z"
   },
   {
    "duration": 151,
    "start_time": "2022-11-17T12:30:20.929Z"
   },
   {
    "duration": 43,
    "start_time": "2022-11-17T12:30:21.082Z"
   },
   {
    "duration": 12,
    "start_time": "2022-11-17T12:30:21.127Z"
   },
   {
    "duration": 9,
    "start_time": "2022-11-17T12:30:21.141Z"
   },
   {
    "duration": 19,
    "start_time": "2022-11-17T12:30:21.151Z"
   },
   {
    "duration": 16,
    "start_time": "2022-11-17T12:30:21.172Z"
   },
   {
    "duration": 1171,
    "start_time": "2022-11-17T12:32:02.148Z"
   },
   {
    "duration": 34,
    "start_time": "2022-11-17T12:32:03.323Z"
   },
   {
    "duration": 23,
    "start_time": "2022-11-17T12:32:03.358Z"
   },
   {
    "duration": 12,
    "start_time": "2022-11-17T12:32:03.383Z"
   },
   {
    "duration": 64,
    "start_time": "2022-11-17T12:32:03.397Z"
   },
   {
    "duration": 28,
    "start_time": "2022-11-17T12:32:03.463Z"
   },
   {
    "duration": 7,
    "start_time": "2022-11-17T12:32:03.492Z"
   },
   {
    "duration": 305,
    "start_time": "2022-11-17T12:32:03.501Z"
   },
   {
    "duration": 369,
    "start_time": "2022-11-17T12:32:03.808Z"
   },
   {
    "duration": 275,
    "start_time": "2022-11-17T12:32:04.179Z"
   },
   {
    "duration": 353,
    "start_time": "2022-11-17T12:32:04.456Z"
   },
   {
    "duration": 497,
    "start_time": "2022-11-17T12:32:04.811Z"
   },
   {
    "duration": 360,
    "start_time": "2022-11-17T12:32:05.309Z"
   },
   {
    "duration": 181,
    "start_time": "2022-11-17T12:32:05.672Z"
   },
   {
    "duration": 186,
    "start_time": "2022-11-17T12:32:05.856Z"
   },
   {
    "duration": 5,
    "start_time": "2022-11-17T12:32:06.045Z"
   },
   {
    "duration": 8,
    "start_time": "2022-11-17T12:32:06.051Z"
   },
   {
    "duration": 180,
    "start_time": "2022-11-17T12:32:06.061Z"
   },
   {
    "duration": 223,
    "start_time": "2022-11-17T12:32:06.243Z"
   },
   {
    "duration": 184,
    "start_time": "2022-11-17T12:32:06.468Z"
   },
   {
    "duration": 27,
    "start_time": "2022-11-17T12:32:06.654Z"
   },
   {
    "duration": 235,
    "start_time": "2022-11-17T12:32:06.683Z"
   },
   {
    "duration": 9,
    "start_time": "2022-11-17T12:32:06.920Z"
   },
   {
    "duration": 20,
    "start_time": "2022-11-17T12:32:06.931Z"
   },
   {
    "duration": 14,
    "start_time": "2022-11-17T12:32:06.953Z"
   }
  ],
  "kernelspec": {
   "display_name": "Python 3 (ipykernel)",
   "language": "python",
   "name": "python3"
  },
  "language_info": {
   "codemirror_mode": {
    "name": "ipython",
    "version": 3
   },
   "file_extension": ".py",
   "mimetype": "text/x-python",
   "name": "python",
   "nbconvert_exporter": "python",
   "pygments_lexer": "ipython3",
   "version": "3.9.12"
  },
  "toc": {
   "base_numbering": 1,
   "nav_menu": {},
   "number_sections": false,
   "sideBar": true,
   "skip_h1_title": false,
   "title_cell": "Table of Contents",
   "title_sidebar": "Contents",
   "toc_cell": false,
   "toc_position": {
    "height": "calc(100% - 180px)",
    "left": "10px",
    "top": "150px",
    "width": "169.347px"
   },
   "toc_section_display": true,
   "toc_window_display": true
  }
 },
 "nbformat": 4,
 "nbformat_minor": 2
}
